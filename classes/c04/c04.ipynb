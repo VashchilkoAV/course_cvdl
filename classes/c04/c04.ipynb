{
 "cells": [
  {
   "cell_type": "markdown",
   "id": "5e9f47f2-d57f-4f52-be0c-6243840ba3a8",
   "metadata": {},
   "source": [
    "## Занятие 4. Разработка ml проектов: хорошие и плохие практики\n",
    "На занятии 3 мы написали пайплайн обучения семантического сегментатора подводных фото в одном jupyter ноутбуке.\n",
    "\n",
    "На этом занятии мы оформим этот пайплайн в ml проект так, чтобы его можно было поддерживать и развивать.\n"
   ]
  },
  {
   "cell_type": "code",
   "execution_count": 1,
   "id": "f474e98a-fa1b-42a3-a808-e5d6ffb96fda",
   "metadata": {},
   "outputs": [
    {
     "data": {
      "text/plain": [
       "PosixPath('/home/alexander/computerScience/phystech/9sem/abbyy/course_cvdl/classes/c04')"
      ]
     },
     "execution_count": 1,
     "metadata": {},
     "output_type": "execute_result"
    }
   ],
   "source": [
    "from pathlib import Path\n",
    "ROOT_PATH = Path().absolute()\n",
    "assert ROOT_PATH.name == 'c04', ROOT_PATH.name\n",
    "ROOT_PATH"
   ]
  },
  {
   "cell_type": "markdown",
   "id": "19cafa43-251b-40c3-8151-7114fded5a6d",
   "metadata": {},
   "source": [
    "### Плохая практика 1: использование jupyter ноутбуков в качестве основного средства разработки\n",
    "- https://www.kdnuggets.com/2019/11/notebook-anti-pattern.html\n",
    "- https://analyticsindiamag.com/an-argument-against-using-jupyter-notebook-for-machine-learning/\n",
    "- https://medium.com/skyline-ai/jupyter-notebook-is-the-cancer-of-ml-engineering-70b98685ee71\n",
    "\n",
    "Главные проблемы:\n",
    "- нелинейность исполнения кода (сложно читать и сложно воспроизводить)\n",
    "- невозможность тестирования\n",
    "- нечитыемые diff-ы в git (сложно разобраться в истории и работать совместно)\n",
    "\n",
    "Jupyter ноутбуки хорошо подходят чтобы:\n",
    "- визуализировать данные\n",
    "- набросать прототип\n",
    "- поделиться однократным результатом\n",
    "\n",
    "\n",
    "#### **Решение**: \n",
    "Использовать стандартные инструменты разработки ЯП, например - Python пакеты."
   ]
  },
  {
   "cell_type": "code",
   "execution_count": 2,
   "id": "7c30f053-ecfb-4cdf-8054-96544bef8e13",
   "metadata": {},
   "outputs": [],
   "source": [
    "# Python ищет пакеты в PYTHONPATH, если пакет не найден - то получаем ModuleNotFound\n",
    "from suim_segmentation.data import SuimDataset"
   ]
  },
  {
   "cell_type": "code",
   "execution_count": 3,
   "id": "95fa5c9a-2e90-40ba-b050-61b163fae416",
   "metadata": {},
   "outputs": [
    {
     "name": "stdout",
     "output_type": "stream",
     "text": [
      "/home/alexander/computerScience/phystech/9sem/abbyy/course_cvdl/classes/c04/package\n"
     ]
    }
   ],
   "source": [
    "cd package"
   ]
  },
  {
   "cell_type": "code",
   "execution_count": 4,
   "id": "2b3d451e-4c00-4eef-be47-c8b66d06c77b",
   "metadata": {},
   "outputs": [],
   "source": [
    "# В PYTHONPATH всегда содержится current_dir, так что из родительской директории можно импортировать пакет\n",
    "from suim_segmentation.data import SuimDataset"
   ]
  },
  {
   "cell_type": "code",
   "execution_count": 5,
   "id": "136bd506-722c-4b8f-abe3-17af6d715975",
   "metadata": {},
   "outputs": [
    {
     "data": {
      "text/plain": [
       "'/home/alexander/computerScience/phystech/9sem/abbyy/course_cvdl/classes/c04/package/suim_segmentation/data.py'"
      ]
     },
     "execution_count": 5,
     "metadata": {},
     "output_type": "execute_result"
    }
   ],
   "source": [
    "from suim_segmentation import data as suim_data\n",
    "suim_data.__file__"
   ]
  },
  {
   "cell_type": "code",
   "execution_count": 6,
   "id": "877939a2",
   "metadata": {},
   "outputs": [
    {
     "name": "stdout",
     "output_type": "stream",
     "text": [
      "/home/alexander/computerScience/phystech/9sem/abbyy/course_cvdl/classes/c04\n"
     ]
    }
   ],
   "source": [
    "cd .."
   ]
  },
  {
   "cell_type": "markdown",
   "id": "ee323b2e-bb7a-4e43-9e21-95f3cc701a80",
   "metadata": {},
   "source": [
    "Если пакет находится в текущей папке, то его можно импортировать.\n",
    "\n",
    "Это не очень удобно - код можно будет вызывать только при определенной текущей директории.\n",
    "\n",
    "**Правильное решение - сделать пакет устанавливаемым!**"
   ]
  },
  {
   "cell_type": "markdown",
   "id": "98e5b14e-4368-444d-b262-909b271795a5",
   "metadata": {},
   "source": [
    "### 1.1 Пакетируем код"
   ]
  },
  {
   "cell_type": "markdown",
   "id": "ef4531b8-82d7-4b3c-a25c-fcd108be5dc0",
   "metadata": {},
   "source": [
    "На сегодня (2022 год) рекомендуется пакетировать код с помощью `pyproject.toml` файла:\n",
    "- поддерживает разные системы сборки (не только setuptools)\n",
    "- поддерживает C++ расширения\n",
    "- стандартизирован в PEP-518, PEP-621\n",
    "\n",
    "Есть и другие [способы](https://packaging.python.org/en/latest/glossary/?highlight=setup.py#term-setup.py), которые пока более распространены, но `pyproject.toml` является рекомендуемым"
   ]
  },
  {
   "cell_type": "code",
   "execution_count": 7,
   "id": "e04ff4e3-d121-43d6-892b-451b8f2f726e",
   "metadata": {},
   "outputs": [
    {
     "name": "stdout",
     "output_type": "stream",
     "text": [
      "\u001b[0m\u001b[01;34mdata\u001b[0m/  pyproject.toml  \u001b[01;34msuim_segmentation\u001b[0m/  \u001b[01;34msuim_segmentation.egg-info\u001b[0m/\n"
     ]
    }
   ],
   "source": [
    "ls package"
   ]
  },
  {
   "cell_type": "code",
   "execution_count": 8,
   "id": "9f740855-b6c8-4d63-b1fa-613c154432ae",
   "metadata": {},
   "outputs": [
    {
     "name": "stdout",
     "output_type": "stream",
     "text": [
      "Overwriting /home/alexander/computerScience/phystech/9sem/abbyy/course_cvdl/classes/c04/package/pyproject.toml\n"
     ]
    }
   ],
   "source": [
    "%%writefile {str(ROOT_PATH / 'package' / 'pyproject.toml')}\n",
    "\n",
    "[project]\n",
    "name = \"suim_segmentation\"\n",
    "description = \"ML project example package\"\n",
    "version = \"0.1.0\""
   ]
  },
  {
   "cell_type": "markdown",
   "id": "311d4f38-4e50-4102-bd49-aefa9939d83f",
   "metadata": {},
   "source": [
    "### Задачка 1\n",
    "Пользуясь гайдом https://packaging.python.org/en/latest/tutorials/packaging-projects/#creating-pyproject-toml, заполните pyproject.toml так, чтобы пакет можно было установить.\n",
    "\n",
    "*Возможно, нужно будет обновить pip: `python -m pip install -U pip`*"
   ]
  },
  {
   "cell_type": "code",
   "execution_count": 11,
   "id": "5bd271d5",
   "metadata": {},
   "outputs": [
    {
     "name": "stdout",
     "output_type": "stream",
     "text": [
      "c04.ipynb  \u001b[0m\u001b[01;34mdata\u001b[0m/  dvc_scheme.png  \u001b[01;34mpackage\u001b[0m/  README.md\n"
     ]
    }
   ],
   "source": []
  },
  {
   "cell_type": "code",
   "execution_count": 12,
   "id": "eabdc02f",
   "metadata": {},
   "outputs": [
    {
     "name": "stdout",
     "output_type": "stream",
     "text": [
      "Looking in indexes: https://pypi.org/simple, https://pypi.ngc.nvidia.com\n",
      "Obtaining file:///home/alexander/computerScience/phystech/9sem/abbyy/course_cvdl/classes/c04/package\n",
      "  Installing build dependencies ... \u001b[?25ldone\n",
      "\u001b[?25h  Checking if build backend supports build_editable ... \u001b[?25ldone\n",
      "\u001b[?25h  Getting requirements to build editable ... \u001b[?25lerror\n",
      "  \u001b[1;31merror\u001b[0m: \u001b[1msubprocess-exited-with-error\u001b[0m\n",
      "  \n",
      "  \u001b[31m×\u001b[0m \u001b[32mGetting requirements to build editable\u001b[0m did not run successfully.\n",
      "  \u001b[31m│\u001b[0m exit code: \u001b[1;36m1\u001b[0m\n",
      "  \u001b[31m╰─>\u001b[0m \u001b[31m[14 lines of output]\u001b[0m\n",
      "  \u001b[31m   \u001b[0m error: Multiple top-level packages discovered in a flat-layout: ['data', 'suim_segmentation'].\n",
      "  \u001b[31m   \u001b[0m \n",
      "  \u001b[31m   \u001b[0m To avoid accidental inclusion of unwanted files or directories,\n",
      "  \u001b[31m   \u001b[0m setuptools will not proceed with this build.\n",
      "  \u001b[31m   \u001b[0m \n",
      "  \u001b[31m   \u001b[0m If you are trying to create a single distribution with multiple packages\n",
      "  \u001b[31m   \u001b[0m on purpose, you should not rely on automatic discovery.\n",
      "  \u001b[31m   \u001b[0m Instead, consider the following options:\n",
      "  \u001b[31m   \u001b[0m \n",
      "  \u001b[31m   \u001b[0m 1. set up custom discovery (`find` directive with `include` or `exclude`)\n",
      "  \u001b[31m   \u001b[0m 2. use a `src-layout`\n",
      "  \u001b[31m   \u001b[0m 3. explicitly set `py_modules` or `packages` with a list of names\n",
      "  \u001b[31m   \u001b[0m \n",
      "  \u001b[31m   \u001b[0m To find more information, look for \"package discovery\" on setuptools docs.\n",
      "  \u001b[31m   \u001b[0m \u001b[31m[end of output]\u001b[0m\n",
      "  \n",
      "  \u001b[1;35mnote\u001b[0m: This error originates from a subprocess, and is likely not a problem with pip.\n",
      "\u001b[?25h\u001b[1;31merror\u001b[0m: \u001b[1msubprocess-exited-with-error\u001b[0m\n",
      "\n",
      "\u001b[31m×\u001b[0m \u001b[32mGetting requirements to build editable\u001b[0m did not run successfully.\n",
      "\u001b[31m│\u001b[0m exit code: \u001b[1;36m1\u001b[0m\n",
      "\u001b[31m╰─>\u001b[0m See above for output.\n",
      "\n",
      "\u001b[1;35mnote\u001b[0m: This error originates from a subprocess, and is likely not a problem with pip.\n"
     ]
    }
   ],
   "source": [
    "! pip install -e ./package/"
   ]
  },
  {
   "cell_type": "markdown",
   "id": "60c744fe-cf03-46fd-8db8-581e533e2360",
   "metadata": {},
   "source": [
    "Пакеты c `pyproject.toml` (или `setup.py`) можно устанавливать через git:\n",
    "`TODO`"
   ]
  },
  {
   "cell_type": "markdown",
   "id": "8dbcfc22-045d-45db-b973-a85d5bb051c0",
   "metadata": {},
   "source": [
    "### 1.1 Проверяем код на PEP-8 с помощью `pylint`\n",
    "Pylint - инструмент для проверки кода на соответствие PEP-8.\n",
    "\n",
    "`pip install pylint`\n",
    "\n",
    "Вывод всех нарушений PEP8 и оценки вашего кода: `python -m pylint suim_segmentation`\n",
    "\n",
    "Вывод только ошибок: `python -m pylint suim_segmentation/ -E`"
   ]
  },
  {
   "cell_type": "code",
   "execution_count": 13,
   "id": "062383ca-55c5-4351-b58a-b5f10be2b037",
   "metadata": {},
   "outputs": [
    {
     "name": "stdout",
     "output_type": "stream",
     "text": [
      "/home/alexander/computerScience/phystech/9sem/abbyy/course_cvdl/classes/c04/package\n"
     ]
    }
   ],
   "source": [
    "cd package/"
   ]
  },
  {
   "cell_type": "code",
   "execution_count": 14,
   "id": "cea5a1ee-1dac-4cb1-b7c6-fa48235473db",
   "metadata": {},
   "outputs": [
    {
     "name": "stdout",
     "output_type": "stream",
     "text": [
      "************* Module suim_segmentation.trainer\n",
      "suim_segmentation/trainer.py:1:0: C0114: Missing module docstring (missing-module-docstring)\n",
      "suim_segmentation/trainer.py:9:0: C0115: Missing class docstring (missing-class-docstring)\n",
      "suim_segmentation/trainer.py:9:0: R0902: Too many instance attributes (8/7) (too-many-instance-attributes)\n",
      "suim_segmentation/trainer.py:32:4: C0116: Missing function or method docstring (missing-function-docstring)\n",
      "suim_segmentation/trainer.py:38:21: C0103: Variable name \"y\" doesn't conform to snake_case naming style (invalid-name)\n",
      "suim_segmentation/trainer.py:39:15: C0103: Variable name \"y\" doesn't conform to snake_case naming style (invalid-name)\n",
      "suim_segmentation/trainer.py:40:12: C0103: Variable name \"yp\" doesn't conform to snake_case naming style (invalid-name)\n",
      "suim_segmentation/trainer.py:60:12: C0103: Variable name \"e\" doesn't conform to snake_case naming style (invalid-name)\n",
      "suim_segmentation/trainer.py:61:18: W1309: Using an f-string that does not have any interpolated variables (f-string-without-interpolation)\n",
      "suim_segmentation/trainer.py:66:18: W1309: Using an f-string that does not have any interpolated variables (f-string-without-interpolation)\n",
      "suim_segmentation/trainer.py:73:18: W1309: Using an f-string that does not have any interpolated variables (f-string-without-interpolation)\n",
      "suim_segmentation/trainer.py:60:12: W0612: Unused variable 'e' (unused-variable)\n",
      "************* Module suim_segmentation.metrics\n",
      "suim_segmentation/metrics.py:1:0: C0114: Missing module docstring (missing-module-docstring)\n",
      "suim_segmentation/metrics.py:5:0: C0115: Missing class docstring (missing-class-docstring)\n",
      "suim_segmentation/metrics.py:6:4: C0116: Missing function or method docstring (missing-function-docstring)\n",
      "suim_segmentation/metrics.py:8:8: C0103: Variable name \"tp\" doesn't conform to snake_case naming style (invalid-name)\n",
      "suim_segmentation/metrics.py:6:4: R0201: Method could be a function (no-self-use)\n",
      "************* Module suim_segmentation.model\n",
      "suim_segmentation/model.py:1:0: C0114: Missing module docstring (missing-module-docstring)\n",
      "suim_segmentation/model.py:7:0: C0115: Missing class docstring (missing-class-docstring)\n",
      "suim_segmentation/model.py:20:4: C0116: Missing function or method docstring (missing-function-docstring)\n",
      "************* Module suim_segmentation.loss\n",
      "suim_segmentation/loss.py:1:0: C0114: Missing module docstring (missing-module-docstring)\n",
      "suim_segmentation/loss.py:5:0: C0115: Missing class docstring (missing-class-docstring)\n",
      "suim_segmentation/loss.py:13:12: C0103: Variable name \"b\" doesn't conform to snake_case naming style (invalid-name)\n",
      "suim_segmentation/loss.py:13:28: C0103: Variable name \"h\" doesn't conform to snake_case naming style (invalid-name)\n",
      "suim_segmentation/loss.py:13:31: C0103: Variable name \"w\" doesn't conform to snake_case naming style (invalid-name)\n",
      "suim_segmentation/loss.py:18:8: C0103: Variable name \"tp\" doesn't conform to snake_case naming style (invalid-name)\n",
      "suim_segmentation/loss.py:19:8: C0103: Variable name \"fp\" doesn't conform to snake_case naming style (invalid-name)\n",
      "suim_segmentation/loss.py:20:8: C0103: Variable name \"fn\" doesn't conform to snake_case naming style (invalid-name)\n",
      "suim_segmentation/loss.py:13:12: W0612: Unused variable 'b' (unused-variable)\n",
      "suim_segmentation/loss.py:13:28: W0612: Unused variable 'h' (unused-variable)\n",
      "suim_segmentation/loss.py:13:31: W0612: Unused variable 'w' (unused-variable)\n",
      "suim_segmentation/loss.py:6:4: R0201: Method could be a function (no-self-use)\n",
      "suim_segmentation/loss.py:2:0: W0611: Unused nn imported from torch (unused-import)\n",
      "************* Module suim_segmentation.run\n",
      "suim_segmentation/run.py:25:0: C0303: Trailing whitespace (trailing-whitespace)\n",
      "suim_segmentation/run.py:27:75: C0303: Trailing whitespace (trailing-whitespace)\n",
      "suim_segmentation/run.py:30:73: C0303: Trailing whitespace (trailing-whitespace)\n",
      "suim_segmentation/run.py:33:0: C0303: Trailing whitespace (trailing-whitespace)\n",
      "suim_segmentation/run.py:36:0: C0303: Trailing whitespace (trailing-whitespace)\n",
      "suim_segmentation/run.py:46:0: C0303: Trailing whitespace (trailing-whitespace)\n",
      "suim_segmentation/run.py:48:0: C0303: Trailing whitespace (trailing-whitespace)\n",
      "suim_segmentation/run.py:55:73: C0303: Trailing whitespace (trailing-whitespace)\n",
      "suim_segmentation/run.py:58:0: C0303: Trailing whitespace (trailing-whitespace)\n",
      "suim_segmentation/run.py:1:0: C0114: Missing module docstring (missing-module-docstring)\n",
      "suim_segmentation/run.py:17:0: C0116: Missing function or method docstring (missing-function-docstring)\n",
      "suim_segmentation/run.py:17:17: W0621: Redefining name 'args' from outer scope (line 77) (redefined-outer-name)\n",
      "suim_segmentation/run.py:17:0: R0914: Too many local variables (22/15) (too-many-locals)\n",
      "suim_segmentation/run.py:49:8: C0103: Variable name \"e\" doesn't conform to snake_case naming style (invalid-name)\n",
      "suim_segmentation/run.py:64:0: C0116: Missing function or method docstring (missing-function-docstring)\n",
      "suim_segmentation/run.py:8:0: W0611: Unused tqdm imported from tqdm (unused-import)\n",
      "************* Module suim_segmentation.data\n",
      "suim_segmentation/data.py:1:0: C0114: Missing module docstring (missing-module-docstring)\n",
      "suim_segmentation/data.py:13:0: C0115: Missing class docstring (missing-class-docstring)\n",
      "suim_segmentation/data.py:109:8: C0103: Attribute name \"n\" doesn't conform to snake_case naming style (invalid-name)\n",
      "suim_segmentation/data.py:104:0: C0115: Missing class docstring (missing-class-docstring)\n",
      "suim_segmentation/data.py:105:4: W0231: __init__ method from base class 'Sampler' is not called (super-init-not-called)\n",
      "suim_segmentation/data.py:106:36: C0103: Variable name \"n\" doesn't conform to snake_case naming style (invalid-name)\n",
      "suim_segmentation/data.py:120:8: R1705: Unnecessary \"else\" after \"return\" (no-else-return)\n",
      "\n",
      "------------------------------------------------------------------\n",
      "Your code has been rated at 7.35/10 (previous run: 7.50/10, -0.15)\n",
      "\n",
      "\u001b[0m"
     ]
    }
   ],
   "source": [
    "! python -m pylint suim_segmentation"
   ]
  },
  {
   "cell_type": "markdown",
   "id": "5fdf2af7-b1c0-44ae-a1cd-5be208025b99",
   "metadata": {},
   "source": [
    "### 1.2 Форматируем код с помощью `black`\n",
    "Часть ошибок форматирования можно поправить автоматически с помощью black.\n",
    "`pip install black`\n",
    "\n",
    "Форматирование: `python -m black suim_segmentation/`"
   ]
  },
  {
   "cell_type": "code",
   "execution_count": 15,
   "id": "1c64f984-69ab-4222-85a6-664a253c97fa",
   "metadata": {},
   "outputs": [
    {
     "name": "stdout",
     "output_type": "stream",
     "text": [
      "\u001b[1mreformatted suim_segmentation/run.py\u001b[0m\n",
      "\n",
      "\u001b[1mAll done! ✨ 🍰 ✨\u001b[0m\n",
      "\u001b[34m\u001b[1m1 file \u001b[0m\u001b[1mreformatted\u001b[0m, \u001b[34m6 files \u001b[0mleft unchanged.\n"
     ]
    }
   ],
   "source": [
    "! python -m black suim_segmentation/"
   ]
  },
  {
   "cell_type": "code",
   "execution_count": 16,
   "id": "522e0dfb-9c78-4d9e-93b0-bde1c5cfa38c",
   "metadata": {},
   "outputs": [
    {
     "name": "stdout",
     "output_type": "stream",
     "text": [
      "************* Module suim_segmentation.trainer\n",
      "suim_segmentation/trainer.py:1:0: C0114: Missing module docstring (missing-module-docstring)\n",
      "suim_segmentation/trainer.py:9:0: C0115: Missing class docstring (missing-class-docstring)\n",
      "suim_segmentation/trainer.py:9:0: R0902: Too many instance attributes (8/7) (too-many-instance-attributes)\n",
      "suim_segmentation/trainer.py:32:4: C0116: Missing function or method docstring (missing-function-docstring)\n",
      "suim_segmentation/trainer.py:38:21: C0103: Variable name \"y\" doesn't conform to snake_case naming style (invalid-name)\n",
      "suim_segmentation/trainer.py:39:15: C0103: Variable name \"y\" doesn't conform to snake_case naming style (invalid-name)\n",
      "suim_segmentation/trainer.py:40:12: C0103: Variable name \"yp\" doesn't conform to snake_case naming style (invalid-name)\n",
      "suim_segmentation/trainer.py:60:12: C0103: Variable name \"e\" doesn't conform to snake_case naming style (invalid-name)\n",
      "suim_segmentation/trainer.py:61:18: W1309: Using an f-string that does not have any interpolated variables (f-string-without-interpolation)\n",
      "suim_segmentation/trainer.py:66:18: W1309: Using an f-string that does not have any interpolated variables (f-string-without-interpolation)\n",
      "suim_segmentation/trainer.py:73:18: W1309: Using an f-string that does not have any interpolated variables (f-string-without-interpolation)\n",
      "suim_segmentation/trainer.py:60:12: W0612: Unused variable 'e' (unused-variable)\n",
      "************* Module suim_segmentation.metrics\n",
      "suim_segmentation/metrics.py:1:0: C0114: Missing module docstring (missing-module-docstring)\n",
      "suim_segmentation/metrics.py:5:0: C0115: Missing class docstring (missing-class-docstring)\n",
      "suim_segmentation/metrics.py:6:4: C0116: Missing function or method docstring (missing-function-docstring)\n",
      "suim_segmentation/metrics.py:8:8: C0103: Variable name \"tp\" doesn't conform to snake_case naming style (invalid-name)\n",
      "suim_segmentation/metrics.py:6:4: R0201: Method could be a function (no-self-use)\n",
      "************* Module suim_segmentation.model\n",
      "suim_segmentation/model.py:1:0: C0114: Missing module docstring (missing-module-docstring)\n",
      "suim_segmentation/model.py:7:0: C0115: Missing class docstring (missing-class-docstring)\n",
      "suim_segmentation/model.py:20:4: C0116: Missing function or method docstring (missing-function-docstring)\n",
      "************* Module suim_segmentation.loss\n",
      "suim_segmentation/loss.py:1:0: C0114: Missing module docstring (missing-module-docstring)\n",
      "suim_segmentation/loss.py:5:0: C0115: Missing class docstring (missing-class-docstring)\n",
      "suim_segmentation/loss.py:13:12: C0103: Variable name \"b\" doesn't conform to snake_case naming style (invalid-name)\n",
      "suim_segmentation/loss.py:13:28: C0103: Variable name \"h\" doesn't conform to snake_case naming style (invalid-name)\n",
      "suim_segmentation/loss.py:13:31: C0103: Variable name \"w\" doesn't conform to snake_case naming style (invalid-name)\n",
      "suim_segmentation/loss.py:18:8: C0103: Variable name \"tp\" doesn't conform to snake_case naming style (invalid-name)\n",
      "suim_segmentation/loss.py:19:8: C0103: Variable name \"fp\" doesn't conform to snake_case naming style (invalid-name)\n",
      "suim_segmentation/loss.py:20:8: C0103: Variable name \"fn\" doesn't conform to snake_case naming style (invalid-name)\n",
      "suim_segmentation/loss.py:13:12: W0612: Unused variable 'b' (unused-variable)\n",
      "suim_segmentation/loss.py:13:28: W0612: Unused variable 'h' (unused-variable)\n",
      "suim_segmentation/loss.py:13:31: W0612: Unused variable 'w' (unused-variable)\n",
      "suim_segmentation/loss.py:6:4: R0201: Method could be a function (no-self-use)\n",
      "suim_segmentation/loss.py:2:0: W0611: Unused nn imported from torch (unused-import)\n",
      "************* Module suim_segmentation.run\n",
      "suim_segmentation/run.py:1:0: C0114: Missing module docstring (missing-module-docstring)\n",
      "suim_segmentation/run.py:16:0: C0116: Missing function or method docstring (missing-function-docstring)\n",
      "suim_segmentation/run.py:16:17: W0621: Redefining name 'args' from outer scope (line 94) (redefined-outer-name)\n",
      "suim_segmentation/run.py:16:0: R0914: Too many local variables (22/15) (too-many-locals)\n",
      "suim_segmentation/run.py:60:8: C0103: Variable name \"e\" doesn't conform to snake_case naming style (invalid-name)\n",
      "suim_segmentation/run.py:81:0: C0116: Missing function or method docstring (missing-function-docstring)\n",
      "suim_segmentation/run.py:7:0: W0611: Unused tqdm imported from tqdm (unused-import)\n",
      "************* Module suim_segmentation.data\n",
      "suim_segmentation/data.py:1:0: C0114: Missing module docstring (missing-module-docstring)\n",
      "suim_segmentation/data.py:13:0: C0115: Missing class docstring (missing-class-docstring)\n",
      "suim_segmentation/data.py:109:8: C0103: Attribute name \"n\" doesn't conform to snake_case naming style (invalid-name)\n",
      "suim_segmentation/data.py:104:0: C0115: Missing class docstring (missing-class-docstring)\n",
      "suim_segmentation/data.py:105:4: W0231: __init__ method from base class 'Sampler' is not called (super-init-not-called)\n",
      "suim_segmentation/data.py:106:36: C0103: Variable name \"n\" doesn't conform to snake_case naming style (invalid-name)\n",
      "suim_segmentation/data.py:120:8: R1705: Unnecessary \"else\" after \"return\" (no-else-return)\n",
      "\n",
      "------------------------------------------------------------------\n",
      "Your code has been rated at 7.77/10 (previous run: 7.35/10, +0.43)\n",
      "\n",
      "\u001b[0m"
     ]
    }
   ],
   "source": [
    "! python -m pylint suim_segmentation"
   ]
  },
  {
   "cell_type": "markdown",
   "id": "a24f24f1-c7d4-4f34-a38e-95312dc9b5da",
   "metadata": {},
   "source": [
    "### 1.3 Тюним правил PEP-8 под свой проект\n",
    "Для pylint можно создать набор правил, по умолчанию - файл `.pylintrc`"
   ]
  },
  {
   "cell_type": "code",
   "execution_count": 17,
   "id": "b554cabd-92dd-480d-beee-109cc7b38804",
   "metadata": {},
   "outputs": [
    {
     "data": {
      "text/plain": [
       "'/home/alexander/computerScience/phystech/9sem/abbyy/course_cvdl/classes/c04/package/.pylintrc'"
      ]
     },
     "execution_count": 17,
     "metadata": {},
     "output_type": "execute_result"
    }
   ],
   "source": [
    "str(ROOT_PATH / 'package' / '.pylintrc')"
   ]
  },
  {
   "cell_type": "code",
   "execution_count": 18,
   "id": "49469e31-c112-427b-b013-5331c8ff36e1",
   "metadata": {},
   "outputs": [
    {
     "name": "stdout",
     "output_type": "stream",
     "text": [
      "Overwriting /home/alexander/computerScience/phystech/9sem/abbyy/course_cvdl/classes/c04/package/.pylintrc\n"
     ]
    }
   ],
   "source": [
    "%%writefile {str(ROOT_PATH / 'package' / '.pylintrc')}\n",
    "\n",
    "[TYPECHECK]\n",
    "# ignore torch member warnings - they are broken\n",
    "generated-members=numpy.*, torch.*\n",
    "\n",
    "[FORMAT]\n",
    "# allow x as a good name\n",
    "good-names=i,j,k,x\n",
    "# increase max length\n",
    "max-line-length=128"
   ]
  },
  {
   "cell_type": "code",
   "execution_count": 19,
   "id": "9e8af41f-f33f-40a9-94b0-9c4aff846dc7",
   "metadata": {},
   "outputs": [
    {
     "name": "stdout",
     "output_type": "stream",
     "text": [
      "************* Module suim_segmentation.trainer\n",
      "suim_segmentation/trainer.py:1:0: C0114: Missing module docstring (missing-module-docstring)\n",
      "suim_segmentation/trainer.py:9:0: C0115: Missing class docstring (missing-class-docstring)\n",
      "suim_segmentation/trainer.py:9:0: R0902: Too many instance attributes (8/7) (too-many-instance-attributes)\n",
      "suim_segmentation/trainer.py:32:4: C0116: Missing function or method docstring (missing-function-docstring)\n",
      "suim_segmentation/trainer.py:38:21: C0103: Variable name \"y\" doesn't conform to snake_case naming style (invalid-name)\n",
      "suim_segmentation/trainer.py:39:15: C0103: Variable name \"y\" doesn't conform to snake_case naming style (invalid-name)\n",
      "suim_segmentation/trainer.py:40:12: C0103: Variable name \"yp\" doesn't conform to snake_case naming style (invalid-name)\n",
      "suim_segmentation/trainer.py:60:12: C0103: Variable name \"e\" doesn't conform to snake_case naming style (invalid-name)\n",
      "suim_segmentation/trainer.py:61:18: W1309: Using an f-string that does not have any interpolated variables (f-string-without-interpolation)\n",
      "suim_segmentation/trainer.py:66:18: W1309: Using an f-string that does not have any interpolated variables (f-string-without-interpolation)\n",
      "suim_segmentation/trainer.py:73:18: W1309: Using an f-string that does not have any interpolated variables (f-string-without-interpolation)\n",
      "suim_segmentation/trainer.py:60:12: W0612: Unused variable 'e' (unused-variable)\n",
      "************* Module suim_segmentation.metrics\n",
      "suim_segmentation/metrics.py:1:0: C0114: Missing module docstring (missing-module-docstring)\n",
      "suim_segmentation/metrics.py:5:0: C0115: Missing class docstring (missing-class-docstring)\n",
      "suim_segmentation/metrics.py:6:4: C0116: Missing function or method docstring (missing-function-docstring)\n",
      "suim_segmentation/metrics.py:8:8: C0103: Variable name \"tp\" doesn't conform to snake_case naming style (invalid-name)\n",
      "suim_segmentation/metrics.py:6:4: R0201: Method could be a function (no-self-use)\n",
      "************* Module suim_segmentation.model\n",
      "suim_segmentation/model.py:1:0: C0114: Missing module docstring (missing-module-docstring)\n",
      "suim_segmentation/model.py:7:0: C0115: Missing class docstring (missing-class-docstring)\n",
      "suim_segmentation/model.py:20:4: C0116: Missing function or method docstring (missing-function-docstring)\n",
      "************* Module suim_segmentation.loss\n",
      "suim_segmentation/loss.py:1:0: C0114: Missing module docstring (missing-module-docstring)\n",
      "suim_segmentation/loss.py:5:0: C0115: Missing class docstring (missing-class-docstring)\n",
      "suim_segmentation/loss.py:13:12: C0103: Variable name \"b\" doesn't conform to snake_case naming style (invalid-name)\n",
      "suim_segmentation/loss.py:13:28: C0103: Variable name \"h\" doesn't conform to snake_case naming style (invalid-name)\n",
      "suim_segmentation/loss.py:13:31: C0103: Variable name \"w\" doesn't conform to snake_case naming style (invalid-name)\n",
      "suim_segmentation/loss.py:18:8: C0103: Variable name \"tp\" doesn't conform to snake_case naming style (invalid-name)\n",
      "suim_segmentation/loss.py:19:8: C0103: Variable name \"fp\" doesn't conform to snake_case naming style (invalid-name)\n",
      "suim_segmentation/loss.py:20:8: C0103: Variable name \"fn\" doesn't conform to snake_case naming style (invalid-name)\n",
      "suim_segmentation/loss.py:13:12: W0612: Unused variable 'b' (unused-variable)\n",
      "suim_segmentation/loss.py:13:28: W0612: Unused variable 'h' (unused-variable)\n",
      "suim_segmentation/loss.py:13:31: W0612: Unused variable 'w' (unused-variable)\n",
      "suim_segmentation/loss.py:6:4: R0201: Method could be a function (no-self-use)\n",
      "suim_segmentation/loss.py:2:0: W0611: Unused nn imported from torch (unused-import)\n",
      "************* Module suim_segmentation.run\n",
      "suim_segmentation/run.py:1:0: C0114: Missing module docstring (missing-module-docstring)\n",
      "suim_segmentation/run.py:16:0: C0116: Missing function or method docstring (missing-function-docstring)\n",
      "suim_segmentation/run.py:16:17: W0621: Redefining name 'args' from outer scope (line 94) (redefined-outer-name)\n",
      "suim_segmentation/run.py:16:0: R0914: Too many local variables (22/15) (too-many-locals)\n",
      "suim_segmentation/run.py:60:8: C0103: Variable name \"e\" doesn't conform to snake_case naming style (invalid-name)\n",
      "suim_segmentation/run.py:81:0: C0116: Missing function or method docstring (missing-function-docstring)\n",
      "suim_segmentation/run.py:7:0: W0611: Unused tqdm imported from tqdm (unused-import)\n",
      "************* Module suim_segmentation.data\n",
      "suim_segmentation/data.py:1:0: C0114: Missing module docstring (missing-module-docstring)\n",
      "suim_segmentation/data.py:13:0: C0115: Missing class docstring (missing-class-docstring)\n",
      "suim_segmentation/data.py:109:8: C0103: Attribute name \"n\" doesn't conform to snake_case naming style (invalid-name)\n",
      "suim_segmentation/data.py:104:0: C0115: Missing class docstring (missing-class-docstring)\n",
      "suim_segmentation/data.py:105:4: W0231: __init__ method from base class 'Sampler' is not called (super-init-not-called)\n",
      "suim_segmentation/data.py:106:36: C0103: Variable name \"n\" doesn't conform to snake_case naming style (invalid-name)\n",
      "suim_segmentation/data.py:120:8: R1705: Unnecessary \"else\" after \"return\" (no-else-return)\n",
      "\n",
      "------------------------------------------------------------------\n",
      "Your code has been rated at 7.77/10 (previous run: 7.77/10, +0.00)\n",
      "\n",
      "\u001b[0m"
     ]
    }
   ],
   "source": [
    "! python -m pylint suim_segmentation"
   ]
  },
  {
   "cell_type": "markdown",
   "id": "b9badc7b-85be-4d53-808f-7bc330500f92",
   "metadata": {},
   "source": [
    "### 1.4 Пишем \"точку входа\" в пайплайн (скрипт обучения) "
   ]
  },
  {
   "cell_type": "code",
   "execution_count": 24,
   "id": "b08e829a-4e23-498d-be97-8b2c337d6080",
   "metadata": {},
   "outputs": [
    {
     "name": "stdout",
     "output_type": "stream",
     "text": [
      "Overwriting /home/alexander/computerScience/phystech/9sem/abbyy/course_cvdl/classes/c04/package/suim_segmentation/run.py\n"
     ]
    }
   ],
   "source": [
    "%%writefile {str(ROOT_PATH / 'package' / 'suim_segmentation' / 'run.py')}\n",
    "\n",
    "import argparse\n",
    "from pathlib import Path\n",
    "import wandb\n",
    "\n",
    "import torch\n",
    "from torch.utils import data as tdata\n",
    "from tqdm import tqdm\n",
    "\n",
    "from .data import SuimDataset, EveryNthFilterSampler\n",
    "from .model import SuimModel\n",
    "from .loss import DiceLoss\n",
    "from .metrics import Accuracy\n",
    "from .trainer import Trainer\n",
    "\n",
    "\n",
    "def run_pipeline(args):\n",
    "    wandb.init(project='test1', config=vars(args))\n",
    "    device = args.device\n",
    "    model = SuimModel().to(device)\n",
    "    opt = torch.optim.Adam(model.parameters(), lr=args.lr)\n",
    "\n",
    "    train_val_ds = SuimDataset(Path(args.train_data), masks_as_color=False, target_size=(256, 256))\n",
    "    test_ds = SuimDataset(Path(args.test_data), masks_as_color=False, target_size=(256, 256))\n",
    "    \n",
    "    test_iter = tdata.DataLoader(test_ds, batch_size=args.batch_size, shuffle=False)\n",
    "    train_iter = tdata.DataLoader(train_val_ds, batch_size=args.batch_size, \n",
    "        sampler=EveryNthFilterSampler(dataset_size=len(train_val_ds), n=5, pass_every_nth=False, shuffle=True)\n",
    "    )\n",
    "    val_iter = tdata.DataLoader(train_val_ds, batch_size=args.batch_size, \n",
    "        sampler=EveryNthFilterSampler(dataset_size=len(train_val_ds), n=5, pass_every_nth=True, shuffle=False)\n",
    "    )\n",
    "    \n",
    "    loss = DiceLoss()\n",
    "    metric = Accuracy()\n",
    "    \n",
    "    trainer = Trainer(\n",
    "        net=model,\n",
    "        opt=opt,\n",
    "        train_loader=train_iter,\n",
    "        val_loader=val_iter,\n",
    "        test_loader=test_iter,\n",
    "        loss=loss,\n",
    "        metric=metric,\n",
    "    )\n",
    "    \n",
    "    mean = lambda values: sum(values) / len(values)\n",
    "    \n",
    "    for e in range(args.num_epochs):\n",
    "        print(f\"Epoch {e}\")\n",
    "        with_testing = (e == args.num_epochs - 1)\n",
    "        epoch_stats = trainer(num_epochs=1, with_testing=with_testing)\n",
    "        train_loss, train_metric = epoch_stats['train'][0]\n",
    "        val_loss, val_metric = epoch_stats['val'][0]\n",
    "        wandb.log({\"train\": {\"loss\": train_loss, \"metric\": train_metric}, \n",
    "                   \"val\": {\"loss\": val_loss, \"acc\": val_metric}}, step=e)\n",
    "        assert isinstance(train_loss, list), type(train_loss)\n",
    "    \n",
    "    if args.num_epochs > 0:\n",
    "        test_loss, test_metric = epoch_stats['test'][0]\n",
    "        wandb.run.summary['test.loss'] = mean(test_loss)\n",
    "        wandb.run.summary['test.metric'] = mean(test_metric)\n",
    "\n",
    "    wandb.run.summary['haha'] = 'hehe'\n",
    "    wandb.finish()\n",
    "\n",
    "def parse_args():\n",
    "    parser = argparse.ArgumentParser()\n",
    "    parser.add_argument(\"--name\", type=str, required=True)\n",
    "    parser.add_argument(\"--train-data\", type=str, required=True)\n",
    "    parser.add_argument(\"--test-data\", type=str, required=True)\n",
    "    parser.add_argument(\"--lr\", type=float, required=True)\n",
    "    parser.add_argument(\"--num-epochs\", type=int, required=True)\n",
    "    parser.add_argument(\"--batch-size\", type=int, default=16)\n",
    "    parser.add_argument(\"--device\", type=str, default='cpu:0')\n",
    "    return parser.parse_args()\n",
    "\n",
    "\n",
    "if __name__ == \"__main__\":\n",
    "    args = parse_args()\n",
    "    run_pipeline(args)\n",
    "    print(\"Finished\")"
   ]
  },
  {
   "cell_type": "markdown",
   "id": "9da5479f-9610-4cdd-8996-d2bbbfebedf0",
   "metadata": {},
   "source": [
    "### Задачка 2\n",
    "Пользуясь ноутбуком с предыдущего занятия, допишите `suim_segmentation/run.py`, чтобы тренировка корректно запускалась.\n"
   ]
  },
  {
   "cell_type": "code",
   "execution_count": 25,
   "id": "69e40453-1ae4-4085-92f8-de4483b84ce2",
   "metadata": {},
   "outputs": [
    {
     "name": "stdout",
     "output_type": "stream",
     "text": [
      "\u001b[34m\u001b[1mwandb\u001b[0m: Currently logged in as: \u001b[33mvashchilkoav\u001b[0m. Use \u001b[1m`wandb login --relogin`\u001b[0m to force relogin\n",
      "\u001b[34m\u001b[1mwandb\u001b[0m: Tracking run with wandb version 0.13.4\n",
      "\u001b[34m\u001b[1mwandb\u001b[0m: Run data is saved locally in \u001b[35m\u001b[1m/home/alexander/computerScience/phystech/9sem/abbyy/course_cvdl/classes/c04/package/wandb/run-20221010_163943-2eqkse4p\u001b[0m\n",
      "\u001b[34m\u001b[1mwandb\u001b[0m: Run \u001b[1m`wandb offline`\u001b[0m to turn off syncing.\n",
      "\u001b[34m\u001b[1mwandb\u001b[0m: Syncing run \u001b[33mvibrant-music-2\u001b[0m\n",
      "\u001b[34m\u001b[1mwandb\u001b[0m: ⭐️ View project at \u001b[34m\u001b[4mhttps://wandb.ai/vashchilkoav/test1\u001b[0m\n",
      "\u001b[34m\u001b[1mwandb\u001b[0m: 🚀 View run at \u001b[34m\u001b[4mhttps://wandb.ai/vashchilkoav/test1/runs/2eqkse4p\u001b[0m\n",
      "\u001b[34m\u001b[1mwandb\u001b[0m: Waiting for W&B process to finish... \u001b[32m(success).\u001b[0m\n",
      "\u001b[34m\u001b[1mwandb\u001b[0m: \\ 0.001 MB of 0.026 MB uploaded (0.000 MB deduped)\n",
      "\u001b[34m\u001b[1mwandb\u001b[0m: Run summary:\n",
      "\u001b[34m\u001b[1mwandb\u001b[0m: haha hehe\n",
      "\u001b[34m\u001b[1mwandb\u001b[0m: \n",
      "\u001b[34m\u001b[1mwandb\u001b[0m: Synced \u001b[33mvibrant-music-2\u001b[0m: \u001b[34m\u001b[4mhttps://wandb.ai/vashchilkoav/test1/runs/2eqkse4p\u001b[0m\n",
      "\u001b[34m\u001b[1mwandb\u001b[0m: Synced 5 W&B file(s), 0 media file(s), 0 artifact file(s) and 0 other file(s)\n",
      "\u001b[34m\u001b[1mwandb\u001b[0m: Find logs at: \u001b[35m\u001b[1m./wandb/run-20221010_163943-2eqkse4p/logs\u001b[0m\n",
      "Finished\n"
     ]
    }
   ],
   "source": [
    "! python -m suim_segmentation.run --name=baseline --lr=0.03 --num-epochs=0 --batch-size=32 --device=cuda:0 \\\n",
    "    --train-data=/home/alexander/computerScience/phystech/9sem/abbyy/course_cvdl/data/train_val \\\n",
    "    --test-data=/home/alexander/computerScience/phystech/9sem/abbyy/course_cvdl/data/TEST"
   ]
  },
  {
   "cell_type": "markdown",
   "id": "958e2244-ad23-4c86-9cb1-12ba80bb0b48",
   "metadata": {},
   "source": [
    "### Плохая практика 2: \"ручное\" копирование данных\n",
    "\n",
    "*Из с03/README.md:*\n",
    "\n",
    "`скачать датасет SUIM с GoogleDrive: https://drive.google.com/drive/folders/10KMK0rNB43V2g30NcA1RYipL535DuZ-h`\n",
    "\n",
    "- В реальных проектах (индустрия/соревнования) часто используется несколько датасетов, а не один\n",
    "- Они могут быть в разных форматах, а код проекта обычно работает только с одним форматом\n",
    "- Датасет может обновляться - даже у ImageNet есть [version2](https://proceedings.mlr.press/v97/recht19a/recht19a.pdf)\n",
    "- Часто датасет нужен на разных машинах (например, локальной и devbox с GPU)\n",
    "\n",
    "#### **Решение**: \n",
    "Использовать инструменты для управления данными, например - [dvc](https://dvc.org)"
   ]
  },
  {
   "cell_type": "markdown",
   "id": "dfbee11b-59f9-40f6-b01b-9319f40fff79",
   "metadata": {},
   "source": [
    "![dvc scheme was not loaded](dvc_scheme.png \"DVC scheme\")"
   ]
  },
  {
   "cell_type": "markdown",
   "id": "a38f50b2-9f29-4012-945a-1d25f12e1d54",
   "metadata": {},
   "source": [
    "### 2.1 Добавляем google-drive в качестве хранилища\n",
    "\n",
    "https://dvc.org/doc/user-guide/how-to/setup-google-drive-remote"
   ]
  },
  {
   "cell_type": "code",
   "execution_count": 46,
   "id": "17b55e09",
   "metadata": {},
   "outputs": [
    {
     "name": "stdout",
     "output_type": "stream",
     "text": [
      "/home/alexander/computerScience/phystech/9sem/abbyy/course_cvdl/data\n"
     ]
    }
   ],
   "source": [
    "cd ../../data"
   ]
  },
  {
   "cell_type": "code",
   "execution_count": 47,
   "id": "28665c00",
   "metadata": {},
   "outputs": [
    {
     "name": "stdout",
     "output_type": "stream",
     "text": [
      "\u001b[31mERROR\u001b[39m: failed to initiate DVC - /home/alexander/computerScience/phystech/9sem/abbyy/course_cvdl/data/.dvc is ignored by your SCM tool. \n",
      "Make sure that it's tracked, for example, by adding '!.dvc' to .gitignore.\n",
      "\u001b[0m"
     ]
    }
   ],
   "source": [
    "! dvc init --subdir"
   ]
  },
  {
   "cell_type": "code",
   "execution_count": 59,
   "id": "60543b7a-bba9-427a-abcb-7facaf54b8a6",
   "metadata": {},
   "outputs": [
    {
     "name": "stdout",
     "output_type": "stream",
     "text": [
      "\u001b[0m"
     ]
    }
   ],
   "source": [
    "! dvc remote add mygoogledrive https://drive.google.com/drive/folders/177I0TiGEaqGXB9L1waDr8Lh1UI7IyVk1?usp=sharing"
   ]
  },
  {
   "cell_type": "code",
   "execution_count": 60,
   "id": "a2f8e260-8a1e-461f-ba23-c09f3547ff28",
   "metadata": {},
   "outputs": [
    {
     "name": "stdout",
     "output_type": "stream",
     "text": [
      "mygoogledrive\thttps://drive.google.com/drive/folders/177I0TiGEaqGXB9L1waDr8Lh1UI7IyVk1?usp=sharing\n",
      "\u001b[0m"
     ]
    }
   ],
   "source": [
    "! dvc remote list"
   ]
  },
  {
   "cell_type": "markdown",
   "id": "f06d2879-dfbe-4252-ad27-6482e8891aa6",
   "metadata": {},
   "source": [
    "Добавим test-данные в индекс dvc"
   ]
  },
  {
   "cell_type": "code",
   "execution_count": 62,
   "id": "3a1bf2cd-bc3e-41b5-9330-098333054608",
   "metadata": {},
   "outputs": [
    {
     "data": {
      "text/plain": [
       "'/home/alexander/computerScience/phystech/9sem/abbyy/course_cvdl/classes/c04/data/test'"
      ]
     },
     "execution_count": 62,
     "metadata": {},
     "output_type": "execute_result"
    }
   ],
   "source": [
    "import shutil\n",
    "\n",
    "source_dataset = ROOT_PATH.parent.parent / 'data' / 'TEST'\n",
    "assert source_dataset.exists()\n",
    "\n",
    "target_dataset = ROOT_PATH / 'data'/ 'test'\n",
    "shutil.copytree(str(source_dataset), str(target_dataset))"
   ]
  },
  {
   "cell_type": "code",
   "execution_count": 67,
   "id": "1d36b2b1",
   "metadata": {},
   "outputs": [
    {
     "name": "stdout",
     "output_type": "stream",
     "text": [
      "/home/alexander/computerScience/phystech/9sem/abbyy/course_cvdl/classes/c04/data\n"
     ]
    }
   ],
   "source": [
    "cd data"
   ]
  },
  {
   "cell_type": "code",
   "execution_count": 68,
   "id": "0cdebe7c-a930-4b83-b08a-cbbf9ced4c0f",
   "metadata": {},
   "outputs": [
    {
     "name": "stdout",
     "output_type": "stream",
     "text": [
      "\u001b[31mERROR\u001b[39m: bad DVC file name 'test.dvc' is git-ignored.                   \n",
      "\u001b[0m"
     ]
    }
   ],
   "source": [
    "! dvc add test"
   ]
  },
  {
   "cell_type": "markdown",
   "id": "e0b7b575-4c9f-45bb-ad4f-5a6a9168de35",
   "metadata": {},
   "source": [
    "Отправим данные в хранилище"
   ]
  },
  {
   "cell_type": "code",
   "execution_count": null,
   "id": "493d5b8b-795d-4f12-bbb2-7adb4cd72fcf",
   "metadata": {},
   "outputs": [],
   "source": [
    "! dvc push test.dvc --remote=mygoogledrive"
   ]
  },
  {
   "cell_type": "markdown",
   "id": "133ecf6c-1a18-418c-9897-7ef56b261c67",
   "metadata": {},
   "source": [
    "Сохраним ярлыки в git\n",
    "`TODO`"
   ]
  },
  {
   "cell_type": "markdown",
   "id": "f7063f29-d99e-4f59-9b41-9d976291f6e1",
   "metadata": {},
   "source": [
    "### Плохая практика 3: проведение экспериментов без отслеживания результатов\n",
    "Достижение лучшх результатов в любой ml-задаче требуют множество экспериментов, каждый из которых дает небольшое улучшение (или ухудшение).\n",
    "\n",
    "Результаты экспериментов необходимо сравнивать между собой, чтобы оставлять успешные идеи и отбрасывать неудачные.\n",
    "\n",
    "Простейший (ручной) способ отслеживания экспериментов:\n",
    "- выполнили эксперимент N, запомнили метрики\n",
    "- выполнили эксперимент N+1, сравнили метрики с N, запомнили\n",
    "- выполнили эксперимент N+2, сравнили метрики с N+1, запомнили\n",
    "- ...\n",
    "\n",
    "Главная проблема: **после эксперимента не остаётся следов (артефактов)**\n",
    "\n",
    "Проблемы-следствия:\n",
    "- нельзя сравнить результаты эксперименты N и (N+10) \n",
    "- сложно провести многовариантный, а не бинарный эксперимент\n",
    "- сложно воспроизвести идею N (если она стала снова актуальной)\n",
    "- нужно держать в голове, насколько хорощо/плохо сработала идея когда-то в прошлом\n",
    "\n",
    "**Решение:** Логировать все параметры и результаты эксперимента"
   ]
  },
  {
   "cell_type": "markdown",
   "id": "11748159-56e2-4e75-8922-75a7e0ef4449",
   "metadata": {},
   "source": [
    "### 3.1 Подключаем Weights & Biases\n",
    "https://docs.wandb.ai/quickstart\n",
    "\n",
    "1. Устанавливаем wandb: `! pip install wandb`\n",
    "2. Авторизуемся на `https://wandb.ai/login` (например, через GitHub)\n",
    "3. Заходим на `https://wandb.ai/settings`, копируем ключ из `API keys`\n",
    "4. Выполняем `$ wandb login <YOUR API KEY>` "
   ]
  },
  {
   "cell_type": "markdown",
   "id": "3411b771-f9e1-4b75-974e-55ba88445064",
   "metadata": {},
   "source": [
    "### 3.2 Проверяем wnb"
   ]
  },
  {
   "cell_type": "code",
   "execution_count": 72,
   "id": "c83b3217-f257-4287-ba02-f2b3f259acc3",
   "metadata": {},
   "outputs": [],
   "source": [
    "import wandb"
   ]
  },
  {
   "cell_type": "code",
   "execution_count": 73,
   "id": "5721f289-f938-454c-9b8f-3ad796900f77",
   "metadata": {},
   "outputs": [
    {
     "name": "stderr",
     "output_type": "stream",
     "text": [
      "Failed to detect the name of this notebook, you can set it manually with the WANDB_NOTEBOOK_NAME environment variable to enable code saving.\n",
      "\u001b[34m\u001b[1mwandb\u001b[0m: Currently logged in as: \u001b[33mvashchilkoav\u001b[0m. Use \u001b[1m`wandb login --relogin`\u001b[0m to force relogin\n"
     ]
    },
    {
     "data": {
      "text/html": [
       "Tracking run with wandb version 0.13.4"
      ],
      "text/plain": [
       "<IPython.core.display.HTML object>"
      ]
     },
     "metadata": {},
     "output_type": "display_data"
    },
    {
     "data": {
      "text/html": [
       "Run data is saved locally in <code>/home/alexander/computerScience/phystech/9sem/abbyy/course_cvdl/classes/c04/data/wandb/run-20221010_145925-inymhk2w</code>"
      ],
      "text/plain": [
       "<IPython.core.display.HTML object>"
      ]
     },
     "metadata": {},
     "output_type": "display_data"
    },
    {
     "data": {
      "text/html": [
       "Syncing run <strong><a href=\"https://wandb.ai/vashchilkoav/hello_world/runs/inymhk2w\" target=\"_blank\">second</a></strong> to <a href=\"https://wandb.ai/vashchilkoav/hello_world\" target=\"_blank\">Weights & Biases</a> (<a href=\"https://wandb.me/run\" target=\"_blank\">docs</a>)<br/>"
      ],
      "text/plain": [
       "<IPython.core.display.HTML object>"
      ]
     },
     "metadata": {},
     "output_type": "display_data"
    },
    {
     "data": {
      "text/html": [
       "<button onClick=\"this.nextSibling.style.display='block';this.style.display='none';\">Display W&B run</button><iframe src=\"https://wandb.ai/vashchilkoav/hello_world/runs/inymhk2w?jupyter=true\" style=\"border:none;width:100%;height:420px;display:none;\"></iframe>"
      ],
      "text/plain": [
       "<wandb.sdk.wandb_run.Run at 0x7f45c91437c0>"
      ]
     },
     "execution_count": 73,
     "metadata": {},
     "output_type": "execute_result"
    }
   ],
   "source": [
    "wandb.init(project='hello_world', config={'lr': 0.01, 'foo': 'bar', 'something': True}, name='second')"
   ]
  },
  {
   "cell_type": "markdown",
   "id": "d694c34d-d74c-4a3f-9763-c034e3e59073",
   "metadata": {},
   "source": [
    "Можно логировать численные величины. Каждое вызов log неявно увеличивает внутренний счётчик шагов."
   ]
  },
  {
   "cell_type": "code",
   "execution_count": 74,
   "id": "152b9a60-9163-44e0-8268-4565ac82d575",
   "metadata": {},
   "outputs": [],
   "source": [
    "wandb.log({\"train\": {\"loss\": 0.9, \"metric\": 0.5}, \"val\": {\"loss\": 0.4, \"acc\": 0.8}})"
   ]
  },
  {
   "cell_type": "code",
   "execution_count": 75,
   "id": "d743e0f3-2b53-4cc9-8faf-9f90586e74bc",
   "metadata": {},
   "outputs": [],
   "source": [
    "wandb.log({\"train\": {\"loss\": 0.8, \"metric\": 0.5}, \"val\": {\"loss\": 0.35, \"acc\": 0.8}})"
   ]
  },
  {
   "cell_type": "code",
   "execution_count": 76,
   "id": "44b05a8e-5501-4e76-b37b-1f26a24502b1",
   "metadata": {},
   "outputs": [],
   "source": [
    "wandb.log({\"train\": {\"loss\": 0.75, \"metric\": 0.52}, \"val\": {\"loss\": 0.33, \"acc\": 0.7}})"
   ]
  },
  {
   "cell_type": "code",
   "execution_count": 77,
   "id": "a95bca63-1b30-435e-83cb-5913a3d0798e",
   "metadata": {},
   "outputs": [],
   "source": [
    "wandb.log({\"train\": {\"loss\": 0.74, \"metric\": 0.52}, \"val\": {\"loss\": 0.32, \"acc\": 0.7}})"
   ]
  },
  {
   "cell_type": "markdown",
   "id": "f8a29970-f4fb-446d-afef-a66860eb6711",
   "metadata": {},
   "source": [
    "Можно явно указать шаг, к которому относится запись"
   ]
  },
  {
   "cell_type": "code",
   "execution_count": 78,
   "id": "bc9f2ba3-964e-49ce-bd69-5c011e96929a",
   "metadata": {},
   "outputs": [],
   "source": [
    "wandb.log({\"train\": {\"loss\": 0.74, \"metric\": 0.52}, \"val\": {\"loss\": 0.32, \"acc\": 0.7}}, step=20)"
   ]
  },
  {
   "cell_type": "markdown",
   "id": "b1958c60-07fd-432d-bb1b-77c6d3e3e07a",
   "metadata": {},
   "source": [
    "Каждый вызов log добавляет аргументы во внутреннее состояние и коммитит **предыдущие** значения.\n",
    "\n",
    "Можно считать, что каждый вызов .log - это `git commit` старых данных + `git add` новых данных."
   ]
  },
  {
   "cell_type": "code",
   "execution_count": 79,
   "id": "f0d1ff7d-2913-4fe2-8914-1ed0789639b4",
   "metadata": {},
   "outputs": [],
   "source": [
    "wandb.log({\"train\": {\"loss\": 0.74, \"metric\": 0.52}, \"val\": {\"loss\": 0.32, \"acc\": 0.7}}, step=50)"
   ]
  },
  {
   "cell_type": "markdown",
   "id": "8dfa92a7-8696-4f35-9b4f-eff04e0b55b0",
   "metadata": {},
   "source": [
    "Можно логировать не только численные величины - например, изображения с масками."
   ]
  },
  {
   "cell_type": "code",
   "execution_count": 81,
   "id": "4b8ef787-4b23-4fbc-ac36-c44081fd5dab",
   "metadata": {},
   "outputs": [],
   "source": [
    "from suim_segmentation.data import SuimDataset\n",
    "\n",
    "test_data = SuimDataset(root=ROOT_PATH / 'data' / 'test', masks_as_color=False)"
   ]
  },
  {
   "cell_type": "code",
   "execution_count": 82,
   "id": "cc84f73f-5bd3-4e27-a54d-8c7919ea0fc1",
   "metadata": {},
   "outputs": [],
   "source": [
    "x_img, y_mask = test_data[2]"
   ]
  },
  {
   "cell_type": "code",
   "execution_count": 83,
   "id": "208f3073-a818-495e-9185-9a1abddd7196",
   "metadata": {},
   "outputs": [
    {
     "data": {
      "text/plain": [
       "(('Background(waterbody)', '000'),\n",
       " ('Human divers', '001'),\n",
       " ('Aquatic plants and sea-grass', '010'),\n",
       " ('Wrecks and ruins', '011'),\n",
       " ('Robots (AUVs/ROVs/instruments)', '100'),\n",
       " ('Reefs and invertebrates', '101'),\n",
       " ('Fish and vertebrates', '110'),\n",
       " ('Sea-floor and rocks', '111'))"
      ]
     },
     "execution_count": 83,
     "metadata": {},
     "output_type": "execute_result"
    }
   ],
   "source": [
    "SuimDataset.LABEL_COLORS"
   ]
  },
  {
   "cell_type": "code",
   "execution_count": 84,
   "id": "c0ad66a4-bfda-4784-87b3-39ff0564762b",
   "metadata": {},
   "outputs": [],
   "source": [
    "class_labels = dict(\n",
    "    (num, cls_name) for num, (cls_name, binary_idx) in enumerate(SuimDataset.LABEL_COLORS)\n",
    ")\n",
    "mask_img = wandb.Image(x_img.permute(1, 2, 0).numpy(), masks={\n",
    "  \"predictions\": {\n",
    "    \"mask_data\": y_mask[0].numpy(),\n",
    "    \"class_labels\": class_labels\n",
    "  }\n",
    "})"
   ]
  },
  {
   "cell_type": "code",
   "execution_count": 85,
   "id": "058d7130-4476-4c7b-815e-5c8b08e9f342",
   "metadata": {},
   "outputs": [],
   "source": [
    "wandb.log({\"gt_example\": mask_img})"
   ]
  },
  {
   "cell_type": "markdown",
   "id": "e89c9de1-5587-40cc-8062-d0e72c751b60",
   "metadata": {},
   "source": [
    "Можно добавить ключ-значение в summary"
   ]
  },
  {
   "cell_type": "code",
   "execution_count": 86,
   "id": "8d7e9751-448e-4ba0-8a40-7687198bd816",
   "metadata": {},
   "outputs": [],
   "source": [
    "wandb.run.summary['my_key'] = 'my_important_value'"
   ]
  },
  {
   "cell_type": "code",
   "execution_count": 87,
   "id": "26a0a767-fe2c-4111-b7f3-133b068ab976",
   "metadata": {},
   "outputs": [
    {
     "data": {
      "text/html": [
       "Waiting for W&B process to finish... <strong style=\"color:green\">(success).</strong>"
      ],
      "text/plain": [
       "<IPython.core.display.HTML object>"
      ]
     },
     "metadata": {},
     "output_type": "display_data"
    },
    {
     "data": {
      "text/html": [
       "<style>\n",
       "    table.wandb td:nth-child(1) { padding: 0 10px; text-align: left ; width: auto;} td:nth-child(2) {text-align: left ; width: 100%}\n",
       "    .wandb-row { display: flex; flex-direction: row; flex-wrap: wrap; justify-content: flex-start; width: 100% }\n",
       "    .wandb-col { display: flex; flex-direction: column; flex-basis: 100%; flex: 1; padding: 10px; }\n",
       "    </style>\n",
       "<div class=\"wandb-row\"><div class=\"wandb-col\"><h3>Run summary:</h3><br/><table class=\"wandb\"><tr><td>my_key</td><td>my_important_value</td></tr></table><br/></div></div>"
      ],
      "text/plain": [
       "<IPython.core.display.HTML object>"
      ]
     },
     "metadata": {},
     "output_type": "display_data"
    },
    {
     "data": {
      "text/html": [
       "Synced <strong style=\"color:#cdcd00\">second</strong>: <a href=\"https://wandb.ai/vashchilkoav/hello_world/runs/inymhk2w\" target=\"_blank\">https://wandb.ai/vashchilkoav/hello_world/runs/inymhk2w</a><br/>Synced 5 W&B file(s), 2 media file(s), 0 artifact file(s) and 0 other file(s)"
      ],
      "text/plain": [
       "<IPython.core.display.HTML object>"
      ]
     },
     "metadata": {},
     "output_type": "display_data"
    },
    {
     "data": {
      "text/html": [
       "Find logs at: <code>./wandb/run-20221010_145925-inymhk2w/logs</code>"
      ],
      "text/plain": [
       "<IPython.core.display.HTML object>"
      ]
     },
     "metadata": {},
     "output_type": "display_data"
    }
   ],
   "source": [
    "wandb.finish()"
   ]
  },
  {
   "cell_type": "markdown",
   "id": "54c64437-2cdb-4694-96d3-b8939b443fcf",
   "metadata": {},
   "source": [
    "### 3.3 Логируем параметры и результаты эксперимента\n",
    "### Задачка 3\n",
    "Дописать код run.py так, чтобы логировались (как минимум):\n",
    "- Средние train.loss, train.metric, val.loss, val.metric для каждой эпохт\n",
    "- Средние test.loss, test.metric однократно\n",
    "\n",
    "Сделать проект публичным, скинуть ссылку на свой wandb отчет"
   ]
  },
  {
   "cell_type": "code",
   "execution_count": null,
   "id": "bacd239a",
   "metadata": {},
   "outputs": [],
   "source": [
    "! python -m suim_segmentation.run --name=baseline --lr=0.03 --num-epochs=1 --batch-size=32 --device=cuda:0 \\\n",
    "    --train-data=/home/alexander/computerScience/phystech/9sem/abbyy/course_cvdl/data/train_val \\\n",
    "    --test-data=/home/alexander/computerScience/phystech/9sem/abbyy/course_cvdl/data/TEST"
   ]
  }
 ],
 "metadata": {
  "interpreter": {
   "hash": "9de35f58b490df70c64b1db97b3e54dc2a525ab2d36632bb7ddc91e7dd00330b"
  },
  "kernelspec": {
   "display_name": "Python 3.9.7 ('base')",
   "language": "python",
   "name": "python3"
  },
  "language_info": {
   "codemirror_mode": {
    "name": "ipython",
    "version": 3
   },
   "file_extension": ".py",
   "mimetype": "text/x-python",
   "name": "python",
   "nbconvert_exporter": "python",
   "pygments_lexer": "ipython3",
   "version": "3.9.7"
  }
 },
 "nbformat": 4,
 "nbformat_minor": 5
}
