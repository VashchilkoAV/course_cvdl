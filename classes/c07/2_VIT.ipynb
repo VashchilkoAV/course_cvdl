{
 "cells": [
  {
   "cell_type": "markdown",
   "id": "cc4cf68f-5d18-4e9d-9e27-c321a474ea70",
   "metadata": {},
   "source": [
    "# ViT (Vision Transformer)\n",
    "An Image is Worth 16x16 Words: Transformers for Image Recognition at Scale\n",
    "\n",
    "https://arxiv.org/abs/2010.11929"
   ]
  },
  {
   "cell_type": "code",
   "execution_count": 1,
   "id": "2a5493c7-e47c-4915-ad52-06b32b1e3ca3",
   "metadata": {},
   "outputs": [
    {
     "name": "stdout",
     "output_type": "stream",
     "text": [
      "Looking in indexes: https://pypi.org/simple, https://pypi.ngc.nvidia.com\n",
      "Collecting einops\n",
      "  Downloading einops-0.5.0-py3-none-any.whl (36 kB)\n",
      "Installing collected packages: einops\n",
      "Successfully installed einops-0.5.0\n",
      "\n",
      "\u001b[1m[\u001b[0m\u001b[34;49mnotice\u001b[0m\u001b[1;39;49m]\u001b[0m\u001b[39;49m A new release of pip available: \u001b[0m\u001b[31;49m22.2.2\u001b[0m\u001b[39;49m -> \u001b[0m\u001b[32;49m22.3\u001b[0m\n",
      "\u001b[1m[\u001b[0m\u001b[34;49mnotice\u001b[0m\u001b[1;39;49m]\u001b[0m\u001b[39;49m To update, run: \u001b[0m\u001b[32;49mpip install --upgrade pip\u001b[0m\n",
      "Looking in indexes: https://pypi.org/simple, https://pypi.ngc.nvidia.com\n",
      "Collecting torchsummary\n",
      "  Downloading torchsummary-1.5.1-py3-none-any.whl (2.8 kB)\n",
      "Installing collected packages: torchsummary\n",
      "Successfully installed torchsummary-1.5.1\n",
      "\n",
      "\u001b[1m[\u001b[0m\u001b[34;49mnotice\u001b[0m\u001b[1;39;49m]\u001b[0m\u001b[39;49m A new release of pip available: \u001b[0m\u001b[31;49m22.2.2\u001b[0m\u001b[39;49m -> \u001b[0m\u001b[32;49m22.3\u001b[0m\n",
      "\u001b[1m[\u001b[0m\u001b[34;49mnotice\u001b[0m\u001b[1;39;49m]\u001b[0m\u001b[39;49m To update, run: \u001b[0m\u001b[32;49mpip install --upgrade pip\u001b[0m\n"
     ]
    }
   ],
   "source": [
    "! pip install einops\n",
    "! pip install torchsummary"
   ]
  },
  {
   "cell_type": "code",
   "execution_count": 2,
   "id": "5c52a51b-7e3c-4b05-978a-7e23bc84b1a4",
   "metadata": {},
   "outputs": [],
   "source": [
    "import torch\n",
    "import torch.nn.functional as F\n",
    "import matplotlib.pyplot as plt\n",
    "import numpy as np\n",
    "\n",
    "from torch import nn\n",
    "from torch import Tensor\n",
    "import torch.optim as optim\n",
    "from PIL import Image\n",
    "import torchvision\n",
    "from torchvision import transforms\n",
    "from torchvision.transforms import Compose, Resize, ToTensor\n",
    "\n",
    "from tqdm import tqdm_notebook as tqdm"
   ]
  },
  {
   "cell_type": "markdown",
   "id": "04dfec2e-25b3-4993-92bd-2be251eb315c",
   "metadata": {},
   "source": [
    "## Einops\n",
    "https://einops.rocks/\n",
    "\n",
    "Название - от функции .einsum(), которая производит суммирование в \"нотации Эйнштейна\""
   ]
  },
  {
   "cell_type": "code",
   "execution_count": 3,
   "id": "a3508a58-f325-4fdd-b2b5-aa85736025f3",
   "metadata": {},
   "outputs": [],
   "source": [
    "from einops import rearrange"
   ]
  },
  {
   "cell_type": "code",
   "execution_count": 4,
   "id": "7598f556-5f40-4570-afbe-97683a0e15ad",
   "metadata": {},
   "outputs": [
    {
     "name": "stdout",
     "output_type": "stream",
     "text": [
      "torch.Size([1, 3, 6])\n",
      "tensor([[[ 0.,  1.,  2.,  3.,  4.,  5.],\n",
      "         [ 6.,  7.,  8.,  9., 10., 11.],\n",
      "         [12., 13., 14., 15., 16., 17.]]])\n",
      "\n",
      "torch.Size([6, 2])\n",
      "tensor([[-1.,  1.],\n",
      "        [-1.,  1.],\n",
      "        [-1.,  1.],\n",
      "        [-1.,  1.],\n",
      "        [-1.,  1.],\n",
      "        [-1.,  1.]])\n"
     ]
    }
   ],
   "source": [
    "# создадим пример данных\n",
    "a = torch.arange(18).reshape((1, 3, 6)).float()\n",
    "b = torch.ones((6, 2)).float()\n",
    "b[:, 0] *= -1\n",
    "print(f\"{a.shape}\\n{a}\\n\")\n",
    "print(f\"{b.shape}\\n{b}\")"
   ]
  },
  {
   "cell_type": "code",
   "execution_count": 5,
   "id": "34dac04c-ad95-4480-ae70-0a0cd9b9a5e2",
   "metadata": {},
   "outputs": [
    {
     "name": "stdout",
     "output_type": "stream",
     "text": [
      "torch.Size([1, 3, 2])\n",
      "\n",
      "tensor([[[-15.,  15.],\n",
      "         [-51.,  51.],\n",
      "         [-87.,  87.]]])\n"
     ]
    }
   ],
   "source": [
    "# Запись через einsum\n",
    "c = torch.einsum('bnc,ck->bnk', a, b)\n",
    "print(f\"{c.shape}\\n\\n{c}\")"
   ]
  },
  {
   "cell_type": "code",
   "execution_count": 6,
   "id": "f6db2209-c37c-4d28-8323-7a98638ebfa1",
   "metadata": {},
   "outputs": [
    {
     "data": {
      "text/plain": [
       "tensor([[[-15.,  15.],\n",
       "         [-51.,  51.],\n",
       "         [-87.,  87.]]])"
      ]
     },
     "execution_count": 6,
     "metadata": {},
     "output_type": "execute_result"
    }
   ],
   "source": [
    "# То же самое через tensordot\n",
    "torch.tensordot(a, b, dims=[[2], [0]])"
   ]
  },
  {
   "cell_type": "code",
   "execution_count": 7,
   "id": "b15fe634-ba0f-4e8d-bf9d-00a7934fd4a5",
   "metadata": {},
   "outputs": [
    {
     "data": {
      "text/plain": [
       "tensor([[[-15., -51., -87.],\n",
       "         [ 15.,  51.,  87.]]])"
      ]
     },
     "execution_count": 7,
     "metadata": {},
     "output_type": "execute_result"
    }
   ],
   "source": [
    "# в einsum порядок осей выхода можно менять\n",
    "torch.einsum('bnc,ck->bkn', a, b)"
   ]
  },
  {
   "cell_type": "code",
   "execution_count": 8,
   "id": "c59dbbd6-1246-4a5b-8327-e1816f38878f",
   "metadata": {},
   "outputs": [
    {
     "data": {
      "text/plain": [
       "tensor([[[-15., -51., -87.],\n",
       "         [ 15.,  51.,  87.]]])"
      ]
     },
     "execution_count": 8,
     "metadata": {},
     "output_type": "execute_result"
    }
   ],
   "source": [
    "# einsum ~ .tensordot + .permute\n",
    "torch.tensordot(a, b, dims=[[2], [0]]).permute(0, 2, 1)"
   ]
  },
  {
   "cell_type": "code",
   "execution_count": 9,
   "id": "52dca1c6-bbd7-4532-8423-508d33817d57",
   "metadata": {},
   "outputs": [],
   "source": [
    "from einops import rearrange"
   ]
  },
  {
   "cell_type": "code",
   "execution_count": 10,
   "id": "400a51b2-32b7-4516-83bf-82329b18c292",
   "metadata": {},
   "outputs": [
    {
     "data": {
      "text/plain": [
       "tensor([ 0.,  1.,  2.,  3.,  4.,  5.,  6.,  7.,  8.,  9., 10., 11., 12., 13.,\n",
       "        14., 15., 16., 17.])"
      ]
     },
     "execution_count": 10,
     "metadata": {},
     "output_type": "execute_result"
    }
   ],
   "source": [
    "# плющим\n",
    "rearrange(a, 'b n e -> (b n e)')\n"
   ]
  },
  {
   "cell_type": "code",
   "execution_count": 11,
   "id": "1ec0fca6-8997-4a05-8254-fdc7a655f1c4",
   "metadata": {},
   "outputs": [
    {
     "data": {
      "text/plain": [
       "tensor([ 0.,  6., 12.,  1.,  7., 13.,  2.,  8., 14.,  3.,  9., 15.,  4., 10.,\n",
       "        16.,  5., 11., 17.])"
      ]
     },
     "execution_count": 11,
     "metadata": {},
     "output_type": "execute_result"
    }
   ],
   "source": [
    "# плющим в другом порядке\n",
    "rearrange(a, 'b n e -> (b e n)')\n"
   ]
  },
  {
   "cell_type": "code",
   "execution_count": 12,
   "id": "c6241a2a-26d7-458b-a9aa-7408da7df12b",
   "metadata": {},
   "outputs": [
    {
     "data": {
      "text/plain": [
       "tensor([[[[ 0.,  1.,  2.],\n",
       "          [ 6.,  7.,  8.],\n",
       "          [12., 13., 14.]],\n",
       "\n",
       "         [[ 3.,  4.,  5.],\n",
       "          [ 9., 10., 11.],\n",
       "          [15., 16., 17.]]]])"
      ]
     },
     "execution_count": 12,
     "metadata": {},
     "output_type": "execute_result"
    }
   ],
   "source": [
    "# разбиваем на части\n",
    "rearrange(a, 'b n (k e) -> b k n e', k=2)"
   ]
  },
  {
   "cell_type": "code",
   "execution_count": 13,
   "id": "5ff75f03-1f11-4ed6-8965-0f9265d02788",
   "metadata": {},
   "outputs": [
    {
     "data": {
      "text/plain": [
       "tensor([[[[ 0.],\n",
       "          [ 6.],\n",
       "          [12.]]],\n",
       "\n",
       "\n",
       "        [[[ 1.],\n",
       "          [ 7.],\n",
       "          [13.]]],\n",
       "\n",
       "\n",
       "        [[[ 2.],\n",
       "          [ 8.],\n",
       "          [14.]]],\n",
       "\n",
       "\n",
       "        [[[ 3.],\n",
       "          [ 9.],\n",
       "          [15.]]],\n",
       "\n",
       "\n",
       "        [[[ 4.],\n",
       "          [10.],\n",
       "          [16.]]],\n",
       "\n",
       "\n",
       "        [[[ 5.],\n",
       "          [11.],\n",
       "          [17.]]]])"
      ]
     },
     "execution_count": 13,
     "metadata": {},
     "output_type": "execute_result"
    }
   ],
   "source": [
    "# убираем и добавляем единичную ось\n",
    "rearrange(a, '1 n e -> e 1 n 1')"
   ]
  },
  {
   "cell_type": "code",
   "execution_count": null,
   "id": "167dad96-ed47-4f1b-bf52-1868e7a0fc7e",
   "metadata": {},
   "outputs": [],
   "source": []
  },
  {
   "cell_type": "markdown",
   "id": "8cc9e648",
   "metadata": {},
   "source": [
    "### **Строение Модели ViT**\n",
    "\n",
    "- Эмбеддинг фрагментов изображений -  отображает фрагмент в вектор признакового пространства\n",
    "\n",
    "- Transformer encoder - кодирует последовательность патчей\n",
    "\n",
    "- Голова, предсказывающая нужный класс"
   ]
  },
  {
   "cell_type": "markdown",
   "id": "d5aa59b4",
   "metadata": {},
   "source": [
    "![VIT](images/vit.png)"
   ]
  },
  {
   "cell_type": "markdown",
   "id": "d15f0a31",
   "metadata": {},
   "source": [
    "**Multi-head attention**"
   ]
  },
  {
   "cell_type": "markdown",
   "id": "7454b38c",
   "metadata": {},
   "source": [
    "![Encoder](images/mha.png)"
   ]
  },
  {
   "cell_type": "code",
   "execution_count": 14,
   "id": "04bf1381",
   "metadata": {},
   "outputs": [
    {
     "data": {
      "text/plain": [
       "<matplotlib.image.AxesImage at 0x7f67c285dfd0>"
      ]
     },
     "execution_count": 14,
     "metadata": {},
     "output_type": "execute_result"
    },
    {
     "data": {
      "image/png": "[encoded data removed]",
      "text/plain": [
       "<Figure size 432x288 with 1 Axes>"
      ]
     },
     "metadata": {
      "needs_background": "light"
     },
     "output_type": "display_data"
    }
   ],
   "source": [
    "img = Image.open('images/cat.jpg')\n",
    "\n",
    "fig = plt.figure()\n",
    "plt.imshow(img)"
   ]
  },
  {
   "cell_type": "code",
   "execution_count": 15,
   "id": "6540ad9e",
   "metadata": {},
   "outputs": [
    {
     "data": {
      "text/plain": [
       "torch.Size([1, 3, 224, 224])"
      ]
     },
     "execution_count": 15,
     "metadata": {},
     "output_type": "execute_result"
    }
   ],
   "source": [
    "#Приведем входное изображение к фомату ImageNet\n",
    "transform = Compose([Resize((224, 224)), ToTensor()])\n",
    "x = transform(img)\n",
    "x = x.unsqueeze(0) # add batch dim\n",
    "x.shape"
   ]
  },
  {
   "cell_type": "code",
   "execution_count": 16,
   "id": "3c6b8f47-c82e-4c9d-9fc3-9c88d6574892",
   "metadata": {},
   "outputs": [],
   "source": [
    "from einops.layers.torch import Rearrange\n",
    "from einops import repeat\n"
   ]
  },
  {
   "cell_type": "code",
   "execution_count": 25,
   "id": "c358cbee-6033-46ad-a626-54b82f92559f",
   "metadata": {},
   "outputs": [
    {
     "data": {
      "text/plain": [
       "torch.Size([1, 197, 512])"
      ]
     },
     "execution_count": 25,
     "metadata": {},
     "output_type": "execute_result"
    }
   ],
   "source": [
    "class PatchEmbedding(nn.Module):\n",
    "    \"\"\"\n",
    "    Разбиваем изображения на патчи\n",
    "    Формируем из них токены\n",
    "    Добавляем \"классовый\" токен\n",
    "    Суммируем с positional encoding\n",
    "    \"\"\"\n",
    "    def __init__(self, in_channels: int = 3, patch_size: int = 16, emb_size: int = 512, img_size: int = 224):\n",
    "        self.patch_size = patch_size\n",
    "        super().__init__()\n",
    "        # Отображения последовательности патчей в пространство\n",
    "        self.projection = nn.Sequential(\n",
    "            # свертка ниже \"сливает\" патчи в один вектор\n",
    "            nn.Conv2d(in_channels, emb_size, kernel_size=patch_size, stride=patch_size),\n",
    "            # свертка ниже \"сливает\" патчи в один вектор\n",
    "            Rearrange('b e h w -> b (h w) e'),\n",
    "        )\n",
    "        # Токен начала изображения\n",
    "        self.cls_token = nn.Parameter(torch.randn(1,1, emb_size))\n",
    "        # Позиция патча на изображении\n",
    "        \"\"\"\n",
    "        Position embeddings are added to the patch embeddings to retain positional information. \n",
    "        We use standard learnable 1D position embeddings, since we have not observed \n",
    "        significant performance gains from using more advanced 2D-aware position embedding\n",
    "        \"\"\"\n",
    "        self.positions = nn.Parameter(torch.randn(1, (img_size // patch_size) ** 2 + 1, emb_size))\n",
    "        \n",
    "    def forward(self, x: Tensor) -> Tensor:\n",
    "        b, _, _, _ = x.shape\n",
    "        x = self.projection(x)\n",
    "        # Создадим массив токенов \n",
    "        cls_tokens = repeat(self.cls_token, '() n e -> b n e', b=b)\n",
    "        # В начало каждого батча добавим токен начала\n",
    "        x = torch.cat([cls_tokens, x], dim=1)\n",
    "        # Добавляем позиционный эмбеддинг\n",
    "        x += self.positions\n",
    "        return x\n",
    "\n",
    "    \n",
    "pe = PatchEmbedding()\n",
    "y1 = pe(x)\n",
    "y1.shape"
   ]
  },
  {
   "cell_type": "code",
   "execution_count": 30,
   "id": "6d8c803d",
   "metadata": {},
   "outputs": [
    {
     "data": {
      "text/plain": [
       "torch.Size([1, 197, 512])"
      ]
     },
     "execution_count": 30,
     "metadata": {},
     "output_type": "execute_result"
    }
   ],
   "source": [
    "class MultiHeadAttention(nn.Module):\n",
    "    def __init__(self, emb_size: int = 512, num_heads: int = 8, dropout: float = 0):\n",
    "        super().__init__()\n",
    "        self.emb_size = emb_size\n",
    "        self.num_heads = num_heads\n",
    "        self.keys = nn.Linear(emb_size, emb_size)\n",
    "        self.queries = nn.Linear(emb_size, emb_size)\n",
    "        self.values = nn.Linear(emb_size, emb_size)\n",
    "        self.att_drop = nn.Dropout(dropout)\n",
    "        self.projection = nn.Linear(emb_size, emb_size)\n",
    "        \n",
    "    def forward(self, x : Tensor) -> Tensor:\n",
    "        # split keys, queries and values in num_heads\n",
    "        pattern = \"b n (h e) -> b h n e\"\n",
    "        queries = rearrange(self.queries(x), pattern, h=self.num_heads)\n",
    "        keys = rearrange(self.keys(x), pattern, h=self.num_heads)\n",
    "        values  = rearrange(self.values(x), pattern, h=self.num_heads)\n",
    "        # sum up over the last axis\n",
    "        # batch, num_heads, query_len, key_len\n",
    "        energy = torch.einsum('bhqd, bhkd -> bhqk', queries, keys) \n",
    "            \n",
    "        scaling = self.emb_size ** (1/2)\n",
    "        att = F.softmax(energy, dim=-1) / scaling\n",
    "        att = self.att_drop(att)\n",
    "        # use values\n",
    "        out = torch.einsum('bhqk, bhkv -> bhqv', att, values)\n",
    "        out = rearrange(out, \"b h q v -> b q (h v)\")\n",
    "        out = self.projection(out)\n",
    "        return out    \n",
    "\n",
    "mh = MultiHeadAttention()\n",
    "y2 = mh(y1)\n",
    "y2.shape"
   ]
  },
  {
   "cell_type": "code",
   "execution_count": 31,
   "id": "49983ed2-7d6e-4d46-95e1-7cd1adf58a9f",
   "metadata": {},
   "outputs": [],
   "source": [
    "class ResidualAdd(nn.Module):\n",
    "    \"\"\"\n",
    "    Skip-connection вокруг произвольной функции\n",
    "    \"\"\"\n",
    "    def __init__(self, fn):\n",
    "        super().__init__()\n",
    "        self.fn = fn\n",
    "        \n",
    "    def forward(self, x, **kwargs):\n",
    "        return x + self.fn(x, **kwargs)\n",
    "\n",
    "ra = ResidualAdd(mh)\n",
    "y3 = ra(y1)"
   ]
  },
  {
   "cell_type": "code",
   "execution_count": 34,
   "id": "29fcad2e-b911-4a73-8012-c9906274c176",
   "metadata": {},
   "outputs": [
    {
     "data": {
      "text/plain": [
       "torch.Size([1, 197, 512])"
      ]
     },
     "execution_count": 34,
     "metadata": {},
     "output_type": "execute_result"
    }
   ],
   "source": [
    "class FeedForwardBlock(nn.Sequential):\n",
    "    \"\"\"\n",
    "    Он же MLP(двуслойный).\n",
    "    FFB как в оригинальном трансформере:\n",
    "    - проекция в \"расширенное\" пространство\n",
    "    - активация и дропаут\n",
    "    - проекция обратно в исходный размер\n",
    "    \"\"\"\n",
    "    def __init__(self, emb_size: int = 512, expansion: int = 4, drop_p: float = 0.):\n",
    "        super().__init__(\n",
    "            nn.Linear(emb_size, emb_size * expansion),\n",
    "            nn.ReLU(),\n",
    "            nn.Dropout(drop_p),\n",
    "            nn.Linear(emb_size * expansion, emb_size)\n",
    "        )\n",
    "\n",
    "tr = FeedForwardBlock()   \n",
    "y4 = tr(y1)\n",
    "y4.shape"
   ]
  },
  {
   "cell_type": "markdown",
   "id": "c6ec05fc-06c6-4da4-9d83-1f2c8e9a588c",
   "metadata": {},
   "source": [
    "![Encoder](images/encoder.png)"
   ]
  },
  {
   "cell_type": "code",
   "execution_count": 35,
   "id": "377d06b9-73d9-45ef-bcc2-080c4b3f7c8f",
   "metadata": {},
   "outputs": [
    {
     "data": {
      "text/plain": [
       "tensor([[[ 0.1524,  1.8845,  1.7474,  ..., -0.8609, -0.7184,  0.4339],\n",
       "         [-0.8736,  0.9263,  0.3906,  ..., -0.8675,  1.2495, -0.8850],\n",
       "         [-0.0777, -0.0308,  0.6479,  ..., -0.3942,  0.2193, -2.2147],\n",
       "         ...,\n",
       "         [ 1.3524,  1.6370, -0.0483,  ...,  0.1704,  1.4683, -2.5791],\n",
       "         [ 1.4260,  1.6270, -0.8868,  ...,  0.8306, -0.9645, -0.4449],\n",
       "         [-1.9794,  1.8332, -0.4129,  ..., -0.0542,  1.0460, -1.9358]]],\n",
       "       grad_fn=<AddBackward0>)"
      ]
     },
     "execution_count": 35,
     "metadata": {},
     "output_type": "execute_result"
    }
   ],
   "source": [
    "class TransformerEncoderBlock(nn.Sequential):\n",
    "    \"\"\"\n",
    "    Encoder как в оригинальном трансформере:\n",
    "    - блок(skip-conn, add & norm вокруг multi-head attention)\n",
    "    - блок(skip-conn, add & norm вокруг feed forward)     \n",
    "    \"\"\"\n",
    "    def __init__(self,\n",
    "                 emb_size: int = 512,\n",
    "                 drop_p: float = 0.,\n",
    "                 forward_expansion: int = 4,\n",
    "                 forward_drop_p: float = 0.,\n",
    "                 ** kwargs):\n",
    "        super().__init__(\n",
    "            ResidualAdd(nn.Sequential(\n",
    "                nn.LayerNorm(emb_size),\n",
    "                MultiHeadAttention(emb_size=emb_size)\n",
    "            )),\n",
    "\n",
    "            ResidualAdd(nn.Sequential(\n",
    "                nn.LayerNorm(emb_size),\n",
    "                FeedForwardBlock(emb_size=emb_size)\n",
    "            ))\n",
    "            \n",
    "            \n",
    "        )\n",
    "        \n",
    "tc = TransformerEncoderBlock()\n",
    "tc(y1)"
   ]
  },
  {
   "cell_type": "code",
   "execution_count": 36,
   "id": "fc1c7175-8caf-4ba5-a4ca-0a2397b56313",
   "metadata": {},
   "outputs": [
    {
     "data": {
      "text/plain": [
       "tensor([[[-0.1819,  0.2274,  1.6425,  ...,  0.6541, -1.3591,  0.9011],\n",
       "         [ 0.2692, -0.3394,  0.8487,  ..., -1.1486,  0.4737, -0.0793],\n",
       "         [-0.7851,  0.5358,  1.2980,  ...,  0.6453, -0.1000, -1.8888],\n",
       "         ...,\n",
       "         [ 1.7626,  0.2658, -0.7319,  ...,  1.3818,  1.5180, -2.4996],\n",
       "         [ 1.6183,  0.7053,  0.6169,  ...,  1.5820, -1.6312, -0.7592],\n",
       "         [-1.7613,  2.0216,  0.8584,  ..., -0.8415, -0.3051, -2.4050]]],\n",
       "       grad_fn=<AddBackward0>)"
      ]
     },
     "execution_count": 36,
     "metadata": {},
     "output_type": "execute_result"
    }
   ],
   "source": [
    "class TransformerEncoder(nn.Sequential):\n",
    "    \"\"\"\n",
    "    N одинаковых TransformerEncoderBlock\n",
    "    \"\"\"\n",
    "    def __init__(self, depth: int = 12, **kwargs):\n",
    "        super().__init__(*[TransformerEncoderBlock(**kwargs) for _ in range(depth)])\n",
    "        \n",
    "tc = TransformerEncoder()\n",
    "tc(y1)"
   ]
  },
  {
   "cell_type": "code",
   "execution_count": 37,
   "id": "5101d0a5-2c94-4a20-8c27-08304f8e06fe",
   "metadata": {},
   "outputs": [],
   "source": [
    "from einops.layers.torch import Reduce\n",
    "\n",
    "class ClassificationHead(nn.Sequential):\n",
    "    \"\"\"\n",
    "    Голова для классификации\n",
    "    \"\"\"\n",
    "    def __init__(self, emb_size: int = 512, n_classes: int = 1000):\n",
    "        super().__init__(\n",
    "            Reduce('b n e -> b e', reduction='mean'),\n",
    "            nn.LayerNorm(emb_size), \n",
    "            nn.Linear(emb_size, n_classes)\n",
    "        )\n",
    "\n",
    "class ViT(nn.Sequential):\n",
    "    def __init__(self,     \n",
    "                in_channels: int = 3,\n",
    "                patch_size: int = 16,\n",
    "                emb_size: int = 768,\n",
    "                img_size: int = 224,\n",
    "                depth: int = 12,\n",
    "                n_classes: int = 1000,\n",
    "                **kwargs):\n",
    "        super().__init__(\n",
    "            PatchEmbedding(in_channels, patch_size, emb_size, img_size),\n",
    "            TransformerEncoder(depth, emb_size=emb_size, **kwargs),\n",
    "            ClassificationHead(emb_size, n_classes)\n",
    "        )"
   ]
  },
  {
   "cell_type": "code",
   "execution_count": 38,
   "id": "803c5463",
   "metadata": {
    "scrolled": true
   },
   "outputs": [
    {
     "name": "stdout",
     "output_type": "stream",
     "text": [
      "----------------------------------------------------------------\n",
      "        Layer (type)               Output Shape         Param #\n",
      "================================================================\n",
      "            Conv2d-1            [-1, 128, 4, 4]          24,704\n",
      "         Rearrange-2              [-1, 16, 128]               0\n",
      "    PatchEmbedding-3              [-1, 17, 128]               0\n",
      "         LayerNorm-4              [-1, 17, 128]             256\n",
      "            Linear-5              [-1, 17, 128]          16,512\n",
      "            Linear-6              [-1, 17, 128]          16,512\n",
      "            Linear-7              [-1, 17, 128]          16,512\n",
      "           Dropout-8            [-1, 8, 17, 17]               0\n",
      "            Linear-9              [-1, 17, 128]          16,512\n",
      "MultiHeadAttention-10              [-1, 17, 128]               0\n",
      "      ResidualAdd-11              [-1, 17, 128]               0\n",
      "        LayerNorm-12              [-1, 17, 128]             256\n",
      "           Linear-13              [-1, 17, 512]          66,048\n",
      "             ReLU-14              [-1, 17, 512]               0\n",
      "          Dropout-15              [-1, 17, 512]               0\n",
      "           Linear-16              [-1, 17, 128]          65,664\n",
      "      ResidualAdd-17              [-1, 17, 128]               0\n",
      "        LayerNorm-18              [-1, 17, 128]             256\n",
      "           Linear-19              [-1, 17, 128]          16,512\n",
      "           Linear-20              [-1, 17, 128]          16,512\n",
      "           Linear-21              [-1, 17, 128]          16,512\n",
      "          Dropout-22            [-1, 8, 17, 17]               0\n",
      "           Linear-23              [-1, 17, 128]          16,512\n",
      "MultiHeadAttention-24              [-1, 17, 128]               0\n",
      "      ResidualAdd-25              [-1, 17, 128]               0\n",
      "        LayerNorm-26              [-1, 17, 128]             256\n",
      "           Linear-27              [-1, 17, 512]          66,048\n",
      "             ReLU-28              [-1, 17, 512]               0\n",
      "          Dropout-29              [-1, 17, 512]               0\n",
      "           Linear-30              [-1, 17, 128]          65,664\n",
      "      ResidualAdd-31              [-1, 17, 128]               0\n",
      "        LayerNorm-32              [-1, 17, 128]             256\n",
      "           Linear-33              [-1, 17, 128]          16,512\n",
      "           Linear-34              [-1, 17, 128]          16,512\n",
      "           Linear-35              [-1, 17, 128]          16,512\n",
      "          Dropout-36            [-1, 8, 17, 17]               0\n",
      "           Linear-37              [-1, 17, 128]          16,512\n",
      "MultiHeadAttention-38              [-1, 17, 128]               0\n",
      "      ResidualAdd-39              [-1, 17, 128]               0\n",
      "        LayerNorm-40              [-1, 17, 128]             256\n",
      "           Linear-41              [-1, 17, 512]          66,048\n",
      "             ReLU-42              [-1, 17, 512]               0\n",
      "          Dropout-43              [-1, 17, 512]               0\n",
      "           Linear-44              [-1, 17, 128]          65,664\n",
      "      ResidualAdd-45              [-1, 17, 128]               0\n",
      "        LayerNorm-46              [-1, 17, 128]             256\n",
      "           Linear-47              [-1, 17, 128]          16,512\n",
      "           Linear-48              [-1, 17, 128]          16,512\n",
      "           Linear-49              [-1, 17, 128]          16,512\n",
      "          Dropout-50            [-1, 8, 17, 17]               0\n",
      "           Linear-51              [-1, 17, 128]          16,512\n",
      "MultiHeadAttention-52              [-1, 17, 128]               0\n",
      "      ResidualAdd-53              [-1, 17, 128]               0\n",
      "        LayerNorm-54              [-1, 17, 128]             256\n",
      "           Linear-55              [-1, 17, 512]          66,048\n",
      "             ReLU-56              [-1, 17, 512]               0\n",
      "          Dropout-57              [-1, 17, 512]               0\n",
      "           Linear-58              [-1, 17, 128]          65,664\n",
      "      ResidualAdd-59              [-1, 17, 128]               0\n",
      "        LayerNorm-60              [-1, 17, 128]             256\n",
      "           Linear-61              [-1, 17, 128]          16,512\n",
      "           Linear-62              [-1, 17, 128]          16,512\n",
      "           Linear-63              [-1, 17, 128]          16,512\n",
      "          Dropout-64            [-1, 8, 17, 17]               0\n",
      "           Linear-65              [-1, 17, 128]          16,512\n",
      "MultiHeadAttention-66              [-1, 17, 128]               0\n",
      "      ResidualAdd-67              [-1, 17, 128]               0\n",
      "        LayerNorm-68              [-1, 17, 128]             256\n",
      "           Linear-69              [-1, 17, 512]          66,048\n",
      "             ReLU-70              [-1, 17, 512]               0\n",
      "          Dropout-71              [-1, 17, 512]               0\n",
      "           Linear-72              [-1, 17, 128]          65,664\n",
      "      ResidualAdd-73              [-1, 17, 128]               0\n",
      "        LayerNorm-74              [-1, 17, 128]             256\n",
      "           Linear-75              [-1, 17, 128]          16,512\n",
      "           Linear-76              [-1, 17, 128]          16,512\n",
      "           Linear-77              [-1, 17, 128]          16,512\n",
      "          Dropout-78            [-1, 8, 17, 17]               0\n",
      "           Linear-79              [-1, 17, 128]          16,512\n",
      "MultiHeadAttention-80              [-1, 17, 128]               0\n",
      "      ResidualAdd-81              [-1, 17, 128]               0\n",
      "        LayerNorm-82              [-1, 17, 128]             256\n",
      "           Linear-83              [-1, 17, 512]          66,048\n",
      "             ReLU-84              [-1, 17, 512]               0\n",
      "          Dropout-85              [-1, 17, 512]               0\n",
      "           Linear-86              [-1, 17, 128]          65,664\n",
      "      ResidualAdd-87              [-1, 17, 128]               0\n",
      "        LayerNorm-88              [-1, 17, 128]             256\n",
      "           Linear-89              [-1, 17, 128]          16,512\n",
      "           Linear-90              [-1, 17, 128]          16,512\n",
      "           Linear-91              [-1, 17, 128]          16,512\n",
      "          Dropout-92            [-1, 8, 17, 17]               0\n",
      "           Linear-93              [-1, 17, 128]          16,512\n",
      "MultiHeadAttention-94              [-1, 17, 128]               0\n",
      "      ResidualAdd-95              [-1, 17, 128]               0\n",
      "        LayerNorm-96              [-1, 17, 128]             256\n",
      "           Linear-97              [-1, 17, 512]          66,048\n",
      "             ReLU-98              [-1, 17, 512]               0\n",
      "          Dropout-99              [-1, 17, 512]               0\n",
      "          Linear-100              [-1, 17, 128]          65,664\n",
      "     ResidualAdd-101              [-1, 17, 128]               0\n",
      "       LayerNorm-102              [-1, 17, 128]             256\n",
      "          Linear-103              [-1, 17, 128]          16,512\n",
      "          Linear-104              [-1, 17, 128]          16,512\n",
      "          Linear-105              [-1, 17, 128]          16,512\n",
      "         Dropout-106            [-1, 8, 17, 17]               0\n",
      "          Linear-107              [-1, 17, 128]          16,512\n",
      "MultiHeadAttention-108              [-1, 17, 128]               0\n",
      "     ResidualAdd-109              [-1, 17, 128]               0\n",
      "       LayerNorm-110              [-1, 17, 128]             256\n",
      "          Linear-111              [-1, 17, 512]          66,048\n",
      "            ReLU-112              [-1, 17, 512]               0\n",
      "         Dropout-113              [-1, 17, 512]               0\n",
      "          Linear-114              [-1, 17, 128]          65,664\n",
      "     ResidualAdd-115              [-1, 17, 128]               0\n",
      "       LayerNorm-116              [-1, 17, 128]             256\n",
      "          Linear-117              [-1, 17, 128]          16,512\n",
      "          Linear-118              [-1, 17, 128]          16,512\n",
      "          Linear-119              [-1, 17, 128]          16,512\n",
      "         Dropout-120            [-1, 8, 17, 17]               0\n",
      "          Linear-121              [-1, 17, 128]          16,512\n",
      "MultiHeadAttention-122              [-1, 17, 128]               0\n",
      "     ResidualAdd-123              [-1, 17, 128]               0\n",
      "       LayerNorm-124              [-1, 17, 128]             256\n",
      "          Linear-125              [-1, 17, 512]          66,048\n",
      "            ReLU-126              [-1, 17, 512]               0\n",
      "         Dropout-127              [-1, 17, 512]               0\n",
      "          Linear-128              [-1, 17, 128]          65,664\n",
      "     ResidualAdd-129              [-1, 17, 128]               0\n",
      "       LayerNorm-130              [-1, 17, 128]             256\n",
      "          Linear-131              [-1, 17, 128]          16,512\n",
      "          Linear-132              [-1, 17, 128]          16,512\n",
      "          Linear-133              [-1, 17, 128]          16,512\n",
      "         Dropout-134            [-1, 8, 17, 17]               0\n",
      "          Linear-135              [-1, 17, 128]          16,512\n",
      "MultiHeadAttention-136              [-1, 17, 128]               0\n",
      "     ResidualAdd-137              [-1, 17, 128]               0\n",
      "       LayerNorm-138              [-1, 17, 128]             256\n",
      "          Linear-139              [-1, 17, 512]          66,048\n",
      "            ReLU-140              [-1, 17, 512]               0\n",
      "         Dropout-141              [-1, 17, 512]               0\n",
      "          Linear-142              [-1, 17, 128]          65,664\n",
      "     ResidualAdd-143              [-1, 17, 128]               0\n",
      "       LayerNorm-144              [-1, 17, 128]             256\n",
      "          Linear-145              [-1, 17, 128]          16,512\n",
      "          Linear-146              [-1, 17, 128]          16,512\n",
      "          Linear-147              [-1, 17, 128]          16,512\n",
      "         Dropout-148            [-1, 8, 17, 17]               0\n",
      "          Linear-149              [-1, 17, 128]          16,512\n",
      "MultiHeadAttention-150              [-1, 17, 128]               0\n",
      "     ResidualAdd-151              [-1, 17, 128]               0\n",
      "       LayerNorm-152              [-1, 17, 128]             256\n",
      "          Linear-153              [-1, 17, 512]          66,048\n",
      "            ReLU-154              [-1, 17, 512]               0\n",
      "         Dropout-155              [-1, 17, 512]               0\n",
      "          Linear-156              [-1, 17, 128]          65,664\n",
      "     ResidualAdd-157              [-1, 17, 128]               0\n",
      "       LayerNorm-158              [-1, 17, 128]             256\n",
      "          Linear-159              [-1, 17, 128]          16,512\n",
      "          Linear-160              [-1, 17, 128]          16,512\n",
      "          Linear-161              [-1, 17, 128]          16,512\n",
      "         Dropout-162            [-1, 8, 17, 17]               0\n",
      "          Linear-163              [-1, 17, 128]          16,512\n",
      "MultiHeadAttention-164              [-1, 17, 128]               0\n",
      "     ResidualAdd-165              [-1, 17, 128]               0\n",
      "       LayerNorm-166              [-1, 17, 128]             256\n",
      "          Linear-167              [-1, 17, 512]          66,048\n",
      "            ReLU-168              [-1, 17, 512]               0\n",
      "         Dropout-169              [-1, 17, 512]               0\n",
      "          Linear-170              [-1, 17, 128]          65,664\n",
      "     ResidualAdd-171              [-1, 17, 128]               0\n",
      "          Reduce-172                  [-1, 128]               0\n",
      "       LayerNorm-173                  [-1, 128]             256\n",
      "          Linear-174                   [-1, 10]           1,290\n",
      "================================================================\n",
      "Total params: 2,405,514\n",
      "Trainable params: 2,405,514\n",
      "Non-trainable params: 0\n",
      "----------------------------------------------------------------\n",
      "Input size (MB): 0.01\n",
      "Forward/backward pass size (MB): 4.64\n",
      "Params size (MB): 9.18\n",
      "Estimated Total Size (MB): 13.83\n",
      "----------------------------------------------------------------\n"
     ]
    }
   ],
   "source": [
    "from torchsummary import summary\n",
    "\n",
    "model = ViT(n_classes=10, img_size=32, patch_size=8, emb_size=128)\n",
    "summary(model, (3, 32, 32), device='cpu')"
   ]
  },
  {
   "cell_type": "code",
   "execution_count": 34,
   "id": "8d94ef2f",
   "metadata": {},
   "outputs": [
    {
     "name": "stdout",
     "output_type": "stream",
     "text": [
      "Downloading https://www.cs.toronto.edu/~kriz/cifar-10-python.tar.gz to ./data\\cifar-10-python.tar.gz\n"
     ]
    },
    {
     "data": {
      "application/vnd.jupyter.widget-view+json": {
       "model_id": "4afd9767c9f3454688efca3fcb714b4f",
       "version_major": 2,
       "version_minor": 0
      },
      "text/plain": [
       "  0%|          | 0/170498071 [00:00<?, ?it/s]"
      ]
     },
     "metadata": {},
     "output_type": "display_data"
    },
    {
     "name": "stdout",
     "output_type": "stream",
     "text": [
      "Extracting ./data\\cifar-10-python.tar.gz to ./data\n",
      "Files already downloaded and verified\n"
     ]
    }
   ],
   "source": [
    "transform = transforms.Compose(\n",
    "    [transforms.ToTensor(),\n",
    "     transforms.Normalize((0.5, 0.5, 0.5), (0.5, 0.5, 0.5))])\n",
    "\n",
    "batch_size = 16\n",
    "\n",
    "trainset = torchvision.datasets.CIFAR10(root='./data', train=True,\n",
    "                                        download=True, transform=transform)\n",
    "trainloader = torch.utils.data.DataLoader(trainset, batch_size=batch_size,\n",
    "                                          shuffle=True, num_workers=0)\n",
    "\n",
    "testset = torchvision.datasets.CIFAR10(root='./data', train=False,\n",
    "                                       download=True, transform=transform)\n",
    "testloader = torch.utils.data.DataLoader(testset, batch_size=batch_size,\n",
    "                                         shuffle=False, num_workers=0)"
   ]
  },
  {
   "cell_type": "code",
   "execution_count": 36,
   "id": "6a824e30",
   "metadata": {},
   "outputs": [],
   "source": [
    "criterion = nn.CrossEntropyLoss()\n",
    "optimizer = optim.SGD(model.parameters(), lr=0.001, momentum=0.9)"
   ]
  },
  {
   "cell_type": "code",
   "execution_count": 37,
   "id": "9221db5c",
   "metadata": {},
   "outputs": [
    {
     "name": "stderr",
     "output_type": "stream",
     "text": [
      "C:\\Users\\bzimka\\AppData\\Local\\Temp\\ipykernel_20024\\2300219733.py:5: TqdmDeprecationWarning: This function will be removed in tqdm==5.0.0\n",
      "Please use `tqdm.notebook.tqdm` instead of `tqdm.tqdm_notebook`\n",
      "  for i, data in tqdm(enumerate(trainloader, 0), total=len(trainloader), leave=False):\n"
     ]
    },
    {
     "data": {
      "application/vnd.jupyter.widget-view+json": {
       "model_id": "",
       "version_major": 2,
       "version_minor": 0
      },
      "text/plain": [
       "  0%|          | 0/3125 [00:00<?, ?it/s]"
      ]
     },
     "metadata": {},
     "output_type": "display_data"
    },
    {
     "name": "stdout",
     "output_type": "stream",
     "text": [
      "[1,  2000] loss: 1.955\n"
     ]
    },
    {
     "data": {
      "application/vnd.jupyter.widget-view+json": {
       "model_id": "",
       "version_major": 2,
       "version_minor": 0
      },
      "text/plain": [
       "  0%|          | 0/3125 [00:00<?, ?it/s]"
      ]
     },
     "metadata": {},
     "output_type": "display_data"
    },
    {
     "name": "stdout",
     "output_type": "stream",
     "text": [
      "[2,  2000] loss: 1.629\n"
     ]
    },
    {
     "data": {
      "application/vnd.jupyter.widget-view+json": {
       "model_id": "",
       "version_major": 2,
       "version_minor": 0
      },
      "text/plain": [
       "  0%|          | 0/3125 [00:00<?, ?it/s]"
      ]
     },
     "metadata": {},
     "output_type": "display_data"
    },
    {
     "name": "stdout",
     "output_type": "stream",
     "text": [
      "[3,  2000] loss: 1.511\n"
     ]
    },
    {
     "data": {
      "application/vnd.jupyter.widget-view+json": {
       "model_id": "",
       "version_major": 2,
       "version_minor": 0
      },
      "text/plain": [
       "  0%|          | 0/3125 [00:00<?, ?it/s]"
      ]
     },
     "metadata": {},
     "output_type": "display_data"
    },
    {
     "name": "stdout",
     "output_type": "stream",
     "text": [
      "[4,  2000] loss: 1.420\n"
     ]
    },
    {
     "data": {
      "application/vnd.jupyter.widget-view+json": {
       "model_id": "",
       "version_major": 2,
       "version_minor": 0
      },
      "text/plain": [
       "  0%|          | 0/3125 [00:00<?, ?it/s]"
      ]
     },
     "metadata": {},
     "output_type": "display_data"
    },
    {
     "name": "stdout",
     "output_type": "stream",
     "text": [
      "[5,  2000] loss: 1.352\n"
     ]
    },
    {
     "data": {
      "application/vnd.jupyter.widget-view+json": {
       "model_id": "",
       "version_major": 2,
       "version_minor": 0
      },
      "text/plain": [
       "  0%|          | 0/3125 [00:00<?, ?it/s]"
      ]
     },
     "metadata": {},
     "output_type": "display_data"
    },
    {
     "name": "stdout",
     "output_type": "stream",
     "text": [
      "[6,  2000] loss: 1.300\n"
     ]
    },
    {
     "data": {
      "application/vnd.jupyter.widget-view+json": {
       "model_id": "",
       "version_major": 2,
       "version_minor": 0
      },
      "text/plain": [
       "  0%|          | 0/3125 [00:00<?, ?it/s]"
      ]
     },
     "metadata": {},
     "output_type": "display_data"
    },
    {
     "name": "stdout",
     "output_type": "stream",
     "text": [
      "[7,  2000] loss: 1.248\n"
     ]
    },
    {
     "data": {
      "application/vnd.jupyter.widget-view+json": {
       "model_id": "",
       "version_major": 2,
       "version_minor": 0
      },
      "text/plain": [
       "  0%|          | 0/3125 [00:00<?, ?it/s]"
      ]
     },
     "metadata": {},
     "output_type": "display_data"
    },
    {
     "name": "stdout",
     "output_type": "stream",
     "text": [
      "[8,  2000] loss: 1.194\n"
     ]
    },
    {
     "data": {
      "application/vnd.jupyter.widget-view+json": {
       "model_id": "",
       "version_major": 2,
       "version_minor": 0
      },
      "text/plain": [
       "  0%|          | 0/3125 [00:00<?, ?it/s]"
      ]
     },
     "metadata": {},
     "output_type": "display_data"
    },
    {
     "name": "stdout",
     "output_type": "stream",
     "text": [
      "[9,  2000] loss: 1.150\n"
     ]
    },
    {
     "data": {
      "application/vnd.jupyter.widget-view+json": {
       "model_id": "",
       "version_major": 2,
       "version_minor": 0
      },
      "text/plain": [
       "  0%|          | 0/3125 [00:00<?, ?it/s]"
      ]
     },
     "metadata": {},
     "output_type": "display_data"
    },
    {
     "name": "stdout",
     "output_type": "stream",
     "text": [
      "[10,  2000] loss: 1.100\n",
      "Finished Training\n"
     ]
    }
   ],
   "source": [
    "model = model.cuda()\n",
    "for epoch in range(10):  # loop over the dataset multiple times\n",
    "\n",
    "    running_loss = 0.0\n",
    "    for i, data in tqdm(enumerate(trainloader, 0), total=len(trainloader), leave=False):\n",
    "        # get the inputs; data is a list of [inputs, labels]\n",
    "        inputs, labels = data\n",
    "        inputs = inputs.cuda()\n",
    "        labels = labels.cuda()\n",
    "\n",
    "        # zero the parameter gradients\n",
    "        optimizer.zero_grad()\n",
    "\n",
    "        # forward + backward + optimize\n",
    "        outputs = model(inputs)\n",
    "        loss = criterion(outputs, labels)\n",
    "        loss.backward()\n",
    "        optimizer.step()\n",
    "\n",
    "        # print statistics\n",
    "        running_loss += loss.item()\n",
    "        if i % 2000 == 1999:    # print every 2000 mini-batches\n",
    "            print('[%d, %5d] loss: %.3f' %\n",
    "                  (epoch + 1, i + 1, running_loss / 2000))\n",
    "            running_loss = 0.0\n",
    "\n",
    "print('Finished Training')"
   ]
  },
  {
   "cell_type": "code",
   "execution_count": 40,
   "id": "6c8b112e",
   "metadata": {},
   "outputs": [
    {
     "name": "stderr",
     "output_type": "stream",
     "text": [
      "C:\\Users\\bzimka\\AppData\\Local\\Temp\\ipykernel_20024\\916747028.py:6: TqdmDeprecationWarning: This function will be removed in tqdm==5.0.0\n",
      "Please use `tqdm.notebook.tqdm` instead of `tqdm.tqdm_notebook`\n",
      "  for i, data in tqdm(enumerate(testloader, 0), total=len(testloader)):\n"
     ]
    },
    {
     "data": {
      "application/vnd.jupyter.widget-view+json": {
       "model_id": "7aae0e06eb784695986852a2b6a2e84f",
       "version_major": 2,
       "version_minor": 0
      },
      "text/plain": [
       "  0%|          | 0/625 [00:00<?, ?it/s]"
      ]
     },
     "metadata": {},
     "output_type": "display_data"
    },
    {
     "data": {
      "text/plain": [
       "0.5678"
      ]
     },
     "execution_count": 40,
     "metadata": {},
     "output_type": "execute_result"
    }
   ],
   "source": [
    "from sklearn.metrics import accuracy_score\n",
    "\n",
    "        # sum up over the last axis\n",
    "\n",
    "result = []\n",
    "gt = []\n",
    "for i, data in tqdm(enumerate(testloader, 0), total=len(testloader)):\n",
    "    inputs, labels = data\n",
    "    inputs = inputs.cuda()\n",
    "    labels = labels.cuda()\n",
    "    outputs = model(inputs)\n",
    "    outputs = outputs.cpu().detach().numpy().argmax(axis=1)\n",
    "    result = [*result, *outputs]\n",
    "    gt = [*gt, *labels.cpu().detach().numpy()]\n",
    "result = np.array(result).flatten()\n",
    "gt = np.array(gt).flatten()\n",
    "accuracy_score(result, gt)"
   ]
  },
  {
   "cell_type": "markdown",
   "id": "382333a6-9b5a-4518-b13e-6d4000a1086c",
   "metadata": {},
   "source": [
    "## Полезные ссылки\n",
    "- https://towardsdatascience.com/implementing-visualttransformer-in-pytorch-184f9f16f632"
   ]
  }
 ],
 "metadata": {
  "interpreter": {
   "hash": "9de35f58b490df70c64b1db97b3e54dc2a525ab2d36632bb7ddc91e7dd00330b"
  },
  "kernelspec": {
   "display_name": "Python 3.9.7 ('base')",
   "language": "python",
   "name": "python3"
  },
  "language_info": {
   "codemirror_mode": {
    "name": "ipython",
    "version": 3
   },
   "file_extension": ".py",
   "mimetype": "text/x-python",
   "name": "python",
   "nbconvert_exporter": "python",
   "pygments_lexer": "ipython3",
   "version": "3.9.7"
  }
 },
 "nbformat": 4,
 "nbformat_minor": 5
}
