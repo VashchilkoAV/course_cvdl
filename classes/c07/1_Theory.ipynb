{
 "cells": [
  {
   "cell_type": "markdown",
   "id": "a3f916a7-02ec-4298-ba82-65765044c849",
   "metadata": {},
   "source": [
    "# Введение в трансформеры\n",
    "## Attention Is All You Need\n",
    "https://papers.nips.cc/paper/2017/file/3f5ee243547dee91fbd053c1c4a845aa-Paper.pdf"
   ]
  },
  {
   "cell_type": "code",
   "execution_count": 2,
   "id": "ded49b0d-d94e-4cad-9312-66b6799e1e0f",
   "metadata": {},
   "outputs": [],
   "source": [
    "import numpy as np"
   ]
  },
  {
   "cell_type": "markdown",
   "id": "d83326f8-2566-496a-afa0-48bd6f59e350",
   "metadata": {},
   "source": [
    "## Введение: задача перевода\n",
    "\n",
    "Пусть перед нами стоит следующая абстрактная задача:\n",
    "- есть два \"пространства признаков\" для каких-то объектов: пространство \"запросов\" и пространство \"ответов\"\n",
    "- нам передан словарь примеров соответствия, т.е. набор пар векторов **Key**-**Value**, где **Key** - вектор из \"запросов\", а **Value** - вектор из \"ответов\"\n",
    "- нам передан набор **Query** - вектора из пространства \"запросов\"\n",
    "\n",
    "**Задача**: перевести **Query** в пространство \"ответов\""
   ]
  },
  {
   "cell_type": "markdown",
   "id": "3dbf69fa-8a71-4198-8b5b-a97109b03583",
   "metadata": {},
   "source": [
    "### Конкретный пример: перевод с русского на английский\n",
    "\n",
    "- есть две word2vec модели: `MR`, которая умеет для любого слова из **русского** языка строить вектор размерности 256 (\"пространство запросов\") и word2vec модель `MA`, которая умеет для любого слова из **английского** языка строить вектор размерности 128 (\"пространство ответов\")\n",
    "- нам дали датасеты пар слов (русско-английский словарь) и датасеты пар текстов (книги и статьи, каждая в двух переводах) - для всех слов посчитали через MA и MR признаки (**Key**-**Value**)\n",
    "- нам дали предложение на русском, и мы посчитали через MR вектора-признаки каждого слова (**Query**)\n",
    "**Задача**: перевести предложение с русского на английский. \n"
   ]
  },
  {
   "cell_type": "markdown",
   "id": "7e097261-8a05-449e-a40d-068968ff2aba",
   "metadata": {},
   "source": [
    "![img](images/projections.png)\n",
    "\n",
    "Можно представилять себе задачу, как поиск связи (отображения) между проекциями какого-то сложного многомерного объекта.\n",
    "\n",
    "Связь существует (иначе ее было бы не найти), но может быть сложной."
   ]
  },
  {
   "cell_type": "markdown",
   "id": "1b32d1a9-b157-4835-9586-1b3ed59eca03",
   "metadata": {},
   "source": [
    "## Формулировка dot-product attention\n",
    "\n",
    "Пусть у нас есть три набора векторов (токенов, embedding-ов):\n",
    "- Keys(K): матрица размера \\[Nk, Dk\\]\n",
    "- Values(V): матрица размера \\[Nk, Dv\\]\n",
    "- Query(Q): матрица размера \\[Nq, Dk\\]\n"
   ]
  },
  {
   "cell_type": "markdown",
   "id": "e5085e30-e2f6-4731-8253-0e0df63655b0",
   "metadata": {},
   "source": [
    "![img](images/attention_formula.png)\n"
   ]
  },
  {
   "cell_type": "markdown",
   "id": "ba593944-2379-4ecd-ba47-84bf5dedd952",
   "metadata": {},
   "source": [
    "![img](images/attention_scheme.png)"
   ]
  },
  {
   "cell_type": "markdown",
   "id": "6cec561d-2965-4b7b-8e79-6c23e96b04bf",
   "metadata": {},
   "source": [
    "Tadaa!\n",
    "Как утверждают авторы - это все что нам надо для решения (любой) задачи.\n",
    "<hr>"
   ]
  },
  {
   "cell_type": "markdown",
   "id": "6e4699dd-1a9c-48b0-8736-53475b5017c1",
   "metadata": {},
   "source": [
    "## Какая размерность у Attention?\n",
    "\n",
    "Размерность аргумента softmax (\"energy\"):\n",
    "\n",
    "### $S = Q [Nq, Dk] @ K.T [Dk, Nk] = S[Nq, Nk]$\n",
    "\n",
    "***Вопрос:*** Вдоль какой оси (осей?) нужно выполнять softmax для матрицы S?\n",
    "\n",
    "Размерность attention:\n",
    "\n",
    "### $A = S[Nq, Nk] @ V [Nk, Dv] = A[Nq, Dv]$"
   ]
  },
  {
   "cell_type": "code",
   "execution_count": 3,
   "id": "bab4f755-e637-4c4e-bdcf-c03ab12c8e73",
   "metadata": {},
   "outputs": [],
   "source": [
    "np.random.seed(42)\n",
    "\n",
    "\n",
    "def softmax(x, axis):\n",
    "    x_stable = x - np.max(x, axis=axis, keepdims=True)\n",
    "    return np.exp(x_stable) / np.sum(np.exp(x_stable), axis=axis, keepdims=True)\n",
    "\n",
    "def generate_kvq(Nk=10, Dk=16, Dv=32, Nq=7):\n",
    "    keys = np.random.random((Nk, Dk))\n",
    "    values = np.random.random((Nk, Dv))\n",
    "    queries = np.random.random((Nq, Dk))\n",
    "    return keys, values, queries\n",
    "\n",
    "K, V, Q = generate_kvq()"
   ]
  },
  {
   "cell_type": "code",
   "execution_count": 4,
   "id": "6da6da97-3bda-4de3-9adf-284ef08f2b41",
   "metadata": {},
   "outputs": [
    {
     "name": "stdout",
     "output_type": "stream",
     "text": [
      "Размерности аргументов:\n",
      "\t Nk=10 \n",
      "\t Dk=16 \n",
      "\t Dv=32 \n",
      "\t Nq=7\n",
      "Размерность scores:(7, 10)\n",
      "Значения scores[0]:\n",
      "[0.10672994 0.08907373 0.09217163 0.10346397 0.10077311 0.11073602\n",
      " 0.08625948 0.1405662  0.09231037 0.07791556]\n",
      "Размерность attention: (7, 32)\n"
     ]
    }
   ],
   "source": [
    "def attention_numpy_example(keys, values, queries, verbose=True):\n",
    "    Nk, Dv = values.shape\n",
    "    Nq, Dk = queries.shape\n",
    "    assert keys.shape == (Nk, Dk)\n",
    "    if verbose:\n",
    "        print_f = print\n",
    "    else:\n",
    "        print_f = lambda x: None\n",
    "    \n",
    "    print_f(f\"Размерности аргументов:\\n\\t Nk={Nk} \\n\\t Dk={Dk} \\n\\t Dv={Dv} \\n\\t Nq={Nq}\")\n",
    "    scores = queries @ keys.T\n",
    "    scores = softmax(scores / np.sqrt(Dk), axis=-1)\n",
    "    print_f(f\"Размерность scores:{scores.shape}\")\n",
    "    print_f(f\"Значения scores[0]:\\n{scores[0]}\")\n",
    "    attention = scores @ values\n",
    "    print_f(f\"Размерность attention: {attention.shape}\")\n",
    "    return attention\n",
    "\n",
    "attn = attention_numpy_example(K, V, Q)"
   ]
  },
  {
   "cell_type": "markdown",
   "id": "8587a627-334d-4b8c-8946-84de408c68a0",
   "metadata": {},
   "source": [
    "<hr>\n",
    "\n",
    "## Формулировка Attention в индексной нотации\n",
    "#### $A[n_q, d_v] = \\sum_{k=0}^{Nk} (softmax(\\sum_{d=0}^{Dk} Q[n_q, d] K[k, d]) ) V[k, d_v]$"
   ]
  },
  {
   "cell_type": "markdown",
   "id": "bd81154e-8101-420a-b1bc-5a0edb5eb154",
   "metadata": {},
   "source": [
    "### Задача 1"
   ]
  },
  {
   "cell_type": "code",
   "execution_count": 23,
   "id": "9c4dbe04-a5a0-4a91-8ad2-96c0f1d2a1bc",
   "metadata": {},
   "outputs": [
    {
     "name": "stdout",
     "output_type": "stream",
     "text": [
      "Размерности аргументов:\n",
      "\t Nk=10 \n",
      "\t Dk=16 \n",
      "\t Dv=32 \n",
      "\t Nq=7\n",
      "Размерность scores:(7, 10)\n",
      "Значения scores[0]:\n",
      "[0.10672994 0.08907373 0.09217163 0.10346397 0.10077311 0.11073602\n",
      " 0.08625948 0.1405662  0.09231037 0.07791556]\n",
      "Размерность attention: (7, 32)\n"
     ]
    }
   ],
   "source": [
    "np.random.seed(42)\n",
    "\n",
    "def attention_numpy_indexing_example(keys, values, queries):\n",
    "    Nk, Dv = values.shape\n",
    "    Nq, Dk = queries.shape\n",
    "    assert keys.shape == (Nk, Dk)\n",
    "    \n",
    "    print(f\"Размерности аргументов:\\n\\t Nk={Nk} \\n\\t Dk={Dk} \\n\\t Dv={Dv} \\n\\t Nq={Nq}\")\n",
    "    scores = np.zeros((Nq, Nk))\n",
    "    \n",
    "    for n_q in range(Nq):\n",
    "        for n_k in range(Nk):\n",
    "            # для каждого query и для каждого key вычисляем меру \"похожести\"\n",
    "            scores[n_q, n_k] = np.dot(queries[n_q], keys[n_k])\n",
    "    # NOTE: attention квадратичен в том смысле, что вычисляется для каждого key и query\n",
    "    \n",
    "    # нормируем scores так, чтобы для каждого Q сумма S была 1\n",
    "    scores /= np.sqrt(Dk)\n",
    "    scores = softmax(scores, -1)\n",
    "    print(f\"Размерность scores:{scores.shape}\")\n",
    "    print(f\"Значения scores[0]:\\n{scores[0]}\")\n",
    "    \n",
    "    # вычисляем attention как взвешенную с S сумму values, т.е.\n",
    "    # представляем query как сумму \"похожих\" value\n",
    "    attention = np.zeros((Nq, Dv))\n",
    "    for n_q in range(Nq):\n",
    "        for n_k in range(Nk):\n",
    "            attention[n_q, :] += values[n_k] * scores[n_q, n_k] \n",
    "    \n",
    "    print (f\"Размерность attention: {attention.shape}\")\n",
    "    return attention\n",
    "\n",
    "attn_indexing = attention_numpy_indexing_example(K, V, Q)"
   ]
  },
  {
   "cell_type": "code",
   "execution_count": 24,
   "id": "4e5f5f04-8766-4dd6-b076-10819a1af2ea",
   "metadata": {},
   "outputs": [
    {
     "name": "stdout",
     "output_type": "stream",
     "text": [
      "Результаты двух attention одинаковы\n"
     ]
    }
   ],
   "source": [
    "assert np.allclose(attn, attn_indexing), \"Not close\"\n",
    "print(f\"Результаты двух attention одинаковы\")"
   ]
  },
  {
   "cell_type": "markdown",
   "id": "5c4aac34-cfee-4e94-b602-876320410fb6",
   "metadata": {},
   "source": [
    "<hr>\n",
    "\n",
    "#### **Интуиция-1**: Attention представляет каждый **Query** как сумму **Value**, взвешивая сумму по \"похожести\" **Query** на **Key** соответствующего **Value**.\n"
   ]
  },
  {
   "cell_type": "markdown",
   "id": "1792146a-81df-41f0-be4b-7de02ee54cf0",
   "metadata": {},
   "source": [
    "**Вопрос:** зачем в attention есть деление на $\\sqrt D$?"
   ]
  },
  {
   "cell_type": "markdown",
   "id": "de028457-62b4-4563-a0cb-e8903b73add7",
   "metadata": {},
   "source": [
    "### Что если Dk == Dv? Если Q == K == V?\n",
    "Часто размерности векторов одинаковы, и часто Q, K и V - один и тот же тензор (точнее, проекция этого тензора) - это называется **self-attention**.\n",
    "\n",
    "Тогда:\n",
    "$$\n",
    "S = softmax( Q K^T) \\newline\n",
    "A[n_q] = \\sum_{n=0}^{Nk}  S[n]K[n]\n",
    "$$\n",
    "#### **Интуиция-2**: Self-Attention можно представить, как разложение **query** по \"базису\" похожих **key=value**.\n",
    "Key=Value на самом деле не базис, т.к. Dk!=Nk, также они не нормированны (поэтому нужен softmax), так что эта интуиция -- способ приблизительно представить себе attention.\n",
    "<hr>"
   ]
  },
  {
   "cell_type": "markdown",
   "id": "e7b76108-b102-4e23-a149-c0f188842fba",
   "metadata": {},
   "source": [
    "### Что если какой-то query схож с одним key, и не похож на остальные?"
   ]
  },
  {
   "cell_type": "code",
   "execution_count": 25,
   "id": "0dd99947-a441-4c99-a713-f4fbf74bea8b",
   "metadata": {},
   "outputs": [],
   "source": [
    "Q = np.array([\n",
    "    [2.97, 0.01, -0.01, 0.01] # направлен вдоль первой оси\n",
    "])\n",
    "K = np.array([\n",
    "    [0., 3.1, 0.42, -1.22], # K-1 ортогонален Q\n",
    "    [-3.9, -1.13, 4.1, -0.789], # K-2 противонаправлен Q\n",
    "    [3.01, 0.02, -3.02, 0.],  # K-3 сонаправлен Q  \n",
    "])\n",
    "# V - единичная матрица, при умножении на которую ничего не происходит\n",
    "V = np.array([\n",
    "    [1., 0, 0],\n",
    "    [0., 1., 0],\n",
    "    [0., 0., 1]\n",
    "])\n"
   ]
  },
  {
   "cell_type": "code",
   "execution_count": 26,
   "id": "f0abc7fe-0100-4929-a2e2-9521170227d3",
   "metadata": {},
   "outputs": [
    {
     "name": "stdout",
     "output_type": "stream",
     "text": [
      "Размерности аргументов:\n",
      "\t Nk=3 \n",
      "\t Dk=4 \n",
      "\t Dv=3 \n",
      "\t Nq=1\n",
      "Размерность scores:(1, 3)\n",
      "Значения scores[0]:\n",
      "[1.12309946e-02 3.30340091e-05 9.88735971e-01]\n",
      "Размерность attention: (1, 3)\n"
     ]
    },
    {
     "data": {
      "text/plain": [
       "array([[0.011, 0.   , 0.989]])"
      ]
     },
     "execution_count": 26,
     "metadata": {},
     "output_type": "execute_result"
    }
   ],
   "source": [
    "np.round(attention_numpy_example(K, V, Q), 3)"
   ]
  },
  {
   "cell_type": "markdown",
   "id": "fcebd44b-5ba5-4145-a267-0bfd005d96bc",
   "metadata": {},
   "source": [
    "Результат attention - преимущественно Value \"сонаправленного\" вектора, маленький вклад Value \"ортогонального\" вектора, нулевой вклад Value \"противонаправленного\" вектора.\n",
    "\n",
    "**Вопрос:** Почему у объекта с ортогональным K все равно есть вклад?\n"
   ]
  },
  {
   "cell_type": "markdown",
   "id": "ca1edb26-c22b-4116-a26e-2aba0153aac8",
   "metadata": {},
   "source": [
    "#### **Интуиция-3**: Attention можно представить, как дифференцируемый словарь - достаем из него линейную комбинацию Value c весами схожести Key на Query\n",
    "Вместо единственного элемента - достаем взвешенную сумму.\n",
    "\n",
    "Учитывая, что Attention изначально использовался для задачи перевода - аналогия со словарем логична и ожидаема.\n",
    "<hr>"
   ]
  },
  {
   "cell_type": "markdown",
   "id": "f4e282e2-529c-48d1-ad80-6021aa4b9012",
   "metadata": {},
   "source": [
    "## Архитектура Transformer\n",
    "Траснсформеры - архитектура типа Encoder-Decoder, использующая Attention в качестве основного строительного блока для обработки информации.\n"
   ]
  },
  {
   "cell_type": "markdown",
   "id": "bbd6f44d-9723-45fd-96a2-3f6c841acaba",
   "metadata": {},
   "source": [
    "![img](images/transformer_scheme.png)\n"
   ]
  },
  {
   "cell_type": "markdown",
   "id": "7d619870-a825-4923-b8da-fb0ea0c2d7a1",
   "metadata": {},
   "source": [
    "### Multi-Head Attention\n",
    "Вместо одного attention по набору (K, V, Q) - будем делать множество:\n",
    "- проецируем каждый токен в h-раз меньший размер\n",
    "- выполняем проецирование h раз\n",
    "- на каждой из h групп выполняем attention\n",
    "- конкатенируем h результатов (каждый в h раз меньше входа) - получаем вектор исходного размера\n",
    "\n",
    "![img](images/multi_head_attention.png)\n"
   ]
  },
  {
   "cell_type": "markdown",
   "id": "3563e2dc-333a-4ba0-be2b-6812f2c90f4f",
   "metadata": {},
   "source": [
    "### Задача 2"
   ]
  },
  {
   "cell_type": "code",
   "execution_count": 29,
   "id": "5178ce40-ad26-46e6-85bf-f4fbbc87cc2b",
   "metadata": {},
   "outputs": [
    {
     "name": "stdout",
     "output_type": "stream",
     "text": [
      "Размерности аргументов:\n",
      "\t Nk=10 \n",
      "\t Dk=16 \n",
      "\t Dv=32 \n",
      "\t Nq=7\n",
      "Размерность scores:(7, 10)\n",
      "Значения scores[0]:\n",
      "[0.06945385 0.09010035 0.09734675 0.10786295 0.08040362 0.1351452\n",
      " 0.08154255 0.12653301 0.10943204 0.10217969]\n",
      "Размерность attention: (7, 32)\n",
      "=========================\n",
      "Размерности аргументов:\n",
      "\t Nk=10 \n",
      "\t Dk=8 \n",
      "\t Dv=16 \n",
      "\t Nq=7\n",
      "Размерность scores:(7, 10)\n",
      "Значения scores[0]:\n",
      "[0.08988159 0.09714627 0.10516477 0.09731223 0.10759062 0.11225755\n",
      " 0.08816847 0.10431352 0.10529007 0.09287492]\n",
      "Размерность attention: (7, 16)\n",
      "-------------------------\n",
      "Размерности аргументов:\n",
      "\t Nk=10 \n",
      "\t Dk=8 \n",
      "\t Dv=16 \n",
      "\t Nq=7\n",
      "Размерность scores:(7, 10)\n",
      "Значения scores[0]:\n",
      "[0.0662155  0.08852236 0.09122614 0.11397945 0.06804099 0.13591582\n",
      " 0.08469752 0.13326098 0.10751692 0.11062432]\n",
      "Размерность attention: (7, 16)\n",
      "-------------------------\n"
     ]
    }
   ],
   "source": [
    "K, V, Q = generate_kvq()\n",
    "\n",
    "def multi_head_attention(k, v, q, n_heads, verbose=True):\n",
    "    nq, dqk = q.shape\n",
    "    nvk, dv = v.shape\n",
    "    assert k.shape == (nvk, dqk), k.shape\n",
    "    assert dqk % n_heads == 0, dqk\n",
    "    assert dv % n_heads == 0, dv\n",
    "    outputs = []\n",
    "\n",
    "    # здесь обычно линейный слой [nq -> nq/h]\n",
    "    # вместо этого используем split \n",
    "    split_i = lambda t, i: np.split(t, n_heads, axis=1)[i]\n",
    "    \n",
    "    for idx in range(n_heads):\n",
    "        # YOUR CODE HERE\n",
    "        head_result = attention_numpy_example(split_i(k, idx), split_i(v, idx), split_i(q, idx))\n",
    "        print(\"-------------------------\")\n",
    "        outputs.append(head_result)\n",
    "    return np.concatenate(outputs, axis=1)\n",
    "   \n",
    "one_head = attention_numpy_example(K, V, Q)\n",
    "print(\"=========================\")\n",
    "two_head = multi_head_attention(K, V, Q, n_heads=2)\n",
    "\n",
    "assert one_head.shape == two_head.shape\n"
   ]
  },
  {
   "cell_type": "code",
   "execution_count": 30,
   "id": "6ba3dd3a-1c36-4827-b7fb-5c7646fd3bbe",
   "metadata": {},
   "outputs": [
    {
     "name": "stdout",
     "output_type": "stream",
     "text": [
      "Размерности аргументов:\n",
      "\t Nk=10 \n",
      "\t Dk=8 \n",
      "\t Dv=16 \n",
      "\t Nq=7\n",
      "Размерность scores:(7, 10)\n",
      "Значения scores[0]:\n",
      "[0.08988159 0.09714627 0.10516477 0.09731223 0.10759062 0.11225755\n",
      " 0.08816847 0.10431352 0.10529007 0.09287492]\n",
      "Размерность attention: (7, 16)\n",
      "-------------------------\n",
      "Размерности аргументов:\n",
      "\t Nk=10 \n",
      "\t Dk=8 \n",
      "\t Dv=16 \n",
      "\t Nq=7\n",
      "Размерность scores:(7, 10)\n",
      "Значения scores[0]:\n",
      "[0.0662155  0.08852236 0.09122614 0.11397945 0.06804099 0.13591582\n",
      " 0.08469752 0.13326098 0.10751692 0.11062432]\n",
      "Размерность attention: (7, 16)\n",
      "-------------------------\n"
     ]
    }
   ],
   "source": [
    "_half = lambda t: t[:, :t.shape[1]//2]\n",
    "a = attention_numpy_example(_half(K), _half(V), _half(Q), verbose=False)\n",
    "b = multi_head_attention(K, V, Q, n_heads=2, verbose=False)\n",
    "\n",
    "assert np.allclose(a, _half(b))"
   ]
  },
  {
   "cell_type": "markdown",
   "id": "04aeebe0-a8ab-406a-b21e-a2be2d49de36",
   "metadata": {},
   "source": [
    "### Positional Encoding\n",
    "До сих пор нигде не было речи об отношении порядка между Q или (K,V) - только про \"множества\" и \"наборы\" токенов.\n",
    "\n",
    "Для анализа последовательности необходимо \"встроить\" информацию о том, в каком порядке слова стояли в предложении, при этом не испортив их семантику.\n",
    "\n",
    "Авторы предложили использовать positional encoding - прибавлять к токенам \"добавку\", которая кодирует положение токена в последовательности в виде частот: $ \\hat{emb} = emb + P_t$\n",
    "\n",
    "![img](images/pe_formula.png)\n"
   ]
  },
  {
   "cell_type": "markdown",
   "id": "0ad973e6-4a3d-41e9-9643-c1a6ba014bc1",
   "metadata": {},
   "source": [
    "### Задача 3"
   ]
  },
  {
   "cell_type": "code",
   "execution_count": 32,
   "id": "dc38f84d-9608-417c-85d8-9ed7a10c5203",
   "metadata": {},
   "outputs": [
    {
     "data": {
      "text/plain": [
       "Text(0, 0.5, 'Token position')"
      ]
     },
     "execution_count": 32,
     "metadata": {},
     "output_type": "execute_result"
    },
    {
     "data": {
      "image/png": "[encoded data removed]",
      "text/plain": [
       "<Figure size 432x288 with 2 Axes>"
      ]
     },
     "metadata": {
      "needs_background": "light"
     },
     "output_type": "display_data"
    }
   ],
   "source": [
    "import math\n",
    "from matplotlib import pyplot as plt\n",
    "\n",
    "def generate_positional_encoding(num_tokens, dim_token):\n",
    "    encodings = np.zeros((num_tokens, dim_token), dtype=float)\n",
    "    pos = np.arange(num_tokens)\n",
    "    div = 1e5 ** (np.arange(dim_token // 2) / dim_token)\n",
    "    encodings[:, :: 2] = np.sin(pos[:, None] / div[None])\n",
    "    encodings[:, 1:: 2] = np.cos(pos[:, None] / div[None])\n",
    "    return encodings\n",
    "\n",
    "_nt = 50\n",
    "_dt = 128\n",
    "pos_encodings = generate_positional_encoding(num_tokens=_nt, dim_token=_dt)\n",
    "\n",
    "plt.imshow(pos_encodings, cmap='seismic')\n",
    "plt.colorbar(fraction=0.02)\n",
    "plt.title(f\"Position Encodings for {_nt} tokens, each size of {_dt}\")\n",
    "plt.xlabel(\"Token depth (element idx)\")\n",
    "plt.ylabel(\"Token position\")"
   ]
  },
  {
   "cell_type": "markdown",
   "id": "a58d72e9-ca65-4189-8fec-87522aaa9b0c",
   "metadata": {},
   "source": [
    "### Почему positional encoding - такой \"странный\"? "
   ]
  },
  {
   "cell_type": "markdown",
   "id": "142d1146-a68f-48e0-bc32-a2533a4997b2",
   "metadata": {},
   "source": [
    "В attention вычисляются скалярные произведения токенов\n",
    "\n",
    "$ \\hat{emb} = emb + P_t$\n",
    "\n",
    "$(\\hat{emb}, \\hat{emb}) = (emb + P_t, emb + P_t) = (emb, emb) + 2(emb, P_t) + (P_t, P_t)$\n"
   ]
  },
  {
   "cell_type": "code",
   "execution_count": 33,
   "id": "440e5ddc-94ad-4684-aa5f-a741e17254a5",
   "metadata": {},
   "outputs": [
    {
     "data": {
      "text/plain": [
       "Text(0.5, 1.0, '(Pt, Pt) dot product')"
      ]
     },
     "execution_count": 33,
     "metadata": {},
     "output_type": "execute_result"
    },
    {
     "data": {
      "image/png": "[encoded data removed]",
      "text/plain": [
       "<Figure size 432x288 with 2 Axes>"
      ]
     },
     "metadata": {
      "needs_background": "light"
     },
     "output_type": "display_data"
    }
   ],
   "source": [
    "plt.imshow(\n",
    "    pos_encodings @ pos_encodings.T / np.sqrt(_dt)\n",
    ")\n",
    "plt.colorbar()\n",
    "plt.title(\"(Pt, Pt) dot product\")"
   ]
  },
  {
   "cell_type": "code",
   "execution_count": 34,
   "id": "c2bc3b16-bb7c-48c0-b1f0-d484054e6178",
   "metadata": {},
   "outputs": [
    {
     "data": {
      "text/plain": [
       "Text(0.5, 1.0, '(Pt, Pt) dot product')"
      ]
     },
     "execution_count": 34,
     "metadata": {},
     "output_type": "execute_result"
    },
    {
     "data": {
      "image/png": "[encoded data removed]",
      "text/plain": [
       "<Figure size 432x288 with 2 Axes>"
      ]
     },
     "metadata": {
      "needs_background": "light"
     },
     "output_type": "display_data"
    }
   ],
   "source": [
    "plt.imshow(\n",
    "    np.random.randn(*pos_encodings.shape) @ pos_encodings.T / np.sqrt(_dt)\n",
    ")\n",
    "plt.colorbar()\n",
    "plt.title(\"(Pt, Pt) dot product\")"
   ]
  },
  {
   "cell_type": "markdown",
   "id": "edf61dcd-31ab-48f7-a9d3-dc814bfa3fe6",
   "metadata": {},
   "source": [
    "### Полезные ссылки\n",
    "Formal Algorithms for Transformers: https://arxiv.org/pdf/2207.09238.pdf\n",
    "\n",
    "- https://lena-voita.github.io/nlp_course/seq2seq_and_attention.html\n",
    "- https://jalammar.github.io/illustrated-transformer/\n",
    "- https://www.youtube.com/watch?v=U0s0f995w14\n",
    "- https://ai.googleblog.com/2017/08/transformer-novel-neural-network.html\n",
    "- https://nlp.seas.harvard.edu/2018/04/03/attention.html"
   ]
  }
 ],
 "metadata": {
  "interpreter": {
   "hash": "9de35f58b490df70c64b1db97b3e54dc2a525ab2d36632bb7ddc91e7dd00330b"
  },
  "kernelspec": {
   "display_name": "Python 3.9.7 ('base')",
   "language": "python",
   "name": "python3"
  },
  "language_info": {
   "codemirror_mode": {
    "name": "ipython",
    "version": 3
   },
   "file_extension": ".py",
   "mimetype": "text/x-python",
   "name": "python",
   "nbconvert_exporter": "python",
   "pygments_lexer": "ipython3",
   "version": "3.9.7"
  }
 },
 "nbformat": 4,
 "nbformat_minor": 5
}
