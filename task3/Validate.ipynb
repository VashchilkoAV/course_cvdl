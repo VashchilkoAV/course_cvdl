{
 "cells": [
  {
   "cell_type": "markdown",
   "metadata": {},
   "source": [
    "# Imports and setting up"
   ]
  },
  {
   "cell_type": "code",
   "execution_count": 1,
   "metadata": {},
   "outputs": [
    {
     "name": "stderr",
     "output_type": "stream",
     "text": [
      "/home/alexander/computerScience/phystech/9sem/abbyy/course_cvdl/.venv/lib/python3.10/site-packages/tqdm/auto.py:22: TqdmWarning: IProgress not found. Please update jupyter and ipywidgets. See https://ipywidgets.readthedocs.io/en/stable/user_install.html\n",
      "  from .autonotebook import tqdm as notebook_tqdm\n"
     ]
    }
   ],
   "source": [
    "from pathlib import Path\n",
    "import numpy as np\n",
    "import torch\n",
    "import math\n",
    "from tqdm import tqdm\n",
    "from torchvision.datasets import CocoDetection\n",
    "import matplotlib.pyplot as plt\n",
    "import torchvision"
   ]
  },
  {
   "cell_type": "code",
   "execution_count": 2,
   "metadata": {},
   "outputs": [],
   "source": [
    "from abbyy_course_cvdl_t3.coco_text import COCO_Text\n",
    "from abbyy_course_cvdl_t3 import coco_evaluation\n",
    "from abbyy_course_cvdl_t3.utils import evaluate_ap_from_cocotext_json\n",
    "from abbyy_course_cvdl_t3.utils import dump_detections_to_cocotext_json"
   ]
  },
  {
   "cell_type": "code",
   "execution_count": 3,
   "metadata": {},
   "outputs": [
    {
     "name": "stdout",
     "output_type": "stream",
     "text": [
      "/home/alexander/computerScience/phystech/9sem/abbyy/course_cvdl/task2\n"
     ]
    }
   ],
   "source": [
    "cd ../task2"
   ]
  },
  {
   "cell_type": "code",
   "execution_count": 4,
   "metadata": {},
   "outputs": [],
   "source": [
    "import abbyy_course_cvdl_t2\n",
    "from abbyy_course_cvdl_t2.convert import PointsToObjects, ObjectsToPoints\n",
    "from abbyy_course_cvdl_t2.impl.train import train\n",
    "from abbyy_course_cvdl_t2.impl.data import CocoTextDetection, CocoDetectionPrepareTransform\n",
    "from abbyy_course_cvdl_t2.network import CenterNet\n",
    "from abbyy_course_cvdl_t2.loss import CenterNetLoss"
   ]
  },
  {
   "cell_type": "code",
   "execution_count": 5,
   "metadata": {},
   "outputs": [
    {
     "name": "stdout",
     "output_type": "stream",
     "text": [
      "/home/alexander/computerScience/phystech/9sem/abbyy/course_cvdl/task3\n"
     ]
    }
   ],
   "source": [
    "cd ../task3"
   ]
  },
  {
   "cell_type": "code",
   "execution_count": 6,
   "metadata": {},
   "outputs": [],
   "source": [
    "def postprocess(data, target_shape, input_shape):\n",
    "    unf = {}\n",
    "    res = data[data[:, -1] != 0]\n",
    "    boxes = res[:, :4].copy()\n",
    "    b = boxes.copy()\n",
    "    result_boxes = np.zeros_like(boxes)\n",
    "    result_boxes[:, 0] = (boxes[:, 1] - b[:, 3] / 2) * (target_shape[1] / input_shape[1])\n",
    "    result_boxes[:, 1] = (boxes[:, 0] - b[:, 2] / 2) * (target_shape[0] / input_shape[0])\n",
    "    result_boxes[:, 2] = boxes[:, 3] * (target_shape[1] / input_shape[1])\n",
    "    result_boxes[:, 3] = boxes[:, 2] * (target_shape[0] / input_shape[0])\n",
    "    unf['boxes'] = result_boxes\n",
    "    unf['scores'] = res[:, -1]\n",
    "    return unf\n",
    "\n",
    "\n",
    "def extract_results(net, ds_val, ct, input_shape, device, predictions_path='predictions.json'):\n",
    "    prepared_preds = []\n",
    "    img_ids = []\n",
    "\n",
    "    net.eval()\n",
    "\n",
    "    for num, img_id in enumerate(tqdm(ds_val.ids)):\n",
    "        img_id = int(img_id)\n",
    "        img_meta = ct.loadImgs(ids=[img_id])[0]\n",
    "\n",
    "        with torch.no_grad():\n",
    "            x = ds_val[num][0]\n",
    "            \n",
    "            pred = net(\n",
    "                x[None, ...].to(device),\n",
    "                return_objects=True\n",
    "            )[0].detach().cpu().numpy()\n",
    "            prepared_preds.append(\n",
    "                postprocess(pred, target_shape=(img_meta['height'], img_meta['width']), input_shape=input_shape)\n",
    "            )\n",
    "            img_ids.append(img_id)\n",
    "\n",
    "    scores = np.concatenate([u['scores'] for u in prepared_preds], axis=0)\n",
    "    boxes = np.concatenate([u['boxes'] for u in prepared_preds], axis=0)\n",
    "    \n",
    "    image_ids = []\n",
    "    \n",
    "    for num, i in enumerate(img_ids):\n",
    "        image_ids += [i] * len(prepared_preds[num]['boxes'])\n",
    "    image_ids = np.array(image_ids)\n",
    "\n",
    "    dump_detections_to_cocotext_json(\n",
    "        image_ids = image_ids.tolist(),\n",
    "        xlefts=boxes[:, 0].tolist(),\n",
    "        ytops=boxes[:, 1].tolist(),\n",
    "        widths=boxes[:, 2].tolist(),\n",
    "        heights=boxes[:, 3].tolist(),\n",
    "        scores=scores.tolist(),\n",
    "        path=predictions_path\n",
    "    )\n",
    "    \n",
    "    ap, prec, rec = evaluate_ap_from_cocotext_json(\n",
    "    coco_text=ct,\n",
    "    path=predictions_path\n",
    "    )\n",
    "    return (ap, prec, rec, len(scores))\n",
    "\n",
    "\n",
    "def validate(images_path, anno_path, model_dump_path, predictions_path='predictions.json', device='cpu', n_classes=2, resolution=640):\n",
    "    \n",
    "    _anno_path = Path(anno_path)\n",
    "    _images_path = Path(images_path)\n",
    "\n",
    "    assert _anno_path.exists(), \"Set your own path to annotation\"\n",
    "    assert _images_path.exists(), \"Set your own path to images\"\n",
    "    \n",
    "    ct = COCO_Text(anno_path)\n",
    "    input_shape = (resolution, resolution)\n",
    "    \n",
    "    ds_val = CocoTextDetection(\n",
    "    _images_path,\n",
    "    _anno_path,\n",
    "    transforms=CocoDetectionPrepareTransform(size=input_shape, #ids_map = {1: 0, 0: 0}\n",
    "    ),\n",
    "    area_fraction_threshold=1/32/32,\n",
    "    split='val'\n",
    "    )\n",
    "    \n",
    "    device = torch.device(device)\n",
    "    print(device)\n",
    "    net = torch.load(model_dump_path, map_location=device)\n",
    "    net.to(device)\n",
    "    net.eval()\n",
    "    \n",
    "    ap, prec, rec, n_obj = extract_results(net, ds_val, ct, input_shape, device, predictions_path=predictions_path)\n",
    "\n",
    "    print(f\"Итоговый скор AP на val: {ap}\")\n",
    "\n",
    "    plt.plot(prec, rec)\n",
    "    plt.xlabel('precision')\n",
    "    plt.ylabel('recall')\n",
    "    plt.title('PR curve')\n",
    "    plt.grid()"
   ]
  },
  {
   "cell_type": "markdown",
   "metadata": {},
   "source": [
    "# Validating"
   ]
  },
  {
   "cell_type": "code",
   "execution_count": null,
   "metadata": {},
   "outputs": [],
   "source": [
    "#!wget --no-check-certificate 'https://docs.google.com/uc?export=download&id=1rNVGdD6YmqhKdMctnR-z_nTTuJ9ePSZi' -O 'model.pth'\n",
    "!gdown https://drive.google.com/uc?id=1rNVGdD6YmqhKdMctnR-z_nTTuJ9ePSZi -O model.pth"
   ]
  },
  {
   "cell_type": "code",
   "execution_count": 7,
   "metadata": {},
   "outputs": [],
   "source": [
    "base = Path(\"/home/alexander/Downloads/coco2014\")\n",
    "anno_path = base / 'cocotext.v2.json'\n",
    "images_path = base / 'images/train2014'\n",
    "model_dump_path = 'model.pth'\n",
    "predictions_path = 'predictions.json'\n",
    "\n",
    "device = 'cuda:0'\n",
    "\n",
    "n_classes = 2\n",
    "resolution = 640"
   ]
  },
  {
   "cell_type": "code",
   "execution_count": 8,
   "metadata": {},
   "outputs": [
    {
     "name": "stdout",
     "output_type": "stream",
     "text": [
      "loading annotations into memory...\n",
      "0:00:02.220653\n",
      "creating index...\n",
      "index created!\n",
      "cuda:0\n"
     ]
    },
    {
     "name": "stderr",
     "output_type": "stream",
     "text": [
      "100%|██████████| 4446/4446 [05:36<00:00, 13.20it/s]\n"
     ]
    },
    {
     "name": "stdout",
     "output_type": "stream",
     "text": [
      "Loading and preparing results...     \n",
      "DONE (t=0.32s)\n",
      "Итоговый скор AP на val: 0.3730886187212715\n"
     ]
    },
    {
     "data": {
      "image/png": "[encoded data removed]",
      "text/plain": [
       "<Figure size 640x480 with 1 Axes>"
      ]
     },
     "metadata": {},
     "output_type": "display_data"
    }
   ],
   "source": [
    "validate(images_path=images_path, anno_path=anno_path, \n",
    "         model_dump_path=model_dump_path, predictions_path=predictions_path, \n",
    "         device=device, n_classes=n_classes, resolution=resolution)"
   ]
  },
  {
   "cell_type": "code",
   "execution_count": null,
   "metadata": {},
   "outputs": [],
   "source": []
  }
 ],
 "metadata": {
  "interpreter": {
   "hash": "4f782c782e2a32bb2802e651bce4745c161372ca597e1c0a908f1fe5f8326707"
  },
  "kernelspec": {
   "display_name": "Python 3.10.7 ('.venv': venv)",
   "language": "python",
   "name": "python3"
  },
  "language_info": {
   "codemirror_mode": {
    "name": "ipython",
    "version": 3
   },
   "file_extension": ".py",
   "mimetype": "text/x-python",
   "name": "python",
   "nbconvert_exporter": "python",
   "pygments_lexer": "ipython3",
   "version": "3.10.7"
  }
 },
 "nbformat": 4,
 "nbformat_minor": 4
}
