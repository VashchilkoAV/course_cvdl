{
 "cells": [
  {
   "cell_type": "code",
   "execution_count": 1,
   "metadata": {},
   "outputs": [],
   "source": [
    "%matplotlib inline"
   ]
  },
  {
   "cell_type": "markdown",
   "metadata": {},
   "source": [
    "\n",
    "# Compiling and Optimizing a Model with the Python Interface (AutoTVM)\n",
    "**Author**:\n",
    "[Chris Hoge](https://github.com/hogepodge)\n",
    "\n",
    "In the [TVMC Tutorial](tvmc_command_line_driver), we covered how to compile, run, and tune a\n",
    "pre-trained vision model, ResNet-50 v2 using the command line interface for\n",
    "TVM, TVMC. TVM is more that just a command-line tool though, it is an\n",
    "optimizing framework with APIs available for a number of different languages\n",
    "that gives you tremendous flexibility in working with machine learning models.\n",
    "\n",
    "In this tutorial we will cover the same ground we did with TVMC, but show how\n",
    "it is done with the Python API. Upon completion of this section, we will have\n",
    "used the Python API for TVM to accomplish the following tasks:\n",
    "\n",
    "* Compile a pre-trained ResNet-50 v2 model for the TVM runtime.\n",
    "* Run a real image through the compiled model, and interpret the output and model\n",
    "  performance.\n",
    "* Tune the model that model on a CPU using TVM.\n",
    "* Re-compile an optimized model using the tuning data collected by TVM.\n",
    "* Run the image through the optimized model, and compare the output and model\n",
    "  performance.\n",
    "\n",
    "The goal of this section is to give you an overview of TVM's capabilites and\n",
    "how to use them through the Python API.\n"
   ]
  },
  {
   "cell_type": "markdown",
   "metadata": {},
   "source": [
    "TVM is a deep learning compiler framework, with a number of different modules\n",
    "available for working with deep learning models and operators. In this\n",
    "tutorial we will work through how to load, compile, and optimize a model\n",
    "using the Python API.\n",
    "\n",
    "We begin by importing a number of dependencies, including ``onnx`` for\n",
    "loading and converting the model, helper utilities for downloading test data,\n",
    "the Python Image Library for working with the image data, ``numpy`` for pre\n",
    "and post-processing of the image data, the TVM Relay framework, and the TVM\n",
    "Graph Executor.\n",
    "\n"
   ]
  },
  {
   "cell_type": "markdown",
   "metadata": {},
   "source": [
    "! pip install protobuf==3.20.*\n",
    "! pip install apache-tvm"
   ]
  },
  {
   "cell_type": "code",
   "execution_count": 3,
   "metadata": {},
   "outputs": [
    {
     "name": "stdout",
     "output_type": "stream",
     "text": [
      "Looking in indexes: https://pypi.org/simple, https://pypi.ngc.nvidia.com\n",
      "Collecting apache-tvm\n",
      "  Downloading apache_tvm-0.10.0-cp310-cp310-manylinux_2_17_x86_64.manylinux2014_x86_64.whl (44.2 MB)\n",
      "\u001b[2K     \u001b[90m━━━━━━━━━━━━━━━━━━━━━━━━━━━━━━━━━━━━━━━━\u001b[0m \u001b[32m44.2/44.2 MB\u001b[0m \u001b[31m5.0 MB/s\u001b[0m eta \u001b[36m0:00:00\u001b[0m00:01\u001b[0m00:01\u001b[0m\n",
      "\u001b[?25hRequirement already satisfied: numpy in /home/alexander/computerScience/phystech/9sem/abbyy/course_cvdl/.venv/lib/python3.10/site-packages (from apache-tvm) (1.23.4)\n",
      "Requirement already satisfied: psutil in /home/alexander/computerScience/phystech/9sem/abbyy/course_cvdl/.venv/lib/python3.10/site-packages (from apache-tvm) (5.9.3)\n",
      "Collecting attrs\n",
      "  Downloading attrs-22.1.0-py2.py3-none-any.whl (58 kB)\n",
      "\u001b[2K     \u001b[90m━━━━━━━━━━━━━━━━━━━━━━━━━━━━━━━━━━━━━━━━\u001b[0m \u001b[32m58.8/58.8 kB\u001b[0m \u001b[31m9.8 MB/s\u001b[0m eta \u001b[36m0:00:00\u001b[0m\n",
      "\u001b[?25hCollecting cloudpickle\n",
      "  Downloading cloudpickle-2.2.0-py3-none-any.whl (25 kB)\n",
      "Requirement already satisfied: decorator in /home/alexander/computerScience/phystech/9sem/abbyy/course_cvdl/.venv/lib/python3.10/site-packages (from apache-tvm) (5.1.1)\n",
      "Collecting scipy\n",
      "  Downloading scipy-1.9.3-cp310-cp310-manylinux_2_17_x86_64.manylinux2014_x86_64.whl (33.7 MB)\n",
      "\u001b[2K     \u001b[90m━━━━━━━━━━━━━━━━━━━━━━━━━━━━━━━━━━━━━━━━\u001b[0m \u001b[32m33.7/33.7 MB\u001b[0m \u001b[31m5.1 MB/s\u001b[0m eta \u001b[36m0:00:00\u001b[0m00:01\u001b[0m00:01\u001b[0m\n",
      "\u001b[?25hCollecting synr==0.6.0\n",
      "  Downloading synr-0.6.0-py3-none-any.whl (18 kB)\n",
      "Requirement already satisfied: tornado in /home/alexander/computerScience/phystech/9sem/abbyy/course_cvdl/.venv/lib/python3.10/site-packages (from apache-tvm) (6.2)\n",
      "Installing collected packages: scipy, cloudpickle, attrs, synr, apache-tvm\n",
      "Successfully installed apache-tvm-0.10.0 attrs-22.1.0 cloudpickle-2.2.0 scipy-1.9.3 synr-0.6.0\n"
     ]
    }
   ],
   "source": [
    "! pip install apache-tvm"
   ]
  },
  {
   "cell_type": "code",
   "execution_count": 11,
   "metadata": {},
   "outputs": [],
   "source": [
    "import onnx\n",
    "from PIL import Image\n",
    "import numpy as np\n",
    "import tvm.relay as relay\n",
    "import tvm\n",
    "from tvm.contrib import graph_executor\n",
    "import cv2\n",
    "import torchvision.transforms as transforms"
   ]
  },
  {
   "cell_type": "markdown",
   "metadata": {},
   "source": [
    "## Downloading and Loading the ONNX Model\n",
    "\n",
    "For this tutorial, we will be working with ResNet-50 v2. ResNet-50 is a\n",
    "convolutional neural network that is 50 layers deep and designed to classify\n",
    "images. The model we will be using has been pre-trained on more than a\n",
    "million images with 1000 different classifications. The network has an input\n",
    "image size of 224x224. If you are interested exploring more of how the\n",
    "ResNet-50 model is structured, we recommend downloading\n",
    "[Netron](https://netron.app), a freely available ML model viewer.\n",
    "\n",
    "TVM provides a helper library to download pre-trained models. By providing a\n",
    "model URL, file name, and model type through the module, TVM will download\n",
    "the model and save it to disk. For the instance of an ONNX model, you can\n",
    "then load it into memory using the ONNX runtime.\n",
    "\n",
    ".. admonition:: Working with Other Model Formats\n",
    "\n",
    "  TVM supports many popular model formats. A list can be found in the\n",
    "  `Compile Deep Learning Models <tutorial-frontend>` section of the TVM\n",
    "  Documentation.\n",
    "\n"
   ]
  },
  {
   "cell_type": "code",
   "execution_count": 10,
   "metadata": {},
   "outputs": [],
   "source": [
    "#model_path = download_testdata(model_url, \"resnet50-v2-7.onnx\", module=\"onnx\")\n",
    "model_path = '/home/alexander/computerScience/phystech/9sem/abbyy/course_cvdl/task_project/fast_deep.onnx'\n",
    "onnx_model = onnx.load(model_path)\n",
    "\n",
    "# Seed numpy's RNG to get consistent results\n",
    "np.random.seed(0)"
   ]
  },
  {
   "cell_type": "markdown",
   "metadata": {},
   "source": [
    "## Downloading, Preprocessing, and Loading the Test Image\n",
    "\n",
    "Each model is particular when it comes to expected tensor shapes, formats and\n",
    "data types. For this reason, most models require some pre and\n",
    "post-processing, to ensure the input is valid and to interpret the output.\n",
    "TVMC has adopted NumPy's ``.npz`` format for both input and output data.\n",
    "\n",
    "As input for this tutorial, we will use the image of a cat, but you can feel\n",
    "free to substitute this image for any of your choosing.\n",
    "\n",
    "<img src=\"https://s3.amazonaws.com/model-server/inputs/kitten.jpg\" height=\"224px\" width=\"224px\" align=\"center\">\n",
    "\n",
    "Download the image data, then convert it to a numpy array to use as an input to the model.\n",
    "\n"
   ]
  },
  {
   "cell_type": "code",
   "execution_count": 12,
   "metadata": {},
   "outputs": [],
   "source": [
    "#img_url = \"https://s3.amazonaws.com/model-server/inputs/kitten.jpg\"\n",
    "#img_path = download_testdata(img_url, \"imagenet_cat.png\", module=\"data\")\n",
    "img_path = './outputs/test.png'\n",
    "\n",
    "# Resize it to 224x224\n",
    "#resized_image = Image.open(img_path).resize((224, 224))\n",
    "#img_data = np.asarray(resized_image).astype(\"float32\")\n",
    "#print(img_data.shape)\n",
    "transform = transforms.ToTensor()\n",
    "img_data = transform(cv2.resize(cv2.imread(img_path), (224, 224)))[None, ...]\n",
    "\n",
    "# Our input image is in HWC layout while ONNX expects CHW input, so convert the array\n",
    "#img_data = np.transpose(img_data, (2, 0, 1))\n",
    "\n",
    "\n",
    "\n",
    "# Normalize according to the ImageNet input specification\n",
    "#imagenet_mean = np.array([0.485, 0.456, 0.406]).reshape((3, 1, 1))\n",
    "#imagenet_stddev = np.array([0.229, 0.224, 0.225]).reshape((3, 1, 1))\n",
    "#norm_img_data = (img_data / 255 - imagenet_mean) / imagenet_stddev\n",
    "\n",
    "# Add the batch dimension, as we are expecting 4-dimensional input: NCHW.\n",
    "#img_data = np.expand_dims(norm_img_data, axis=0)"
   ]
  },
  {
   "cell_type": "markdown",
   "metadata": {},
   "source": [
    "## Compile the Model With Relay\n",
    "\n",
    "The next step is to compile the ResNet model. We begin by importing the model\n",
    "to relay using the `from_onnx` importer. We then build the model, with\n",
    "standard optimizations, into a TVM library.  Finally, we create a TVM graph\n",
    "runtime module from the library.\n",
    "\n"
   ]
  },
  {
   "cell_type": "code",
   "execution_count": 13,
   "metadata": {},
   "outputs": [],
   "source": [
    "target = \"llvm -mcpu=skylake\""
   ]
  },
  {
   "cell_type": "markdown",
   "metadata": {},
   "source": [
    ".. admonition:: Defining the Correct Target\n",
    "\n",
    "  Specifying the correct target can have a huge impact on the performance of\n",
    "  the compiled module, as it can take advantage of hardware features\n",
    "  available on the target. For more information, please refer to\n",
    "  `Auto-tuning a convolutional network for x86 CPU <tune_relay_x86>`.\n",
    "  We recommend identifying which CPU you are running, along with optional\n",
    "  features, and set the target appropriately. For example, for some\n",
    "  processors ``target = \"llvm -mcpu=skylake\"``, or ``target = \"llvm\n",
    "  -mcpu=skylake-avx512\"`` for processors with the AVX-512 vector instruction\n",
    "  set.\n",
    "\n",
    "\n"
   ]
  },
  {
   "cell_type": "code",
   "execution_count": 14,
   "metadata": {},
   "outputs": [
    {
     "name": "stderr",
     "output_type": "stream",
     "text": [
      "One or more operators have not been tuned. Please tune your model for better performance. Use DEBUG logging level to see more details.\n"
     ]
    }
   ],
   "source": [
    "# The input name may vary across model types. You can use a tool\n",
    "# like Netron to check input names\n",
    "input_name = \"image\"\n",
    "shape_dict = {input_name: img_data.shape}\n",
    "\n",
    "mod, params = relay.frontend.from_onnx(onnx_model, shape_dict)\n",
    "\n",
    "with tvm.transform.PassContext(opt_level=3):\n",
    "    lib = relay.build(mod, target=target, params=params)\n",
    "\n",
    "dev = tvm.device(str(target), 0)\n",
    "module = graph_executor.GraphModule(lib[\"default\"](dev))"
   ]
  },
  {
   "cell_type": "markdown",
   "metadata": {},
   "source": [
    "## Execute on the TVM Runtime\n",
    "Now that we've compiled the model, we can use the TVM runtime to make\n",
    "predictions with it. To use TVM to run the model and make predictions, we\n",
    "need two things:\n",
    "\n",
    "- The compiled model, which we just produced.\n",
    "- Valid input to the model to make predictions on.\n",
    "\n"
   ]
  },
  {
   "cell_type": "code",
   "execution_count": 15,
   "metadata": {},
   "outputs": [],
   "source": [
    "dtype = \"float32\"\n",
    "module.set_input(input_name, img_data)\n",
    "module.run()\n",
    "output_shape = (1, 1, 224, 224)\n",
    "tvm_output = module.get_output(0, tvm.nd.empty(output_shape)).numpy()"
   ]
  },
  {
   "cell_type": "markdown",
   "metadata": {},
   "source": [
    "## Collect Basic Performance Data\n",
    "We want to collect some basic performance data associated with this\n",
    "unoptimized model and compare it to a tuned model later. To help account for\n",
    "CPU noise, we run the computation in multiple batches in multiple\n",
    "repetitions, then gather some basis statistics on the mean, median, and\n",
    "standard deviation.\n",
    "\n"
   ]
  },
  {
   "cell_type": "code",
   "execution_count": 16,
   "metadata": {},
   "outputs": [
    {
     "name": "stdout",
     "output_type": "stream",
     "text": [
      "{'mean': 115.34919029989396, 'median': 117.45247529979679, 'std': 23.773781935508755}\n"
     ]
    }
   ],
   "source": [
    "import timeit\n",
    "\n",
    "timing_number = 10\n",
    "timing_repeat = 10\n",
    "unoptimized = (\n",
    "    np.array(timeit.Timer(lambda: module.run()).repeat(repeat=timing_repeat, number=timing_number))\n",
    "    * 1000\n",
    "    / timing_number\n",
    ")\n",
    "unoptimized = {\n",
    "    \"mean\": np.mean(unoptimized),\n",
    "    \"median\": np.median(unoptimized),\n",
    "    \"std\": np.std(unoptimized),\n",
    "}\n",
    "\n",
    "print(unoptimized)"
   ]
  },
  {
   "cell_type": "markdown",
   "metadata": {},
   "source": [
    "## Tune the model\n",
    "The previous model was compiled to work on the TVM runtime, but did not\n",
    "include any platform specific optimization. In this section, we will show you\n",
    "how to build an optimized model using TVM to target your working platform.\n",
    "\n",
    "In some cases, we might not get the expected performance when running\n",
    "inferences using our compiled module. In cases like this, we can make use of\n",
    "the auto-tuner, to find a better configuration for our model and get a boost\n",
    "in performance. Tuning in TVM refers to the process by which a model is\n",
    "optimized to run faster on a given target. This differs from training or\n",
    "fine-tuning in that it does not affect the accuracy of the model, but only\n",
    "the runtime performance. As part of the tuning process, TVM will try running\n",
    "many different operator implementation variants to see which perform best.\n",
    "The results of these runs are stored in a tuning records file.\n",
    "\n",
    "In the simplest form, tuning requires you to provide three things:\n",
    "\n",
    "- the target specification of the device you intend to run this model on\n",
    "- the path to an output file in which the tuning records will be stored\n",
    "- a path to the model to be tuned.\n",
    "\n",
    "\n"
   ]
  },
  {
   "cell_type": "code",
   "execution_count": 17,
   "metadata": {},
   "outputs": [],
   "source": [
    "import tvm.auto_scheduler as auto_scheduler\n",
    "from tvm.autotvm.tuner import XGBTuner\n",
    "from tvm import autotvm"
   ]
  },
  {
   "cell_type": "markdown",
   "metadata": {},
   "source": [
    "Set up some basic parameters for the runner. The runner takes compiled code\n",
    "that is generated with a specific set of parameters and measures the\n",
    "performance of it. ``number`` specifies the number of different\n",
    "configurations that we will test, while ``repeat`` specifies how many\n",
    "measurements we will take of each configuration. ``min_repeat_ms`` is a value\n",
    "that specifies how long need to run configuration test. If the number of\n",
    "repeats falls under this time, it will be increased. This option is necessary\n",
    "for accurate tuning on GPUs, and is not required for CPU tuning. Setting this\n",
    "value to 0 disables it. The ``timeout`` places an upper limit on how long to\n",
    "run training code for each tested configuration.\n",
    "\n"
   ]
  },
  {
   "cell_type": "code",
   "execution_count": 18,
   "metadata": {},
   "outputs": [],
   "source": [
    "number = 10\n",
    "repeat = 1\n",
    "min_repeat_ms = 0  # since we're tuning on a CPU, can be set to 0\n",
    "timeout = 10  # in seconds\n",
    "\n",
    "# create a TVM runner\n",
    "runner = autotvm.LocalRunner(\n",
    "    number=number,\n",
    "    repeat=repeat,\n",
    "    timeout=timeout,\n",
    "    min_repeat_ms=min_repeat_ms,\n",
    "    enable_cpu_cache_flush=True,\n",
    ")"
   ]
  },
  {
   "cell_type": "markdown",
   "metadata": {},
   "source": [
    "Create a simple structure for holding tuning options. We use an XGBoost\n",
    "algorithim for guiding the search. For a production job, you will want to set\n",
    "the number of trials to be larger than the value of 20 used here. For CPU we\n",
    "recommend 1500, for GPU 3000-4000. The number of trials required can depend\n",
    "on the particular model and processor, so it's worth spending some time\n",
    "evaluating performance across a range of values to find the best balance\n",
    "between tuning time and model optimization. Because running tuning is time\n",
    "intensive we set number of trials to 10, but do not recommend a value this\n",
    "small. The ``early_stopping`` parameter is the minimum number of trails to\n",
    "run before a condition that stops the search early can be applied. The\n",
    "measure option indicates where trial code will be built, and where it will be\n",
    "run. In this case, we're using the ``LocalRunner`` we just created and a\n",
    "``LocalBuilder``. The ``tuning_records`` option specifies a file to write\n",
    "the tuning data to.\n",
    "\n"
   ]
  },
  {
   "cell_type": "code",
   "execution_count": 23,
   "metadata": {},
   "outputs": [],
   "source": [
    "tuning_option = {\n",
    "    \"tuner\": \"xgb\",\n",
    "    \"trials\": 20,\n",
    "    \"early_stopping\": 100,\n",
    "    \"measure_option\": autotvm.measure_option(\n",
    "        builder=autotvm.LocalBuilder(build_func=\"default\"), runner=runner\n",
    "    ),\n",
    "    \"tuning_records\": \"./outputs/fast_deep-autotuning-skylake.json\",\n",
    "}"
   ]
  },
  {
   "cell_type": "markdown",
   "metadata": {},
   "source": [
    ".. admonition:: Defining the Tuning Search Algorithm\n",
    "\n",
    "  By default this search is guided using an `XGBoost Grid` algorithm.\n",
    "  Depending on your model complexity and amount of time available, you might\n",
    "  want to choose a different algorithm.\n",
    "\n"
   ]
  },
  {
   "cell_type": "markdown",
   "metadata": {},
   "source": [
    ".. admonition:: Setting Tuning Parameters\n",
    "\n",
    "  In this example, in the interest of time, we set the number of trials and\n",
    "  early stopping to 10. You will likely see more performance improvements if\n",
    "  you set these values to be higher but this comes at the expense of time\n",
    "  spent tuning. The number of trials required for convergence will vary\n",
    "  depending on the specifics of the model and the target platform.\n",
    "\n"
   ]
  },
  {
   "cell_type": "code",
   "execution_count": 37,
   "metadata": {},
   "outputs": [
    {
     "name": "stdout",
     "output_type": "stream",
     "text": [
      "[Task  1/30]  Current/Best:   37.95/ 217.86 GFLOPS | Progress: (20/20) | 17.06 s Done.\n",
      "[Task  2/30]  Current/Best:   14.88/  27.57 GFLOPS | Progress: (20/20) | 14.85 s Done.\n",
      "[Task  3/30]  Current/Best:  152.31/ 152.31 GFLOPS | Progress: (20/20) | 12.84 s Done.\n",
      "[Task  4/30]  Current/Best:   15.43/  27.71 GFLOPS | Progress: (20/20) | 21.12 s Done.\n",
      "[Task  5/30]  Current/Best:   14.62/ 131.17 GFLOPS | Progress: (20/20) | 13.35 s Done.\n",
      "[Task  6/30]  Current/Best:    9.01/  60.10 GFLOPS | Progress: (20/20) | 13.07 s Done.\n",
      "[Task  7/30]  Current/Best:   38.27/ 132.89 GFLOPS | Progress: (20/20) | 12.65 s Done.\n",
      "[Task  8/30]  Current/Best:   46.51/  64.55 GFLOPS | Progress: (20/20) | 12.34 s Done.\n",
      "[Task  9/30]  Current/Best:   17.51/ 192.59 GFLOPS | Progress: (20/20) | 17.11 s Done.\n",
      "[Task 10/30]  Current/Best:   22.96/  88.14 GFLOPS | Progress: (20/20) | 19.59 s Done.\n",
      "[Task 11/30]  Current/Best:   17.94/ 104.36 GFLOPS | Progress: (20/20) | 17.00 s Done.\n",
      "[Task 13/30]  Current/Best:    0.00/   0.00 GFLOPS | Progress: (0/20) | 0.00 s s Done.\n",
      "[Task 13/30]  Current/Best:   76.04/ 161.73 GFLOPS | Progress: (20/20) | 16.54 s Done.\n",
      "[Task 15/30]  Current/Best:   19.60/ 116.16 GFLOPS | Progress: (20/20) | 13.42 s Done.\n",
      "[Task 17/30]  Current/Best:    0.00/   0.00 GFLOPS | Progress: (0/20) | 0.00 s s Done.\n",
      " Done.\n",
      "[Task 17/30]  Current/Best:   37.09/ 233.91 GFLOPS | Progress: (20/20) | 11.85 s Done.\n",
      "[Task 19/30]  Current/Best:   60.53/ 124.63 GFLOPS | Progress: (20/20) | 12.78 s Done.\n",
      "[Task 20/30]  Current/Best:   25.62/  55.04 GFLOPS | Progress: (20/20) | 65.87 s Done.\n",
      "[Task 21/30]  Current/Best:  128.19/ 165.09 GFLOPS | Progress: (20/20) | 11.00 s Done.\n",
      "[Task 22/30]  Current/Best:   31.85/ 106.02 GFLOPS | Progress: (20/20) | 31.45 s Done.\n",
      "[Task 23/30]  Current/Best:   13.18/ 120.26 GFLOPS | Progress: (20/20) | 10.48 s Done.\n",
      "[Task 24/30]  Current/Best:   75.11/ 151.00 GFLOPS | Progress: (20/20) | 31.84 s Done.\n",
      "[Task 25/30]  Current/Best:   90.30/ 128.19 GFLOPS | Progress: (20/20) | 11.79 s Done.\n",
      "[Task 26/30]  Current/Best:   86.63/ 162.29 GFLOPS | Progress: (8/20) | 18.33 s Done.\n",
      "[Task 26/30]  Current/Best:   50.28/ 162.29 GFLOPS | Progress: (20/20) | 31.13 s Done.\n",
      "[Task 27/30]  Current/Best:   34.87/ 144.79 GFLOPS | Progress: (20/20) | 12.66 s Done.\n",
      "[Task 28/30]  Current/Best:   58.13/ 197.37 GFLOPS | Progress: (20/20) | 24.60 s Done.\n",
      "[Task 29/30]  Current/Best:  141.58/ 141.58 GFLOPS | Progress: (20/20) | 14.39 s Done.\n",
      "[Task 30/30]  Current/Best:   10.44/  10.77 GFLOPS | Progress: (20/20) | 17.23 s Done.\n"
     ]
    }
   ],
   "source": [
    "# begin by extracting the tasks from the onnx model\n",
    "tasks = autotvm.task.extract_from_program(mod[\"main\"], target=target, params=params)\n",
    "\n",
    "# Tune the extracted tasks sequentially.\n",
    "for i, task in enumerate(tasks):\n",
    "    prefix = \"[Task %2d/%2d] \" % (i + 1, len(tasks))\n",
    "    tuner_obj = XGBTuner(task, loss_type=\"rank\")\n",
    "    tuner_obj.tune(\n",
    "        n_trial=min(tuning_option[\"trials\"], len(task.config_space)),\n",
    "        early_stopping=tuning_option[\"early_stopping\"],\n",
    "        measure_option=tuning_option[\"measure_option\"],\n",
    "        callbacks=[\n",
    "            autotvm.callback.progress_bar(tuning_option[\"trials\"], prefix=prefix),\n",
    "            autotvm.callback.log_to_file(tuning_option[\"tuning_records\"]),\n",
    "        ],\n",
    "    )"
   ]
  },
  {
   "cell_type": "code",
   "execution_count": 38,
   "metadata": {},
   "outputs": [],
   "source": [
    "with autotvm.apply_history_best(tuning_option[\"tuning_records\"]):\n",
    "    with tvm.transform.PassContext(opt_level=3, config={}):\n",
    "        lib = relay.build(mod, target=target, params=params)\n",
    "\n",
    "dev = tvm.device(str(target), 0)\n",
    "module = graph_executor.GraphModule(lib[\"default\"](dev))"
   ]
  },
  {
   "cell_type": "markdown",
   "metadata": {},
   "source": [
    "Verify that the optimized model runs and produces the same results:\n",
    "\n"
   ]
  },
  {
   "cell_type": "markdown",
   "metadata": {},
   "source": [
    "## Comparing the Tuned and Untuned Models\n",
    "We want to collect some basic performance data associated with this optimized\n",
    "model to compare it to the unoptimized model. Depending on your underlying\n",
    "hardware, number of iterations, and other factors, you should see a performance\n",
    "improvement in comparing the optimized model to the unoptimized model.\n",
    "\n"
   ]
  },
  {
   "cell_type": "code",
   "execution_count": 39,
   "metadata": {},
   "outputs": [
    {
     "name": "stdout",
     "output_type": "stream",
     "text": [
      "optimized: {'mean': 120.39121126028476, 'median': 118.42482075007865, 'std': 4.41114570647034}\n",
      "unoptimized: {'mean': 115.34919029989396, 'median': 117.45247529979679, 'std': 23.773781935508755}\n"
     ]
    }
   ],
   "source": [
    "import timeit\n",
    "\n",
    "timing_number = 10\n",
    "timing_repeat = 10\n",
    "optimized = (\n",
    "    np.array(timeit.Timer(lambda: module.run()).repeat(repeat=timing_repeat, number=timing_number))\n",
    "    * 1000\n",
    "    / timing_number\n",
    ")\n",
    "optimized = {\"mean\": np.mean(optimized), \"median\": np.median(optimized), \"std\": np.std(optimized)}\n",
    "\n",
    "\n",
    "print(\"optimized: %s\" % (optimized))\n",
    "print(\"unoptimized: %s\" % (unoptimized))"
   ]
  },
  {
   "cell_type": "code",
   "execution_count": null,
   "metadata": {},
   "outputs": [],
   "source": []
  }
 ],
 "metadata": {
  "interpreter": {
   "hash": "4f782c782e2a32bb2802e651bce4745c161372ca597e1c0a908f1fe5f8326707"
  },
  "kernelspec": {
   "display_name": "Python 3.10.7 ('.venv': venv)",
   "language": "python",
   "name": "python3"
  },
  "language_info": {
   "codemirror_mode": {
    "name": "ipython",
    "version": 3
   },
   "file_extension": ".py",
   "mimetype": "text/x-python",
   "name": "python",
   "nbconvert_exporter": "python",
   "pygments_lexer": "ipython3",
   "version": "3.10.7"
  }
 },
 "nbformat": 4,
 "nbformat_minor": 1
}
