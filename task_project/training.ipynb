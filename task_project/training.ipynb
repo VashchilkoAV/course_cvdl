{
 "cells": [
  {
   "cell_type": "code",
   "execution_count": 4,
   "metadata": {},
   "outputs": [],
   "source": [
    "import os\n",
    "import torch\n",
    "import torch.nn as nn\n",
    "import torchvision.models\n",
    "import collections\n",
    "import math\n",
    "import torch.nn.functional as F\n",
    "import imagenet.mobilenet\n",
    "from torch import optim\n",
    "from pathlib import Path\n",
    "\n",
    "import models"
   ]
  },
  {
   "cell_type": "code",
   "execution_count": 6,
   "metadata": {},
   "outputs": [],
   "source": [
    "from dataloaders.nyu import NYUDataset"
   ]
  },
  {
   "cell_type": "code",
   "execution_count": 21,
   "metadata": {},
   "outputs": [],
   "source": [
    "def train(dataset, net=None, criterion=None, optimizer=None, batch_size=8, lr=3e-4, epochs=20, device=None):\n",
    "    log = []\n",
    "    if device is not None:\n",
    "        net.to(device)\n",
    "    \n",
    "    if optimizer is None:\n",
    "        optimizer = optim.Adam(net.parameters(), lr=lr)\n",
    "\n",
    "    trainloader = torch.utils.data.DataLoader(\n",
    "        dataset, batch_size=batch_size, shuffle=True, num_workers=2\n",
    "    )\n",
    "    \n",
    "    stats_step = (len(dataset) // 10 // batch_size) + 1\n",
    "    for epoch in range(epochs):\n",
    "\n",
    "        running_loss = 0.0\n",
    "        for i, data in enumerate(trainloader, 0):\n",
    "            inputs, targets = data\n",
    "            if device is not None:\n",
    "                inputs = inputs.to(device)\n",
    "                targets = targets.to(device)\n",
    "            optimizer.zero_grad()\n",
    "            outputs = net(inputs)\n",
    "            loss = criterion(outputs, targets)\n",
    "            if torch.isnan(loss).any():\n",
    "                warnings.warn(\"nan loss! skip update\")\n",
    "                print(f\"last loss: {loss.item()}\")\n",
    "                break\n",
    "            running_loss += loss.item()\n",
    "            if (i % stats_step == 0):\n",
    "                print(f\"epoch {epoch}|{i}; total loss:{running_loss / stats_step}\")\n",
    "                print(f\"last losses: {loss.item()}\")\n",
    "                log.append(loss.item())\n",
    "                running_loss = 0.0\n",
    "            loss.backward()\n",
    "            optimizer.step()\n",
    "    print('Finished Training')\n",
    "    return net, log"
   ]
  },
  {
   "cell_type": "markdown",
   "metadata": {},
   "source": [
    "# CIFAR pretrain"
   ]
  },
  {
   "cell_type": "code",
   "execution_count": null,
   "metadata": {},
   "outputs": [],
   "source": [
    "from torchvision import transforms"
   ]
  },
  {
   "cell_type": "code",
   "execution_count": null,
   "metadata": {},
   "outputs": [],
   "source": [
    "transform = transforms.Compose(\n",
    "    [transforms.ToTensor(),\n",
    "     transforms.Normalize((0.5, 0.5, 0.5), (0.5, 0.5, 0.5)),\n",
    "    transforms.Resize(228)])\n",
    "\n",
    "imagenet_data = torchvision.datasets.CIFAR100('/DATA/vashchilko/', train=True, transform=transform)"
   ]
  },
  {
   "cell_type": "code",
   "execution_count": null,
   "metadata": {},
   "outputs": [],
   "source": [
    "net = imagenet.mobilenet.MobileNet()\n",
    "lr = 0.001\n",
    "criterion = nn.CrossEntropyLoss()\n",
    "batch_size = 64\n",
    "epochs = 50\n",
    "device = torch.device('cuda:1')"
   ]
  },
  {
   "cell_type": "code",
   "execution_count": null,
   "metadata": {},
   "outputs": [],
   "source": [
    "trained_net, log = train(imagenet_data, net=net, criterion=criterion,\n",
    "                    batch_size=batch_size, lr=lr,\n",
    "                    epochs=epochs, device=device)"
   ]
  },
  {
   "cell_type": "code",
   "execution_count": null,
   "metadata": {},
   "outputs": [],
   "source": [
    "torch.save(trained_net, 'cifar100.pth')"
   ]
  },
  {
   "cell_type": "markdown",
   "metadata": {},
   "source": [
    "# Training on NYUv2"
   ]
  },
  {
   "cell_type": "code",
   "execution_count": 11,
   "metadata": {},
   "outputs": [],
   "source": [
    "base_nyu = Path(\"/DATA/vashchilko/nyudepthv2\")\n",
    "traindir_nyu = base_nyu / 'train'\n",
    "valdir_nyu = base_nyu / 'val'\n",
    "\n",
    "assert traindir_nyu.exists(), \"Set your own path to train\"\n",
    "assert valdir_nyu.exists(), \"Set your own path to val\""
   ]
  },
  {
   "cell_type": "code",
   "execution_count": 12,
   "metadata": {},
   "outputs": [],
   "source": [
    "train_dataset = NYUDataset(traindir_nyu, split='train')"
   ]
  },
  {
   "cell_type": "code",
   "execution_count": 13,
   "metadata": {},
   "outputs": [],
   "source": [
    "net = models.Model(pretrained=True)\n",
    "lr = 0.01\n",
    "optimizer = optim.SGD(net.parameters(), lr=lr, momentum=0.9, weight_decay=0.0001)\n",
    "criterion = nn.MSELoss()\n",
    "batch_size = 8\n",
    "epochs = 12\n",
    "device = torch.device('cuda:1')"
   ]
  },
  {
   "cell_type": "code",
   "execution_count": 22,
   "metadata": {},
   "outputs": [
    {
     "name": "stdout",
     "output_type": "stream",
     "text": [
      "epoch 0|0; total loss:0.0022989452696170936\n",
      "last losses: 1.351779818534851\n",
      "epoch 0|588; total loss:1.272676516197571\n",
      "last losses: 1.5709701776504517\n",
      "epoch 0|1176; total loss:1.1741973229107403\n",
      "last losses: 0.9804214239120483\n",
      "epoch 0|1764; total loss:1.1480169182731992\n",
      "last losses: 1.0093472003936768\n",
      "epoch 0|2352; total loss:1.1585689032969833\n",
      "last losses: 0.6075201034545898\n",
      "epoch 0|2940; total loss:1.1448784498434488\n",
      "last losses: 0.7713473439216614\n",
      "epoch 0|3528; total loss:1.16387495117224\n",
      "last losses: 0.8443320989608765\n",
      "epoch 0|4116; total loss:1.0776419823064285\n",
      "last losses: 1.341620922088623\n",
      "epoch 0|4704; total loss:1.0586539297079554\n",
      "last losses: 0.5733919739723206\n",
      "epoch 0|5292; total loss:1.0722518982935925\n",
      "last losses: 1.2913134098052979\n",
      "epoch 1|0; total loss:0.0014137655091123517\n",
      "last losses: 0.8312941193580627\n",
      "epoch 1|588; total loss:1.076187023956354\n",
      "last losses: 0.8122109770774841\n",
      "epoch 1|1176; total loss:1.0618647486478292\n",
      "last losses: 1.2994384765625\n",
      "epoch 1|1764; total loss:1.0443892186494912\n",
      "last losses: 1.3665410280227661\n",
      "epoch 1|2352; total loss:1.03555982615672\n",
      "last losses: 0.6666501760482788\n",
      "epoch 1|2940; total loss:1.0363239745299022\n",
      "last losses: 0.4677314758300781\n",
      "epoch 1|3528; total loss:1.0771734074366337\n",
      "last losses: 1.3708592653274536\n",
      "epoch 1|4116; total loss:1.0179693924934685\n",
      "last losses: 0.9898979067802429\n",
      "epoch 1|4704; total loss:1.004739706714948\n",
      "last losses: 2.163188934326172\n",
      "epoch 1|5292; total loss:1.0027161902513633\n",
      "last losses: 1.465906023979187\n",
      "epoch 2|0; total loss:0.0016769436346430356\n",
      "last losses: 0.986042857170105\n",
      "epoch 2|588; total loss:0.9997520235424139\n",
      "last losses: 0.47654232382774353\n",
      "epoch 2|1176; total loss:0.9781484266324919\n",
      "last losses: 0.8281500339508057\n",
      "epoch 2|1764; total loss:0.940200246465044\n",
      "last losses: 0.9943988919258118\n",
      "epoch 2|2352; total loss:1.0077678380774804\n",
      "last losses: 0.9961917996406555\n",
      "epoch 2|2940; total loss:0.9310464368385523\n",
      "last losses: 0.9636427164077759\n",
      "epoch 2|3528; total loss:0.971560965235136\n",
      "last losses: 1.002989411354065\n",
      "epoch 2|4116; total loss:0.9505180978552014\n",
      "last losses: 0.7612397074699402\n",
      "epoch 2|4704; total loss:0.967809083206313\n",
      "last losses: 2.200753927230835\n",
      "epoch 2|5292; total loss:0.9488652167829121\n",
      "last losses: 1.241502046585083\n",
      "epoch 3|0; total loss:0.0003667582764106543\n",
      "last losses: 0.21565386652946472\n",
      "epoch 3|588; total loss:0.9271479600242206\n",
      "last losses: 0.7609126567840576\n",
      "epoch 3|1176; total loss:0.9243041334458354\n",
      "last losses: 0.28870251774787903\n",
      "epoch 3|1764; total loss:0.9069816553775145\n",
      "last losses: 0.6761298775672913\n",
      "epoch 3|2352; total loss:0.9384712354869259\n",
      "last losses: 1.1877036094665527\n",
      "epoch 3|2940; total loss:0.9180021489761314\n",
      "last losses: 0.27584773302078247\n",
      "epoch 3|3528; total loss:0.8894752911260339\n",
      "last losses: 0.5105181932449341\n",
      "epoch 3|4116; total loss:0.8965448968771363\n",
      "last losses: 0.6937832832336426\n",
      "epoch 3|4704; total loss:0.8995335683175901\n",
      "last losses: 1.1334373950958252\n",
      "epoch 3|5292; total loss:0.9236898639169681\n",
      "last losses: 1.5402675867080688\n",
      "epoch 4|0; total loss:0.001413002610206604\n",
      "last losses: 0.8308455348014832\n",
      "epoch 4|588; total loss:0.8844337091610139\n",
      "last losses: 0.6739054918289185\n",
      "epoch 4|1176; total loss:0.8788167256988636\n",
      "last losses: 0.7318822145462036\n",
      "epoch 4|1764; total loss:0.8830530573772329\n",
      "last losses: 0.7265401482582092\n",
      "epoch 4|2352; total loss:0.8726700455659911\n",
      "last losses: 0.7702738046646118\n",
      "epoch 4|2940; total loss:0.8782777364308737\n",
      "last losses: 0.9447269439697266\n",
      "epoch 4|3528; total loss:0.8722497979749222\n",
      "last losses: 0.5863922834396362\n",
      "epoch 4|4116; total loss:0.9093728376945265\n",
      "last losses: 1.111474871635437\n",
      "epoch 4|4704; total loss:0.8942253147663713\n",
      "last losses: 0.7154117226600647\n",
      "epoch 4|5292; total loss:0.8331201103370206\n",
      "last losses: 0.4329187870025635\n",
      "epoch 5|0; total loss:0.001112079032424356\n",
      "last losses: 0.6539024710655212\n",
      "epoch 5|588; total loss:0.8754006756761041\n",
      "last losses: 1.2488867044448853\n",
      "epoch 5|1176; total loss:0.8508675915448844\n",
      "last losses: 1.2305811643600464\n",
      "epoch 5|1764; total loss:0.8724782793801658\n",
      "last losses: 0.70646071434021\n",
      "epoch 5|2352; total loss:0.8792069567253396\n",
      "last losses: 0.7191540598869324\n",
      "epoch 5|2940; total loss:0.8212486339010754\n",
      "last losses: 1.4251174926757812\n",
      "epoch 5|3528; total loss:0.8526819505202933\n",
      "last losses: 1.5143636465072632\n",
      "epoch 5|4116; total loss:0.8579120344298632\n",
      "last losses: 0.446957528591156\n",
      "epoch 5|4704; total loss:0.8217875689876323\n",
      "last losses: 0.4521934986114502\n",
      "epoch 5|5292; total loss:0.8388846553355253\n",
      "last losses: 0.7747146487236023\n",
      "epoch 6|0; total loss:0.0005451845778088991\n",
      "last losses: 0.3205685317516327\n",
      "epoch 6|588; total loss:0.8297386354431003\n",
      "last losses: 0.55342036485672\n",
      "epoch 6|1176; total loss:0.802452809500451\n",
      "last losses: 0.5799822211265564\n",
      "epoch 6|1764; total loss:0.8367621335802841\n",
      "last losses: 0.714081883430481\n",
      "epoch 6|2352; total loss:0.8391776338321011\n",
      "last losses: 0.8108562231063843\n",
      "epoch 6|2940; total loss:0.8228293046811406\n",
      "last losses: 1.0200340747833252\n",
      "epoch 6|3528; total loss:0.8074063558612956\n",
      "last losses: 0.646216869354248\n",
      "epoch 6|4116; total loss:0.773358262441799\n",
      "last losses: 0.9506390690803528\n",
      "epoch 6|4704; total loss:0.829856775498309\n",
      "last losses: 0.7802689075469971\n",
      "epoch 6|5292; total loss:0.8272341180111276\n",
      "last losses: 0.7608944773674011\n",
      "epoch 7|0; total loss:0.000864624064795825\n",
      "last losses: 0.5083989500999451\n",
      "epoch 7|588; total loss:0.8125974238172274\n",
      "last losses: 0.7836227416992188\n",
      "epoch 7|1176; total loss:0.8101848476902157\n",
      "last losses: 0.30637696385383606\n",
      "epoch 7|1764; total loss:0.7824852200491088\n",
      "last losses: 0.633194088935852\n",
      "epoch 7|2352; total loss:0.8106932482194333\n",
      "last losses: 0.4209556579589844\n",
      "epoch 7|2940; total loss:0.7836965516868497\n",
      "last losses: 0.6926325559616089\n",
      "epoch 7|3528; total loss:0.7948790821595256\n",
      "last losses: 0.6414442658424377\n",
      "epoch 7|4116; total loss:0.7979600937137393\n",
      "last losses: 0.8291813135147095\n",
      "epoch 7|4704; total loss:0.7855320200830901\n",
      "last losses: 0.7121450901031494\n",
      "epoch 7|5292; total loss:0.822502172165582\n",
      "last losses: 1.382215142250061\n",
      "epoch 8|0; total loss:0.00041961489992887796\n",
      "last losses: 0.24673356115818024\n",
      "epoch 8|588; total loss:0.7824658619708755\n",
      "last losses: 0.9051539897918701\n",
      "epoch 8|1176; total loss:0.7867068985388392\n",
      "last losses: 0.36512506008148193\n",
      "epoch 8|1764; total loss:0.7552263968858589\n",
      "last losses: 1.3452378511428833\n",
      "epoch 8|2352; total loss:0.7773899341977778\n",
      "last losses: 0.695227861404419\n",
      "epoch 8|2940; total loss:0.7614419637437986\n",
      "last losses: 0.44319024682044983\n",
      "epoch 8|3528; total loss:0.7655491983251912\n",
      "last losses: 1.1325838565826416\n",
      "epoch 8|4116; total loss:0.7601974270731008\n",
      "last losses: 0.4708026051521301\n",
      "epoch 8|4704; total loss:0.7518704909147048\n",
      "last losses: 0.6601018905639648\n",
      "epoch 8|5292; total loss:0.7981790886799089\n",
      "last losses: 0.5689306259155273\n",
      "epoch 9|0; total loss:0.002232697748002552\n",
      "last losses: 1.3128262758255005\n",
      "epoch 9|588; total loss:0.8033112642564335\n",
      "last losses: 0.3374963700771332\n",
      "epoch 9|1176; total loss:0.7766792172325306\n",
      "last losses: 0.5788575410842896\n",
      "epoch 9|1764; total loss:0.7490701359652338\n",
      "last losses: 0.5930941104888916\n",
      "epoch 9|2352; total loss:0.746838764775367\n",
      "last losses: 0.4368646740913391\n",
      "epoch 9|2940; total loss:0.7343703962000859\n",
      "last losses: 1.2208963632583618\n",
      "epoch 9|3528; total loss:0.7273017947568374\n",
      "last losses: 0.7968536615371704\n",
      "epoch 9|4116; total loss:0.705869619310105\n",
      "last losses: 0.7031955122947693\n",
      "epoch 9|4704; total loss:0.7098084548551614\n",
      "last losses: 1.1728523969650269\n",
      "epoch 9|5292; total loss:0.7457659605155591\n",
      "last losses: 1.5941834449768066\n",
      "epoch 10|0; total loss:0.0011115391440942985\n",
      "last losses: 0.6535850167274475\n",
      "epoch 10|588; total loss:0.7484787742094118\n",
      "last losses: 1.0926035642623901\n",
      "epoch 10|1176; total loss:0.7466117045557012\n",
      "last losses: 0.6712059378623962\n",
      "epoch 10|1764; total loss:0.7030647116504154\n",
      "last losses: 0.6054374575614929\n",
      "epoch 10|2352; total loss:0.7588510679043069\n",
      "last losses: 1.1274423599243164\n",
      "epoch 10|2940; total loss:0.7495298325812736\n",
      "last losses: 0.6185895204544067\n",
      "epoch 10|3528; total loss:0.6989937797695601\n",
      "last losses: 0.37013548612594604\n",
      "epoch 10|4116; total loss:0.7367932668754033\n",
      "last losses: 1.0847880840301514\n",
      "epoch 10|4704; total loss:0.7243448031850818\n",
      "last losses: 0.4090309143066406\n"
     ]
    },
    {
     "name": "stdout",
     "output_type": "stream",
     "text": [
      "epoch 10|5292; total loss:0.7363154775634104\n",
      "last losses: 0.42832890152931213\n",
      "epoch 11|0; total loss:0.0009531710220842945\n",
      "last losses: 0.5604645609855652\n",
      "epoch 11|588; total loss:0.7320137800408059\n",
      "last losses: 0.9319972991943359\n",
      "epoch 11|1176; total loss:0.7321641900050803\n",
      "last losses: 0.7073490023612976\n",
      "epoch 11|1764; total loss:0.6941001324021087\n",
      "last losses: 0.5526056885719299\n",
      "epoch 11|2352; total loss:0.7264693145494477\n",
      "last losses: 0.42986613512039185\n",
      "epoch 11|2940; total loss:0.7009551628004937\n",
      "last losses: 0.7258827090263367\n",
      "epoch 11|3528; total loss:0.6741669128591917\n",
      "last losses: 0.5318284034729004\n",
      "epoch 11|4116; total loss:0.7436414577928531\n",
      "last losses: 0.23696409165859222\n",
      "epoch 11|4704; total loss:0.7173741170946433\n",
      "last losses: 0.7604120969772339\n",
      "epoch 11|5292; total loss:0.6813082226938536\n",
      "last losses: 0.4934251606464386\n",
      "Finished Training\n",
      "CPU times: user 1h 14min 59s, sys: 6min 52s, total: 1h 21min 51s\n",
      "Wall time: 4h 4min 9s\n"
     ]
    }
   ],
   "source": [
    "%%time\n",
    "trained_net, log = train(train_dataset, net=net, criterion=criterion,\n",
    "                    batch_size=batch_size, lr=lr,\n",
    "                    epochs=epochs, device=device)"
   ]
  },
  {
   "cell_type": "code",
   "execution_count": 23,
   "metadata": {},
   "outputs": [],
   "source": [
    "#torch.save(trained_net, 'trained2.pth')"
   ]
  },
  {
   "cell_type": "code",
   "execution_count": 24,
   "metadata": {},
   "outputs": [],
   "source": [
    "torch.save(trained_net.state_dict(), 'trained2_state.pth')"
   ]
  },
  {
   "cell_type": "code",
   "execution_count": 26,
   "metadata": {},
   "outputs": [],
   "source": [
    "import numpy as np\n",
    "np.save('trainlog', np.array(log))"
   ]
  },
  {
   "cell_type": "code",
   "execution_count": 27,
   "metadata": {},
   "outputs": [],
   "source": [
    "import matplotlib.pyplot as plt"
   ]
  },
  {
   "cell_type": "code",
   "execution_count": 39,
   "metadata": {},
   "outputs": [
    {
     "data": {
      "text/plain": [
       "Text(0, 0.5, 'MSE loss')"
      ]
     },
     "execution_count": 39,
     "metadata": {},
     "output_type": "execute_result"
    },
    {
     "data": {
      "image/png": "[encoded data removed]",
      "text/plain": [
       "<Figure size 640x480 with 1 Axes>"
      ]
     },
     "metadata": {},
     "output_type": "display_data"
    }
   ],
   "source": [
    "plt.plot(log)\n",
    "plt.xlabel('step')\n",
    "plt.ylabel('MSE loss')"
   ]
  },
  {
   "cell_type": "code",
   "execution_count": null,
   "metadata": {},
   "outputs": [],
   "source": []
  }
 ],
 "metadata": {
  "kernelspec": {
   "display_name": ".venv",
   "language": "python",
   "name": ".venv"
  },
  "language_info": {
   "codemirror_mode": {
    "name": "ipython",
    "version": 3
   },
   "file_extension": ".py",
   "mimetype": "text/x-python",
   "name": "python",
   "nbconvert_exporter": "python",
   "pygments_lexer": "ipython3",
   "version": "3.8.10"
  }
 },
 "nbformat": 4,
 "nbformat_minor": 4
}
